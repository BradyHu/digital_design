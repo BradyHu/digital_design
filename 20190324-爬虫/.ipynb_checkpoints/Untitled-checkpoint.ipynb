{
 "cells": [
  {
   "cell_type": "markdown",
   "metadata": {},
   "source": [
    "# python 基本功"
   ]
  },
  {
   "cell_type": "markdown",
   "metadata": {},
   "source": [
    "## 变量"
   ]
  },
  {
   "cell_type": "code",
   "execution_count": 1,
   "metadata": {},
   "outputs": [],
   "source": [
    "answer = 42"
   ]
  },
  {
   "cell_type": "code",
   "execution_count": 5,
   "metadata": {},
   "outputs": [
    {
     "name": "stdout",
     "output_type": "stream",
     "text": [
      "42\n"
     ]
    }
   ],
   "source": [
    "print(answer)"
   ]
  },
  {
   "cell_type": "markdown",
   "metadata": {},
   "source": [
    "## 数据类型-数字"
   ]
  },
  {
   "cell_type": "code",
   "execution_count": 6,
   "metadata": {},
   "outputs": [],
   "source": [
    "a = 3\n",
    "b = 4.2\n",
    "c = 5.0"
   ]
  },
  {
   "cell_type": "code",
   "execution_count": 7,
   "metadata": {},
   "outputs": [
    {
     "name": "stdout",
     "output_type": "stream",
     "text": [
      "<class 'int'> <class 'float'> <class 'float'>\n"
     ]
    }
   ],
   "source": [
    "print(type(a),type(b),type(c))"
   ]
  },
  {
   "cell_type": "markdown",
   "metadata": {},
   "source": [
    "## 数据类型-字符串"
   ]
  },
  {
   "cell_type": "code",
   "execution_count": 8,
   "metadata": {},
   "outputs": [],
   "source": [
    "s = \"Brady\""
   ]
  },
  {
   "cell_type": "code",
   "execution_count": 9,
   "metadata": {},
   "outputs": [
    {
     "data": {
      "text/plain": [
       "'ad'"
      ]
     },
     "execution_count": 9,
     "metadata": {},
     "output_type": "execute_result"
    }
   ],
   "source": [
    "s[2:4]"
   ]
  },
  {
   "cell_type": "code",
   "execution_count": 10,
   "metadata": {},
   "outputs": [],
   "source": [
    "s_2 = 'Hu'"
   ]
  },
  {
   "cell_type": "code",
   "execution_count": 11,
   "metadata": {},
   "outputs": [
    {
     "data": {
      "text/plain": [
       "'BradyHu'"
      ]
     },
     "execution_count": 11,
     "metadata": {},
     "output_type": "execute_result"
    }
   ],
   "source": [
    "s+s_2"
   ]
  },
  {
   "cell_type": "code",
   "execution_count": 12,
   "metadata": {},
   "outputs": [
    {
     "data": {
      "text/plain": [
       "'My name is brady'"
      ]
     },
     "execution_count": 12,
     "metadata": {},
     "output_type": "execute_result"
    }
   ],
   "source": [
    "\"My name is {}\".format(s.lower())"
   ]
  },
  {
   "cell_type": "markdown",
   "metadata": {},
   "source": [
    "## 数据类型-布尔值"
   ]
  },
  {
   "cell_type": "code",
   "execution_count": 13,
   "metadata": {},
   "outputs": [],
   "source": [
    "t = True\n",
    "f = False"
   ]
  },
  {
   "cell_type": "code",
   "execution_count": 14,
   "metadata": {
    "scrolled": true
   },
   "outputs": [
    {
     "data": {
      "text/plain": [
       "True"
      ]
     },
     "execution_count": 14,
     "metadata": {},
     "output_type": "execute_result"
    }
   ],
   "source": [
    "1==1"
   ]
  },
  {
   "cell_type": "code",
   "execution_count": 18,
   "metadata": {},
   "outputs": [
    {
     "data": {
      "text/plain": [
       "False"
      ]
     },
     "execution_count": 18,
     "metadata": {},
     "output_type": "execute_result"
    }
   ],
   "source": [
    "True and False"
   ]
  },
  {
   "cell_type": "code",
   "execution_count": 19,
   "metadata": {},
   "outputs": [
    {
     "data": {
      "text/plain": [
       "True"
      ]
     },
     "execution_count": 19,
     "metadata": {},
     "output_type": "execute_result"
    }
   ],
   "source": [
    "True or False"
   ]
  },
  {
   "cell_type": "code",
   "execution_count": 20,
   "metadata": {},
   "outputs": [
    {
     "data": {
      "text/plain": [
       "False"
      ]
     },
     "execution_count": 20,
     "metadata": {},
     "output_type": "execute_result"
    }
   ],
   "source": [
    "not True"
   ]
  },
  {
   "cell_type": "markdown",
   "metadata": {},
   "source": [
    "## 数据类型-空值"
   ]
  },
  {
   "cell_type": "code",
   "execution_count": 21,
   "metadata": {},
   "outputs": [],
   "source": [
    "None"
   ]
  },
  {
   "cell_type": "code",
   "execution_count": 23,
   "metadata": {},
   "outputs": [
    {
     "data": {
      "text/plain": [
       "NoneType"
      ]
     },
     "execution_count": 23,
     "metadata": {},
     "output_type": "execute_result"
    }
   ],
   "source": [
    "type(None)"
   ]
  },
  {
   "cell_type": "code",
   "execution_count": 24,
   "metadata": {},
   "outputs": [
    {
     "data": {
      "text/plain": [
       "False"
      ]
     },
     "execution_count": 24,
     "metadata": {},
     "output_type": "execute_result"
    }
   ],
   "source": [
    "None ==''"
   ]
  },
  {
   "cell_type": "markdown",
   "metadata": {},
   "source": [
    "## 数据结构-列表"
   ]
  },
  {
   "cell_type": "code",
   "execution_count": 25,
   "metadata": {},
   "outputs": [],
   "source": [
    "lst = [1,5,3,8]"
   ]
  },
  {
   "cell_type": "code",
   "execution_count": 26,
   "metadata": {},
   "outputs": [],
   "source": [
    "lst.append(4)"
   ]
  },
  {
   "cell_type": "code",
   "execution_count": 27,
   "metadata": {},
   "outputs": [
    {
     "data": {
      "text/plain": [
       "[1, 5, 3, 8, 4]"
      ]
     },
     "execution_count": 27,
     "metadata": {},
     "output_type": "execute_result"
    }
   ],
   "source": [
    "lst"
   ]
  },
  {
   "cell_type": "code",
   "execution_count": 28,
   "metadata": {},
   "outputs": [
    {
     "data": {
      "text/plain": [
       "[3, 8]"
      ]
     },
     "execution_count": 28,
     "metadata": {},
     "output_type": "execute_result"
    }
   ],
   "source": [
    "lst[2:4]"
   ]
  },
  {
   "cell_type": "code",
   "execution_count": 29,
   "metadata": {},
   "outputs": [],
   "source": [
    "lst.remove(5)"
   ]
  },
  {
   "cell_type": "code",
   "execution_count": 30,
   "metadata": {},
   "outputs": [
    {
     "data": {
      "text/plain": [
       "[1, 3, 8, 4]"
      ]
     },
     "execution_count": 30,
     "metadata": {},
     "output_type": "execute_result"
    }
   ],
   "source": [
    "lst"
   ]
  },
  {
   "cell_type": "code",
   "execution_count": 31,
   "metadata": {},
   "outputs": [],
   "source": [
    "lst.sort()"
   ]
  },
  {
   "cell_type": "code",
   "execution_count": 32,
   "metadata": {},
   "outputs": [
    {
     "data": {
      "text/plain": [
       "[1, 3, 4, 8]"
      ]
     },
     "execution_count": 32,
     "metadata": {},
     "output_type": "execute_result"
    }
   ],
   "source": [
    "lst"
   ]
  },
  {
   "cell_type": "code",
   "execution_count": 33,
   "metadata": {},
   "outputs": [
    {
     "data": {
      "text/plain": [
       "True"
      ]
     },
     "execution_count": 33,
     "metadata": {},
     "output_type": "execute_result"
    }
   ],
   "source": [
    "3 in lst"
   ]
  },
  {
   "cell_type": "code",
   "execution_count": 34,
   "metadata": {},
   "outputs": [
    {
     "data": {
      "text/plain": [
       "False"
      ]
     },
     "execution_count": 34,
     "metadata": {},
     "output_type": "execute_result"
    }
   ],
   "source": [
    "5 in lst"
   ]
  },
  {
   "cell_type": "code",
   "execution_count": 36,
   "metadata": {},
   "outputs": [
    {
     "data": {
      "text/plain": [
       "2"
      ]
     },
     "execution_count": 36,
     "metadata": {},
     "output_type": "execute_result"
    }
   ],
   "source": [
    "lst.index(4)"
   ]
  },
  {
   "cell_type": "markdown",
   "metadata": {},
   "source": [
    "## 数据结构-元组"
   ]
  },
  {
   "cell_type": "code",
   "execution_count": 39,
   "metadata": {},
   "outputs": [],
   "source": [
    "classmates = ('Michael', 'Bob', 'Tracy')"
   ]
  },
  {
   "cell_type": "code",
   "execution_count": 40,
   "metadata": {},
   "outputs": [
    {
     "data": {
      "text/plain": [
       "('Michael', 'Bob', 'Tracy')"
      ]
     },
     "execution_count": 40,
     "metadata": {},
     "output_type": "execute_result"
    }
   ],
   "source": [
    "classmates"
   ]
  },
  {
   "cell_type": "code",
   "execution_count": 41,
   "metadata": {},
   "outputs": [
    {
     "ename": "TypeError",
     "evalue": "'tuple' object does not support item assignment",
     "output_type": "error",
     "traceback": [
      "\u001b[1;31m---------------------------------------------------------------------------\u001b[0m",
      "\u001b[1;31mTypeError\u001b[0m                                 Traceback (most recent call last)",
      "\u001b[1;32m<ipython-input-41-ab2bcaffe7fc>\u001b[0m in \u001b[0;36m<module>\u001b[1;34m()\u001b[0m\n\u001b[1;32m----> 1\u001b[1;33m \u001b[0mclassmates\u001b[0m\u001b[1;33m[\u001b[0m\u001b[1;36m0\u001b[0m\u001b[1;33m]\u001b[0m\u001b[1;33m=\u001b[0m\u001b[1;34m'Brady'\u001b[0m\u001b[1;33m\u001b[0m\u001b[0m\n\u001b[0m",
      "\u001b[1;31mTypeError\u001b[0m: 'tuple' object does not support item assignment"
     ]
    }
   ],
   "source": [
    "classmates[0]='Brady'"
   ]
  },
  {
   "cell_type": "code",
   "execution_count": 42,
   "metadata": {},
   "outputs": [
    {
     "data": {
      "text/plain": [
       "('Michael', 'Bob', 'Tracy')"
      ]
     },
     "execution_count": 42,
     "metadata": {},
     "output_type": "execute_result"
    }
   ],
   "source": [
    "classmates"
   ]
  },
  {
   "cell_type": "markdown",
   "metadata": {},
   "source": [
    "## 数据结构-字典"
   ]
  },
  {
   "cell_type": "code",
   "execution_count": 44,
   "metadata": {},
   "outputs": [],
   "source": [
    "d = {'Michael': 95, 'Bob': 75, 'Tracy': 85}"
   ]
  },
  {
   "cell_type": "code",
   "execution_count": 45,
   "metadata": {},
   "outputs": [
    {
     "data": {
      "text/plain": [
       "{'Bob': 75, 'Michael': 95, 'Tracy': 85}"
      ]
     },
     "execution_count": 45,
     "metadata": {},
     "output_type": "execute_result"
    }
   ],
   "source": [
    "d"
   ]
  },
  {
   "cell_type": "code",
   "execution_count": 46,
   "metadata": {},
   "outputs": [
    {
     "data": {
      "text/plain": [
       "95"
      ]
     },
     "execution_count": 46,
     "metadata": {},
     "output_type": "execute_result"
    }
   ],
   "source": [
    "d['Michael']"
   ]
  },
  {
   "cell_type": "code",
   "execution_count": 47,
   "metadata": {},
   "outputs": [],
   "source": [
    "d['Adam']=67"
   ]
  },
  {
   "cell_type": "code",
   "execution_count": 48,
   "metadata": {},
   "outputs": [
    {
     "data": {
      "text/plain": [
       "{'Adam': 67, 'Bob': 75, 'Michael': 95, 'Tracy': 85}"
      ]
     },
     "execution_count": 48,
     "metadata": {},
     "output_type": "execute_result"
    }
   ],
   "source": [
    "d"
   ]
  },
  {
   "cell_type": "code",
   "execution_count": 49,
   "metadata": {},
   "outputs": [
    {
     "data": {
      "text/plain": [
       "75"
      ]
     },
     "execution_count": 49,
     "metadata": {},
     "output_type": "execute_result"
    }
   ],
   "source": [
    "d.pop(\"Bob\")"
   ]
  },
  {
   "cell_type": "code",
   "execution_count": 50,
   "metadata": {},
   "outputs": [
    {
     "data": {
      "text/plain": [
       "{'Adam': 67, 'Michael': 95, 'Tracy': 85}"
      ]
     },
     "execution_count": 50,
     "metadata": {},
     "output_type": "execute_result"
    }
   ],
   "source": [
    "d"
   ]
  },
  {
   "cell_type": "code",
   "execution_count": 77,
   "metadata": {},
   "outputs": [
    {
     "data": {
      "text/plain": [
       "dict_keys(['Michael', 'Tracy', 'Adam'])"
      ]
     },
     "execution_count": 77,
     "metadata": {},
     "output_type": "execute_result"
    }
   ],
   "source": [
    "d.keys()"
   ]
  },
  {
   "cell_type": "code",
   "execution_count": 78,
   "metadata": {},
   "outputs": [
    {
     "data": {
      "text/plain": [
       "dict_values([95, 85, 67])"
      ]
     },
     "execution_count": 78,
     "metadata": {},
     "output_type": "execute_result"
    }
   ],
   "source": [
    "d.values()"
   ]
  },
  {
   "attachments": {},
   "cell_type": "markdown",
   "metadata": {},
   "source": [
    "**Warning: dict内部存放的顺序和key放入的顺序是没有关系的。**"
   ]
  },
  {
   "cell_type": "markdown",
   "metadata": {},
   "source": [
    "## 数据结构-集合"
   ]
  },
  {
   "cell_type": "code",
   "execution_count": 51,
   "metadata": {},
   "outputs": [],
   "source": [
    "s = set([1,1,2,2,3,4,5])"
   ]
  },
  {
   "cell_type": "code",
   "execution_count": 52,
   "metadata": {},
   "outputs": [
    {
     "data": {
      "text/plain": [
       "{1, 2, 3, 4, 5}"
      ]
     },
     "execution_count": 52,
     "metadata": {},
     "output_type": "execute_result"
    }
   ],
   "source": [
    "s"
   ]
  },
  {
   "cell_type": "code",
   "execution_count": 53,
   "metadata": {},
   "outputs": [],
   "source": [
    "s.add(6)"
   ]
  },
  {
   "cell_type": "code",
   "execution_count": 54,
   "metadata": {},
   "outputs": [
    {
     "data": {
      "text/plain": [
       "{1, 2, 3, 4, 5, 6}"
      ]
     },
     "execution_count": 54,
     "metadata": {},
     "output_type": "execute_result"
    }
   ],
   "source": [
    "s"
   ]
  },
  {
   "cell_type": "code",
   "execution_count": 55,
   "metadata": {},
   "outputs": [],
   "source": [
    "s.add(5)"
   ]
  },
  {
   "cell_type": "code",
   "execution_count": 56,
   "metadata": {},
   "outputs": [
    {
     "data": {
      "text/plain": [
       "{1, 2, 3, 4, 5, 6}"
      ]
     },
     "execution_count": 56,
     "metadata": {},
     "output_type": "execute_result"
    }
   ],
   "source": [
    "s"
   ]
  },
  {
   "cell_type": "code",
   "execution_count": 57,
   "metadata": {},
   "outputs": [],
   "source": [
    "s.remove(5)"
   ]
  },
  {
   "cell_type": "code",
   "execution_count": 58,
   "metadata": {},
   "outputs": [
    {
     "data": {
      "text/plain": [
       "{1, 2, 3, 4, 6}"
      ]
     },
     "execution_count": 58,
     "metadata": {},
     "output_type": "execute_result"
    }
   ],
   "source": [
    "s"
   ]
  },
  {
   "cell_type": "code",
   "execution_count": 59,
   "metadata": {},
   "outputs": [],
   "source": [
    "s1 = set([1,2,3])\n",
    "s2 = set([2,3,4])"
   ]
  },
  {
   "cell_type": "code",
   "execution_count": 60,
   "metadata": {},
   "outputs": [
    {
     "data": {
      "text/plain": [
       "{2, 3}"
      ]
     },
     "execution_count": 60,
     "metadata": {},
     "output_type": "execute_result"
    }
   ],
   "source": [
    "s1 & s2"
   ]
  },
  {
   "cell_type": "code",
   "execution_count": 61,
   "metadata": {},
   "outputs": [
    {
     "data": {
      "text/plain": [
       "{1, 2, 3, 4}"
      ]
     },
     "execution_count": 61,
     "metadata": {},
     "output_type": "execute_result"
    }
   ],
   "source": [
    "s1 | s2"
   ]
  },
  {
   "cell_type": "code",
   "execution_count": 62,
   "metadata": {},
   "outputs": [
    {
     "data": {
      "text/plain": [
       "{1}"
      ]
     },
     "execution_count": 62,
     "metadata": {},
     "output_type": "execute_result"
    }
   ],
   "source": [
    "s1 - s2"
   ]
  },
  {
   "cell_type": "markdown",
   "metadata": {},
   "source": [
    "## 条件、循环"
   ]
  },
  {
   "cell_type": "code",
   "execution_count": 66,
   "metadata": {},
   "outputs": [
    {
     "name": "stdout",
     "output_type": "stream",
     "text": [
      "the number is 1\n"
     ]
    }
   ],
   "source": [
    "a =1\n",
    "if a==1:\n",
    "    print('the number is 1')\n",
    "elif a==2:\n",
    "    print('the number is 2')\n",
    "else:\n",
    "    print('the number is not 1 or 2, it is {}'.format(a))\n"
   ]
  },
  {
   "cell_type": "code",
   "execution_count": 67,
   "metadata": {},
   "outputs": [
    {
     "name": "stdout",
     "output_type": "stream",
     "text": [
      "21\n"
     ]
    }
   ],
   "source": [
    "a = [1,2,3,4,5,6]\n",
    "ans=0\n",
    "for item in a:\n",
    "    ans=ans+item\n",
    "print(ans)"
   ]
  },
  {
   "cell_type": "code",
   "execution_count": 69,
   "metadata": {},
   "outputs": [
    {
     "name": "stdout",
     "output_type": "stream",
     "text": [
      "16384\n"
     ]
    }
   ],
   "source": [
    "# 第一个比10000大的数\n",
    "ans = 1\n",
    "while ans<10000:\n",
    "    ans=ans*2\n",
    "print(ans)"
   ]
  },
  {
   "cell_type": "markdown",
   "metadata": {},
   "source": [
    "## 定义函数"
   ]
  },
  {
   "cell_type": "code",
   "execution_count": 70,
   "metadata": {},
   "outputs": [],
   "source": [
    "import math\n",
    "def quadratic(a, b, c):\n",
    "    delta = b**2-4*a*c\n",
    "    if delta<0:\n",
    "        return None,None\n",
    "    else:\n",
    "        x1 = (-b+math.sqrt(delta))/2\n",
    "        x2 = (-b-math.sqrt(delta))/2\n",
    "        return x1,x2"
   ]
  },
  {
   "cell_type": "code",
   "execution_count": 72,
   "metadata": {},
   "outputs": [
    {
     "data": {
      "text/plain": [
       "(4.830951894845301, -6.830951894845301)"
      ]
     },
     "execution_count": 72,
     "metadata": {},
     "output_type": "execute_result"
    }
   ],
   "source": [
    "quadratic(3,2,-11)"
   ]
  },
  {
   "cell_type": "markdown",
   "metadata": {},
   "source": [
    "# 网页基本知识"
   ]
  },
  {
   "cell_type": "code",
   "execution_count": 81,
   "metadata": {},
   "outputs": [],
   "source": [
    "import requests\n",
    "\n",
    "headers = {\n",
    "    'User-Agent': 'Mozilla/5.0 (Windows NT 10.0; Win64; x64) AppleWebKit/537.36 (KHTML, like Gecko) Chrome/72.0.3626.121 Safari/537.36',\n",
    "    'Referer': 'http://piaofang.maoyan.com/dashboard',\n",
    "    'Origin': 'http://piaofang.maoyan.com',\n",
    "}\n",
    "\n",
    "response = requests.get('https://box.maoyan.com/promovie/api/box/second.json', headers=headers)"
   ]
  },
  {
   "cell_type": "code",
   "execution_count": 82,
   "metadata": {},
   "outputs": [
    {
     "data": {
      "text/plain": [
       "<Response [200]>"
      ]
     },
     "execution_count": 82,
     "metadata": {},
     "output_type": "execute_result"
    }
   ],
   "source": [
    "response"
   ]
  },
  {
   "cell_type": "code",
   "execution_count": 83,
   "metadata": {
    "scrolled": false
   },
   "outputs": [
    {
     "data": {
      "text/plain": [
       "'{\"success\":true,\"data\":{\"updateInfo\":\"北京时间 15:12:03\",\"totalBoxUnitInfo\":\"万\",\"splitTotalBox\":\"3947.9\",\"serverTimestamp\":1552979523000,\"crystal\":{\"maoyanViewInfo\":\"69.7\",\"status\":1,\"viewInfo\":\"137.2\",\"viewUnitInfo\":\"万张\"},\"totalBoxInfo\":\"4395.7\",\"list\":[{\"avgSeatView\":\"6.0%\",\"avgShowView\":\"8\",\"avgViewBox\":\"30.9\",\"boxInfo\":\"3088.78\",\"boxRate\":\"70.2%\",\"movieId\":1216383,\"movieName\":\"比悲伤更悲伤的故事\",\"myRefundNumInfo\":\"--\",\"myRefundRateInfo\":\"--\",\"onlineBoxRate\":\"--\",\"refundViewInfo\":\"--\",\"refundViewRate\":\"--\",\"releaseInfo\":\"上映6天\",\"releaseInfoColor\":\"#666666 1.00\",\"seatRate\":\"45.6%\",\"showInfo\":\"135007\",\"showRate\":\"42.8%\",\"splitAvgViewBox\":\"27.6\",\"splitBoxInfo\":\"2756.55\",\"splitBoxRate\":\"69.8%\",\"splitSumBoxInfo\":\"4.14亿\",\"sumBoxInfo\":\"4.64亿\",\"viewInfo\":\"99.7\",\"viewInfoV2\":\"99.7万\"},{\"avgSeatView\":\"2.7%\",\"avgShowView\":\"3\",\"avgViewBox\":\"36.9\",\"boxInfo\":\"554.07\",\"boxRate\":\"12.6%\",\"movieId\":341139,\"movieName\":\"惊奇队长\",\"myRefundNumInfo\":\"--\",\"myRefundRateInfo\":\"--\",\"onlineBoxRate\":\"--\",\"refundViewInfo\":\"--\",\"refundViewRate\":\"--\",\"releaseInfo\":\"上映12天\",\"releaseInfoColor\":\"#666666 1.00\",\"seatRate\":\"26.5%\",\"showInfo\":\"69831\",\"showRate\":\"22.1%\",\"splitAvgViewBox\":\"33.8\",\"splitBoxInfo\":\"507.64\",\"splitBoxRate\":\"12.8%\",\"splitSumBoxInfo\":\"8.34亿\",\"sumBoxInfo\":\"9.05亿\",\"viewInfo\":\"14.9\",\"viewInfoV2\":\"14.9万\"},{\"avgSeatView\":\"3.5%\",\"avgShowView\":\"3\",\"avgViewBox\":\"33.3\",\"boxInfo\":\"314.66\",\"boxRate\":\"7.1%\",\"movieId\":1206605,\"movieName\":\"绿皮书\",\"myRefundNumInfo\":\"--\",\"myRefundRateInfo\":\"--\",\"onlineBoxRate\":\"--\",\"refundViewInfo\":\"--\",\"refundViewRate\":\"--\",\"releaseInfo\":\"上映19天\",\"releaseInfoColor\":\"#666666 1.00\",\"seatRate\":\"8.9%\",\"showInfo\":\"33119\",\"showRate\":\"10.5%\",\"splitAvgViewBox\":\"30.0\",\"splitBoxInfo\":\"283.95\",\"splitBoxRate\":\"7.1%\",\"splitSumBoxInfo\":\"3.78亿\",\"sumBoxInfo\":\"4.19亿\",\"viewInfo\":\"9.4\",\"viewInfoV2\":\"9.4万\"},{\"avgSeatView\":\"3.1%\",\"avgShowView\":\"2\",\"avgViewBox\":\"31.5\",\"boxInfo\":\"75.11\",\"boxRate\":\"1.7%\",\"movieId\":1220571,\"movieName\":\"我的英雄学院：两位英雄\",\"myRefundNumInfo\":\"--\",\"myRefundRateInfo\":\"--\",\"onlineBoxRate\":\"--\",\"refundViewInfo\":\"--\",\"refundViewRate\":\"--\",\"releaseInfo\":\"上映5天\",\"releaseInfoColor\":\"#666666 1.00\",\"seatRate\":\"4.3%\",\"showInfo\":\"17271\",\"showRate\":\"5.4%\",\"splitAvgViewBox\":\"28.2\",\"splitBoxInfo\":\"67.37\",\"splitBoxRate\":\"1.7%\",\"splitSumBoxInfo\":\"3067.9万\",\"sumBoxInfo\":\"3411.5万\",\"viewInfo\":\"2.3\",\"viewInfoV2\":\"2.3万\"},{\"avgSeatView\":\"3.8%\",\"avgShowView\":\"3\",\"avgViewBox\":\"33.4\",\"boxInfo\":\"75.01\",\"boxRate\":\"1.7%\",\"movieId\":248906,\"movieName\":\"流浪地球\",\"myRefundNumInfo\":\"--\",\"myRefundRateInfo\":\"--\",\"onlineBoxRate\":\"--\",\"refundViewInfo\":\"--\",\"refundViewRate\":\"--\",\"releaseInfo\":\"上映43天\",\"releaseInfoColor\":\"#666666 1.00\",\"seatRate\":\"2.7%\",\"showInfo\":\"11112\",\"showRate\":\"3.5%\",\"splitAvgViewBox\":\"30.7\",\"splitBoxInfo\":\"68.89\",\"splitBoxRate\":\"1.7%\",\"splitSumBoxInfo\":\"43.10亿\",\"sumBoxInfo\":\"46.34亿\",\"viewInfo\":\"2.2\",\"viewInfoV2\":\"2.2万\"},{\"avgSeatView\":\"3.2%\",\"avgShowView\":\"2\",\"avgViewBox\":\"35.6\",\"boxInfo\":\"60.94\",\"boxRate\":\"1.3%\",\"movieId\":410629,\"movieName\":\"阿丽塔：战斗天使\",\"myRefundNumInfo\":\"--\",\"myRefundRateInfo\":\"--\",\"onlineBoxRate\":\"--\",\"refundViewInfo\":\"--\",\"refundViewRate\":\"--\",\"releaseInfo\":\"上映26天\",\"releaseInfoColor\":\"#666666 1.00\",\"seatRate\":\"2.4%\",\"showInfo\":\"9750\",\"showRate\":\"3.0%\",\"splitAvgViewBox\":\"32.4\",\"splitBoxInfo\":\"55.49\",\"splitBoxRate\":\"1.4%\",\"splitSumBoxInfo\":\"8.10亿\",\"sumBoxInfo\":\"8.86亿\",\"viewInfo\":\"1.7\",\"viewInfoV2\":\"1.7万\"},{\"avgSeatView\":\"3.4%\",\"avgShowView\":\"2\",\"avgViewBox\":\"34.0\",\"boxInfo\":\"47.18\",\"boxRate\":\"1.0%\",\"movieId\":247295,\"movieName\":\"驯龙高手3\",\"myRefundNumInfo\":\"--\",\"myRefundRateInfo\":\"--\",\"onlineBoxRate\":\"--\",\"refundViewInfo\":\"--\",\"refundViewRate\":\"--\",\"releaseInfo\":\"上映19天\",\"releaseInfoColor\":\"#666666 1.00\",\"seatRate\":\"2.0%\",\"showInfo\":\"8328\",\"showRate\":\"2.6%\",\"splitAvgViewBox\":\"31.2\",\"splitBoxInfo\":\"43.26\",\"splitBoxRate\":\"1.0%\",\"splitSumBoxInfo\":\"3.23亿\",\"sumBoxInfo\":\"3.52亿\",\"viewInfo\":\"1.3\",\"viewInfoV2\":\"1.3万\"},{\"avgSeatView\":\"3.5%\",\"avgShowView\":\"2\",\"avgViewBox\":\"30.0\",\"boxInfo\":\"43.53\",\"boxRate\":\"0.9%\",\"movieId\":1250341,\"movieName\":\"夏目友人帐\",\"myRefundNumInfo\":\"--\",\"myRefundRateInfo\":\"--\",\"onlineBoxRate\":\"--\",\"refundViewInfo\":\"--\",\"refundViewRate\":\"--\",\"releaseInfo\":\"上映13天\",\"releaseInfoColor\":\"#666666 1.00\",\"seatRate\":\"1.8%\",\"showInfo\":\"8182\",\"showRate\":\"2.5%\",\"splitAvgViewBox\":\"26.9\",\"splitBoxInfo\":\"39.12\",\"splitBoxRate\":\"0.9%\",\"splitSumBoxInfo\":\"9901.0万\",\"sumBoxInfo\":\"1.10亿\",\"viewInfo\":\"1.4\",\"viewInfoV2\":\"1.4万\"},{\"avgSeatView\":\"3.6%\",\"avgShowView\":\"2\",\"avgViewBox\":\"34.7\",\"boxInfo\":\"36.44\",\"boxRate\":\"0.8%\",\"movieId\":1229799,\"movieName\":\"过春天\",\"myRefundNumInfo\":\"--\",\"myRefundRateInfo\":\"--\",\"onlineBoxRate\":\"--\",\"refundViewInfo\":\"--\",\"refundViewRate\":\"--\",\"releaseInfo\":\"上映5天\",\"releaseInfoColor\":\"#666666 1.00\",\"seatRate\":\"1.3%\",\"showInfo\":\"5882\",\"showRate\":\"1.8%\",\"splitAvgViewBox\":\"31.7\",\"splitBoxInfo\":\"33.27\",\"splitBoxRate\":\"0.8%\",\"splitSumBoxInfo\":\"713.1万\",\"sumBoxInfo\":\"774.6万\",\"viewInfo\":\"1.0\",\"viewInfoV2\":\"1.0万\"},{\"avgSeatView\":\"3.5%\",\"avgShowView\":\"3\",\"avgViewBox\":\"37.4\",\"boxInfo\":\"30.01\",\"boxRate\":\"0.6%\",\"movieId\":1212492,\"movieName\":\"老师·好\",\"myRefundNumInfo\":\"--\",\"myRefundRateInfo\":\"--\",\"onlineBoxRate\":\"--\",\"refundViewInfo\":\"--\",\"refundViewRate\":\"--\",\"releaseInfo\":\"点映\",\"releaseInfoColor\":\"#FF9900 1.00\",\"seatRate\":\"0.8%\",\"showInfo\":\"2784\",\"showRate\":\"0.8%\",\"splitAvgViewBox\":\"33.9\",\"splitBoxInfo\":\"27.19\",\"splitBoxRate\":\"0.6%\",\"splitSumBoxInfo\":\"224.6万\",\"sumBoxInfo\":\"234.7万\",\"viewInfo\":\"0.8\",\"viewInfoV2\":\"8012\"},{\"avgSeatView\":\"8.6%\",\"avgShowView\":\"10\",\"avgViewBox\":\"44.6\",\"boxInfo\":\"19.75\",\"boxRate\":\"0.4%\",\"movieId\":507792,\"movieName\":\"地久天长\",\"myRefundNumInfo\":\"--\",\"myRefundRateInfo\":\"--\",\"onlineBoxRate\":\"--\",\"refundViewInfo\":\"--\",\"refundViewRate\":\"--\",\"releaseInfo\":\"点映\",\"releaseInfoColor\":\"#FF9900 1.00\",\"seatRate\":\"0.1%\",\"showInfo\":\"491\",\"showRate\":\"0.1%\",\"splitAvgViewBox\":\"41.2\",\"splitBoxInfo\":\"18.22\",\"splitBoxRate\":\"0.4%\",\"splitSumBoxInfo\":\"309.9万\",\"sumBoxInfo\":\"329.6万\",\"viewInfo\":\"0.4\",\"viewInfoV2\":\"4424\"},{\"avgSeatView\":\"4.1%\",\"avgShowView\":\"1\",\"avgViewBox\":\"33.0\",\"boxInfo\":\"9.42\",\"boxRate\":\"0.2%\",\"movieId\":1212353,\"movieName\":\"阳台上\",\"myRefundNumInfo\":\"--\",\"myRefundRateInfo\":\"--\",\"onlineBoxRate\":\"--\",\"refundViewInfo\":\"--\",\"refundViewRate\":\"--\",\"releaseInfo\":\"上映5天\",\"releaseInfoColor\":\"#666666 1.00\",\"seatRate\":\"1.1%\",\"showInfo\":\"4858\",\"showRate\":\"1.5%\",\"splitAvgViewBox\":\"30.4\",\"splitBoxInfo\":\"8.69\",\"splitBoxRate\":\"0.2%\",\"splitSumBoxInfo\":\"339.4万\",\"sumBoxInfo\":\"368.6万\",\"viewInfo\":\"0.2\",\"viewInfoV2\":\"2855\"},{\"avgSeatView\":\"35.0%\",\"avgShowView\":\"56\",\"avgViewBox\":\"32.5\",\"boxInfo\":\"4.69\",\"boxRate\":\"0.1%\",\"movieId\":1238775,\"movieName\":\"特别追踪\",\"myRefundNumInfo\":\"--\",\"myRefundRateInfo\":\"--\",\"onlineBoxRate\":\"--\",\"refundViewInfo\":\"--\",\"refundViewRate\":\"--\",\"releaseInfo\":\"2018-09\",\"releaseInfoColor\":\"#666666 1.00\",\"seatRate\":\"<0.1%\",\"showInfo\":\"26\",\"showRate\":\"<0.1%\",\"splitAvgViewBox\":\"30.0\",\"splitBoxInfo\":\"4.33\",\"splitBoxRate\":\"0.1%\",\"splitSumBoxInfo\":\"7.1万\",\"sumBoxInfo\":\"7.7万\",\"viewInfo\":\"0.1\",\"viewInfoV2\":\"1444\"},{\"avgSeatView\":\"20.3%\",\"avgShowView\":\"6\",\"avgViewBox\":\"32.5\",\"boxInfo\":\"4.33\",\"boxRate\":\"<0.1%\",\"movieId\":1263280,\"movieName\":\"爱无痕\",\"myRefundNumInfo\":\"--\",\"myRefundRateInfo\":\"--\",\"onlineBoxRate\":\"--\",\"refundViewInfo\":\"--\",\"refundViewRate\":\"--\",\"releaseInfo\":\"上映首日\",\"releaseInfoColor\":\"#FF9900 1.00\",\"seatRate\":\"<0.1%\",\"showInfo\":\"255\",\"showRate\":\"<0.1%\",\"splitAvgViewBox\":\"30.0\",\"splitBoxInfo\":\"4.00\",\"splitBoxRate\":\"0.1%\",\"splitSumBoxInfo\":\"4.7万\",\"sumBoxInfo\":\"5.0万\",\"viewInfo\":\"0.1\",\"viewInfoV2\":\"1335\"},{\"avgSeatView\":\"3.6%\",\"avgShowView\":\"1\",\"avgViewBox\":\"29.2\",\"boxInfo\":\"4.20\",\"boxRate\":\"<0.1%\",\"movieId\":1228761,\"movieName\":\"把哥哥退货可以吗\",\"myRefundNumInfo\":\"--\",\"myRefundRateInfo\":\"--\",\"onlineBoxRate\":\"--\",\"refundViewInfo\":\"--\",\"refundViewRate\":\"--\",\"releaseInfo\":\"上映5天\",\"releaseInfoColor\":\"#666666 1.00\",\"seatRate\":\"0.5%\",\"showInfo\":\"2234\",\"showRate\":\"0.7%\",\"splitAvgViewBox\":\"26.4\",\"splitBoxInfo\":\"3.80\",\"splitBoxRate\":\"<0.1%\",\"splitSumBoxInfo\":\"138.2万\",\"sumBoxInfo\":\"153.3万\",\"viewInfo\":\"0.1\",\"viewInfoV2\":\"1438\"},{\"avgSeatView\":\"3.0%\",\"avgShowView\":\"1\",\"avgViewBox\":\"35.3\",\"boxInfo\":\"3.73\",\"boxRate\":\"<0.1%\",\"movieId\":1218091,\"movieName\":\"飞驰人生\",\"myRefundNumInfo\":\"--\",\"myRefundRateInfo\":\"--\",\"onlineBoxRate\":\"--\",\"refundViewInfo\":\"--\",\"refundViewRate\":\"--\",\"releaseInfo\":\"上映43天\",\"releaseInfoColor\":\"#666666 1.00\",\"seatRate\":\"0.2%\",\"showInfo\":\"1226\",\"showRate\":\"0.3%\",\"splitAvgViewBox\":\"32.7\",\"splitBoxInfo\":\"3.45\",\"splitBoxRate\":\"<0.1%\",\"splitSumBoxInfo\":\"15.93亿\",\"sumBoxInfo\":\"17.15亿\",\"viewInfo\":\"0.1\",\"viewInfoV2\":\"1057\"},{\"avgSeatView\":\"35.9%\",\"avgShowView\":\"102\",\"avgViewBox\":\"32.5\",\"boxInfo\":\"3.61\",\"boxRate\":\"<0.1%\",\"movieId\":1223430,\"movieName\":\"浴血广昌\",\"myRefundNumInfo\":\"--\",\"myRefundRateInfo\":\"--\",\"onlineBoxRate\":\"--\",\"refundViewInfo\":\"--\",\"refundViewRate\":\"--\",\"releaseInfo\":\"2018-08\",\"releaseInfoColor\":\"#666666 1.00\",\"seatRate\":\"<0.1%\",\"showInfo\":\"11\",\"showRate\":\"<0.1%\",\"splitAvgViewBox\":\"30.0\",\"splitBoxInfo\":\"3.33\",\"splitBoxRate\":\"<0.1%\",\"splitSumBoxInfo\":\"9760.6万\",\"sumBoxInfo\":\"9768.4万\",\"viewInfo\":\"0.1\",\"viewInfoV2\":\"1112\"},{\"avgSeatView\":\"4.3%\",\"avgShowView\":\"3\",\"avgViewBox\":\"34.7\",\"boxInfo\":\"3.34\",\"boxRate\":\"<0.1%\",\"movieId\":1215383,\"movieName\":\"318号公路\",\"myRefundNumInfo\":\"--\",\"myRefundRateInfo\":\"--\",\"onlineBoxRate\":\"--\",\"refundViewInfo\":\"--\",\"refundViewRate\":\"--\",\"releaseInfo\":\"上映2天\",\"releaseInfoColor\":\"#666666 1.00\",\"seatRate\":\"<0.1%\",\"showInfo\":\"418\",\"showRate\":\"0.1%\",\"splitAvgViewBox\":\"32.6\",\"splitBoxInfo\":\"3.15\",\"splitBoxRate\":\"<0.1%\",\"splitSumBoxInfo\":\"14.9万\",\"sumBoxInfo\":\"15.7万\",\"viewInfo\":\"0.0\",\"viewInfoV2\":\"965\"},{\"avgSeatView\":\"1.5%\",\"avgShowView\":\"1\",\"avgViewBox\":\"25.5\",\"boxInfo\":\"2.79\",\"boxRate\":\"<0.1%\",\"movieId\":1251817,\"movieName\":\"少女宿舍\",\"myRefundNumInfo\":\"--\",\"myRefundRateInfo\":\"--\",\"onlineBoxRate\":\"--\",\"refundViewInfo\":\"--\",\"refundViewRate\":\"--\",\"releaseInfo\":\"上映5天\",\"releaseInfoColor\":\"#666666 1.00\",\"seatRate\":\"0.4%\",\"showInfo\":\"1881\",\"showRate\":\"0.5%\",\"splitAvgViewBox\":\"22.6\",\"splitBoxInfo\":\"2.47\",\"splitBoxRate\":\"<0.1%\",\"splitSumBoxInfo\":\"109.1万\",\"sumBoxInfo\":\"122.2万\",\"viewInfo\":\"0.1\",\"viewInfoV2\":\"1092\"},{\"avgSeatView\":\"21.6%\",\"avgShowView\":\"21\",\"avgViewBox\":\"28.0\",\"boxInfo\":\"2.53\",\"boxRate\":\"<0.1%\",\"movieId\":1262087,\"movieName\":\"醒来之爱的呼唤\",\"myRefundNumInfo\":\"--\",\"myRefundRateInfo\":\"--\",\"onlineBoxRate\":\"--\",\"refundViewInfo\":\"--\",\"refundViewRate\":\"--\",\"releaseInfo\":\"上映12天\",\"releaseInfoColor\":\"#666666 1.00\",\"seatRate\":\"<0.1%\",\"showInfo\":\"44\",\"showRate\":\"<0.1%\",\"splitAvgViewBox\":\"27.9\",\"splitBoxInfo\":\"2.52\",\"splitBoxRate\":\"<0.1%\",\"splitSumBoxInfo\":\"215.8万\",\"sumBoxInfo\":\"217.8万\",\"viewInfo\":\"0.0\",\"viewInfoV2\":\"902\"},{\"avgSeatView\":\"10.6%\",\"avgShowView\":\"9\",\"avgViewBox\":\"26.9\",\"boxInfo\":\"2.42\",\"boxRate\":\"<0.1%\",\"movieId\":1261537,\"movieName\":\"梦想之城\",\"myRefundNumInfo\":\"--\",\"myRefundRateInfo\":\"--\",\"onlineBoxRate\":\"--\",\"refundViewInfo\":\"--\",\"refundViewRate\":\"--\",\"releaseInfo\":\"上映12天\",\"releaseInfoColor\":\"#666666 1.00\",\"seatRate\":\"<0.1%\",\"showInfo\":\"100\",\"showRate\":\"<0.1%\",\"splitAvgViewBox\":\"25.9\",\"splitBoxInfo\":\"2.33\",\"splitBoxRate\":\"<0.1%\",\"splitSumBoxInfo\":\"36.8万\",\"sumBoxInfo\":\"38.0万\",\"viewInfo\":\"0.0\",\"viewInfoV2\":\"900\"},{\"avgSeatView\":\"57.0%\",\"avgShowView\":\"140\",\"avgViewBox\":\"38.1\",\"boxInfo\":\"2.13\",\"boxRate\":\"<0.1%\",\"movieId\":1249315,\"movieName\":\"大路朝天\",\"myRefundNumInfo\":\"--\",\"myRefundRateInfo\":\"--\",\"onlineBoxRate\":\"--\",\"refundViewInfo\":\"--\",\"refundViewRate\":\"--\",\"releaseInfo\":\"上映88天\",\"releaseInfoColor\":\"#666666 1.00\",\"seatRate\":\"<0.1%\",\"showInfo\":\"4\",\"showRate\":\"<0.1%\",\"splitAvgViewBox\":\"38.1\",\"splitBoxInfo\":\"2.13\",\"splitBoxRate\":\"<0.1%\",\"splitSumBoxInfo\":\"2493.7万\",\"sumBoxInfo\":\"2494.8万\",\"viewInfo\":\"0.0\",\"viewInfoV2\":\"559\"},{\"avgSeatView\":\"4.1%\",\"avgShowView\":\"20\",\"avgViewBox\":\"32.5\",\"boxInfo\":\"1.33\",\"boxRate\":\"<0.1%\",\"movieId\":1262397,\"movieName\":\"小石头下乡记\",\"myRefundNumInfo\":\"--\",\"myRefundRateInfo\":\"--\",\"onlineBoxRate\":\"--\",\"refundViewInfo\":\"--\",\"refundViewRate\":\"--\",\"releaseInfo\":\"上映8天\",\"releaseInfoColor\":\"#666666 1.00\",\"seatRate\":\"<0.1%\",\"showInfo\":\"21\",\"showRate\":\"<0.1%\",\"splitAvgViewBox\":\"30.0\",\"splitBoxInfo\":\"1.23\",\"splitBoxRate\":\"<0.1%\",\"splitSumBoxInfo\":\"2.5万\",\"sumBoxInfo\":\"2.6万\",\"viewInfo\":\"0.0\",\"viewInfoV2\":\"412\"},{\"avgSeatView\":\"5.0%\",\"avgShowView\":\"2\",\"avgViewBox\":\"35.2\",\"boxInfo\":\"1.19\",\"boxRate\":\"<0.1%\",\"movieId\":1209277,\"movieName\":\"老公去哪了\",\"myRefundNumInfo\":\"--\",\"myRefundRateInfo\":\"--\",\"onlineBoxRate\":\"--\",\"refundViewInfo\":\"--\",\"refundViewRate\":\"--\",\"releaseInfo\":\"上映5天\",\"releaseInfoColor\":\"#666666 1.00\",\"seatRate\":\"<0.1%\",\"showInfo\":\"337\",\"showRate\":\"0.1%\",\"splitAvgViewBox\":\"32.5\",\"splitBoxInfo\":\"1.10\",\"splitBoxRate\":\"<0.1%\",\"splitSumBoxInfo\":\"71.0万\",\"sumBoxInfo\":\"72.3万\",\"viewInfo\":\"0.0\",\"viewInfoV2\":\"339\"}],\"totalBoxUnit\":\"万\",\"totalBox\":\"4395.7\",\"splitTotalBoxUnit\":\"万\",\"queryDate\":\"2019-03-19\",\"serverTime\":\"2019-03-19 15:12:03\",\"splitTotalBoxUnitInfo\":\"万\",\"splitTotalBoxInfo\":\"3947.9\"}}'"
      ]
     },
     "execution_count": 83,
     "metadata": {},
     "output_type": "execute_result"
    }
   ],
   "source": [
    "response.text"
   ]
  },
  {
   "cell_type": "code",
   "execution_count": 89,
   "metadata": {
    "scrolled": false
   },
   "outputs": [
    {
     "name": "stdout",
     "output_type": "stream",
     "text": [
      "crystal : {'maoyanViewInfo': '69.7', 'status': 1, 'viewInfo': '137.2', 'viewUnitInfo': '万张'}\n",
      "queryDate : 2019-03-19\n",
      "serverTime : 2019-03-19 15:12:03\n",
      "serverTimestamp : 1552979523000\n",
      "splitTotalBox : 3947.9\n",
      "splitTotalBoxInfo : 3947.9\n",
      "splitTotalBoxUnit : 万\n",
      "splitTotalBoxUnitInfo : 万\n",
      "totalBox : 4395.7\n",
      "totalBoxInfo : 4395.7\n",
      "totalBoxUnit : 万\n",
      "totalBoxUnitInfo : 万\n",
      "updateInfo : 北京时间 15:12:03\n"
     ]
    }
   ],
   "source": [
    "for item in ['crystal',\n",
    "             'queryDate',\n",
    "             'serverTime',\n",
    "             'serverTimestamp',\n",
    "             'splitTotalBox',\n",
    "             'splitTotalBoxInfo',\n",
    "             'splitTotalBoxUnit',\n",
    "             'splitTotalBoxUnitInfo',\n",
    "             'totalBox',\n",
    "             'totalBoxInfo',\n",
    "             'totalBoxUnit',\n",
    "             'totalBoxUnitInfo',\n",
    "             'updateInfo']:\n",
    "    print(item,\":\",response.json()['data'][item])\n"
   ]
  },
  {
   "cell_type": "code",
   "execution_count": 91,
   "metadata": {
    "scrolled": false
   },
   "outputs": [
    {
     "name": "stdout",
     "output_type": "stream",
     "text": [
      "{'avgSeatView': '6.0%', 'avgShowView': '8', 'avgViewBox': '30.9', 'boxInfo': '3088.78', 'boxRate': '70.2%', 'movieId': 1216383, 'movieName': '比悲伤更悲伤的故事', 'myRefundNumInfo': '--', 'myRefundRateInfo': '--', 'onlineBoxRate': '--', 'refundViewInfo': '--', 'refundViewRate': '--', 'releaseInfo': '上映6天', 'releaseInfoColor': '#666666 1.00', 'seatRate': '45.6%', 'showInfo': '135007', 'showRate': '42.8%', 'splitAvgViewBox': '27.6', 'splitBoxInfo': '2756.55', 'splitBoxRate': '69.8%', 'splitSumBoxInfo': '4.14亿', 'sumBoxInfo': '4.64亿', 'viewInfo': '99.7', 'viewInfoV2': '99.7万'}\n",
      "{'avgSeatView': '2.7%', 'avgShowView': '3', 'avgViewBox': '36.9', 'boxInfo': '554.07', 'boxRate': '12.6%', 'movieId': 341139, 'movieName': '惊奇队长', 'myRefundNumInfo': '--', 'myRefundRateInfo': '--', 'onlineBoxRate': '--', 'refundViewInfo': '--', 'refundViewRate': '--', 'releaseInfo': '上映12天', 'releaseInfoColor': '#666666 1.00', 'seatRate': '26.5%', 'showInfo': '69831', 'showRate': '22.1%', 'splitAvgViewBox': '33.8', 'splitBoxInfo': '507.64', 'splitBoxRate': '12.8%', 'splitSumBoxInfo': '8.34亿', 'sumBoxInfo': '9.05亿', 'viewInfo': '14.9', 'viewInfoV2': '14.9万'}\n",
      "{'avgSeatView': '3.5%', 'avgShowView': '3', 'avgViewBox': '33.3', 'boxInfo': '314.66', 'boxRate': '7.1%', 'movieId': 1206605, 'movieName': '绿皮书', 'myRefundNumInfo': '--', 'myRefundRateInfo': '--', 'onlineBoxRate': '--', 'refundViewInfo': '--', 'refundViewRate': '--', 'releaseInfo': '上映19天', 'releaseInfoColor': '#666666 1.00', 'seatRate': '8.9%', 'showInfo': '33119', 'showRate': '10.5%', 'splitAvgViewBox': '30.0', 'splitBoxInfo': '283.95', 'splitBoxRate': '7.1%', 'splitSumBoxInfo': '3.78亿', 'sumBoxInfo': '4.19亿', 'viewInfo': '9.4', 'viewInfoV2': '9.4万'}\n",
      "{'avgSeatView': '3.1%', 'avgShowView': '2', 'avgViewBox': '31.5', 'boxInfo': '75.11', 'boxRate': '1.7%', 'movieId': 1220571, 'movieName': '我的英雄学院：两位英雄', 'myRefundNumInfo': '--', 'myRefundRateInfo': '--', 'onlineBoxRate': '--', 'refundViewInfo': '--', 'refundViewRate': '--', 'releaseInfo': '上映5天', 'releaseInfoColor': '#666666 1.00', 'seatRate': '4.3%', 'showInfo': '17271', 'showRate': '5.4%', 'splitAvgViewBox': '28.2', 'splitBoxInfo': '67.37', 'splitBoxRate': '1.7%', 'splitSumBoxInfo': '3067.9万', 'sumBoxInfo': '3411.5万', 'viewInfo': '2.3', 'viewInfoV2': '2.3万'}\n",
      "{'avgSeatView': '3.8%', 'avgShowView': '3', 'avgViewBox': '33.4', 'boxInfo': '75.01', 'boxRate': '1.7%', 'movieId': 248906, 'movieName': '流浪地球', 'myRefundNumInfo': '--', 'myRefundRateInfo': '--', 'onlineBoxRate': '--', 'refundViewInfo': '--', 'refundViewRate': '--', 'releaseInfo': '上映43天', 'releaseInfoColor': '#666666 1.00', 'seatRate': '2.7%', 'showInfo': '11112', 'showRate': '3.5%', 'splitAvgViewBox': '30.7', 'splitBoxInfo': '68.89', 'splitBoxRate': '1.7%', 'splitSumBoxInfo': '43.10亿', 'sumBoxInfo': '46.34亿', 'viewInfo': '2.2', 'viewInfoV2': '2.2万'}\n",
      "{'avgSeatView': '3.2%', 'avgShowView': '2', 'avgViewBox': '35.6', 'boxInfo': '60.94', 'boxRate': '1.3%', 'movieId': 410629, 'movieName': '阿丽塔：战斗天使', 'myRefundNumInfo': '--', 'myRefundRateInfo': '--', 'onlineBoxRate': '--', 'refundViewInfo': '--', 'refundViewRate': '--', 'releaseInfo': '上映26天', 'releaseInfoColor': '#666666 1.00', 'seatRate': '2.4%', 'showInfo': '9750', 'showRate': '3.0%', 'splitAvgViewBox': '32.4', 'splitBoxInfo': '55.49', 'splitBoxRate': '1.4%', 'splitSumBoxInfo': '8.10亿', 'sumBoxInfo': '8.86亿', 'viewInfo': '1.7', 'viewInfoV2': '1.7万'}\n",
      "{'avgSeatView': '3.4%', 'avgShowView': '2', 'avgViewBox': '34.0', 'boxInfo': '47.18', 'boxRate': '1.0%', 'movieId': 247295, 'movieName': '驯龙高手3', 'myRefundNumInfo': '--', 'myRefundRateInfo': '--', 'onlineBoxRate': '--', 'refundViewInfo': '--', 'refundViewRate': '--', 'releaseInfo': '上映19天', 'releaseInfoColor': '#666666 1.00', 'seatRate': '2.0%', 'showInfo': '8328', 'showRate': '2.6%', 'splitAvgViewBox': '31.2', 'splitBoxInfo': '43.26', 'splitBoxRate': '1.0%', 'splitSumBoxInfo': '3.23亿', 'sumBoxInfo': '3.52亿', 'viewInfo': '1.3', 'viewInfoV2': '1.3万'}\n",
      "{'avgSeatView': '3.5%', 'avgShowView': '2', 'avgViewBox': '30.0', 'boxInfo': '43.53', 'boxRate': '0.9%', 'movieId': 1250341, 'movieName': '夏目友人帐', 'myRefundNumInfo': '--', 'myRefundRateInfo': '--', 'onlineBoxRate': '--', 'refundViewInfo': '--', 'refundViewRate': '--', 'releaseInfo': '上映13天', 'releaseInfoColor': '#666666 1.00', 'seatRate': '1.8%', 'showInfo': '8182', 'showRate': '2.5%', 'splitAvgViewBox': '26.9', 'splitBoxInfo': '39.12', 'splitBoxRate': '0.9%', 'splitSumBoxInfo': '9901.0万', 'sumBoxInfo': '1.10亿', 'viewInfo': '1.4', 'viewInfoV2': '1.4万'}\n",
      "{'avgSeatView': '3.6%', 'avgShowView': '2', 'avgViewBox': '34.7', 'boxInfo': '36.44', 'boxRate': '0.8%', 'movieId': 1229799, 'movieName': '过春天', 'myRefundNumInfo': '--', 'myRefundRateInfo': '--', 'onlineBoxRate': '--', 'refundViewInfo': '--', 'refundViewRate': '--', 'releaseInfo': '上映5天', 'releaseInfoColor': '#666666 1.00', 'seatRate': '1.3%', 'showInfo': '5882', 'showRate': '1.8%', 'splitAvgViewBox': '31.7', 'splitBoxInfo': '33.27', 'splitBoxRate': '0.8%', 'splitSumBoxInfo': '713.1万', 'sumBoxInfo': '774.6万', 'viewInfo': '1.0', 'viewInfoV2': '1.0万'}\n",
      "{'avgSeatView': '3.5%', 'avgShowView': '3', 'avgViewBox': '37.4', 'boxInfo': '30.01', 'boxRate': '0.6%', 'movieId': 1212492, 'movieName': '老师·好', 'myRefundNumInfo': '--', 'myRefundRateInfo': '--', 'onlineBoxRate': '--', 'refundViewInfo': '--', 'refundViewRate': '--', 'releaseInfo': '点映', 'releaseInfoColor': '#FF9900 1.00', 'seatRate': '0.8%', 'showInfo': '2784', 'showRate': '0.8%', 'splitAvgViewBox': '33.9', 'splitBoxInfo': '27.19', 'splitBoxRate': '0.6%', 'splitSumBoxInfo': '224.6万', 'sumBoxInfo': '234.7万', 'viewInfo': '0.8', 'viewInfoV2': '8012'}\n",
      "{'avgSeatView': '8.6%', 'avgShowView': '10', 'avgViewBox': '44.6', 'boxInfo': '19.75', 'boxRate': '0.4%', 'movieId': 507792, 'movieName': '地久天长', 'myRefundNumInfo': '--', 'myRefundRateInfo': '--', 'onlineBoxRate': '--', 'refundViewInfo': '--', 'refundViewRate': '--', 'releaseInfo': '点映', 'releaseInfoColor': '#FF9900 1.00', 'seatRate': '0.1%', 'showInfo': '491', 'showRate': '0.1%', 'splitAvgViewBox': '41.2', 'splitBoxInfo': '18.22', 'splitBoxRate': '0.4%', 'splitSumBoxInfo': '309.9万', 'sumBoxInfo': '329.6万', 'viewInfo': '0.4', 'viewInfoV2': '4424'}\n",
      "{'avgSeatView': '4.1%', 'avgShowView': '1', 'avgViewBox': '33.0', 'boxInfo': '9.42', 'boxRate': '0.2%', 'movieId': 1212353, 'movieName': '阳台上', 'myRefundNumInfo': '--', 'myRefundRateInfo': '--', 'onlineBoxRate': '--', 'refundViewInfo': '--', 'refundViewRate': '--', 'releaseInfo': '上映5天', 'releaseInfoColor': '#666666 1.00', 'seatRate': '1.1%', 'showInfo': '4858', 'showRate': '1.5%', 'splitAvgViewBox': '30.4', 'splitBoxInfo': '8.69', 'splitBoxRate': '0.2%', 'splitSumBoxInfo': '339.4万', 'sumBoxInfo': '368.6万', 'viewInfo': '0.2', 'viewInfoV2': '2855'}\n",
      "{'avgSeatView': '35.0%', 'avgShowView': '56', 'avgViewBox': '32.5', 'boxInfo': '4.69', 'boxRate': '0.1%', 'movieId': 1238775, 'movieName': '特别追踪', 'myRefundNumInfo': '--', 'myRefundRateInfo': '--', 'onlineBoxRate': '--', 'refundViewInfo': '--', 'refundViewRate': '--', 'releaseInfo': '2018-09', 'releaseInfoColor': '#666666 1.00', 'seatRate': '<0.1%', 'showInfo': '26', 'showRate': '<0.1%', 'splitAvgViewBox': '30.0', 'splitBoxInfo': '4.33', 'splitBoxRate': '0.1%', 'splitSumBoxInfo': '7.1万', 'sumBoxInfo': '7.7万', 'viewInfo': '0.1', 'viewInfoV2': '1444'}\n",
      "{'avgSeatView': '20.3%', 'avgShowView': '6', 'avgViewBox': '32.5', 'boxInfo': '4.33', 'boxRate': '<0.1%', 'movieId': 1263280, 'movieName': '爱无痕', 'myRefundNumInfo': '--', 'myRefundRateInfo': '--', 'onlineBoxRate': '--', 'refundViewInfo': '--', 'refundViewRate': '--', 'releaseInfo': '上映首日', 'releaseInfoColor': '#FF9900 1.00', 'seatRate': '<0.1%', 'showInfo': '255', 'showRate': '<0.1%', 'splitAvgViewBox': '30.0', 'splitBoxInfo': '4.00', 'splitBoxRate': '0.1%', 'splitSumBoxInfo': '4.7万', 'sumBoxInfo': '5.0万', 'viewInfo': '0.1', 'viewInfoV2': '1335'}\n",
      "{'avgSeatView': '3.6%', 'avgShowView': '1', 'avgViewBox': '29.2', 'boxInfo': '4.20', 'boxRate': '<0.1%', 'movieId': 1228761, 'movieName': '把哥哥退货可以吗', 'myRefundNumInfo': '--', 'myRefundRateInfo': '--', 'onlineBoxRate': '--', 'refundViewInfo': '--', 'refundViewRate': '--', 'releaseInfo': '上映5天', 'releaseInfoColor': '#666666 1.00', 'seatRate': '0.5%', 'showInfo': '2234', 'showRate': '0.7%', 'splitAvgViewBox': '26.4', 'splitBoxInfo': '3.80', 'splitBoxRate': '<0.1%', 'splitSumBoxInfo': '138.2万', 'sumBoxInfo': '153.3万', 'viewInfo': '0.1', 'viewInfoV2': '1438'}\n",
      "{'avgSeatView': '3.0%', 'avgShowView': '1', 'avgViewBox': '35.3', 'boxInfo': '3.73', 'boxRate': '<0.1%', 'movieId': 1218091, 'movieName': '飞驰人生', 'myRefundNumInfo': '--', 'myRefundRateInfo': '--', 'onlineBoxRate': '--', 'refundViewInfo': '--', 'refundViewRate': '--', 'releaseInfo': '上映43天', 'releaseInfoColor': '#666666 1.00', 'seatRate': '0.2%', 'showInfo': '1226', 'showRate': '0.3%', 'splitAvgViewBox': '32.7', 'splitBoxInfo': '3.45', 'splitBoxRate': '<0.1%', 'splitSumBoxInfo': '15.93亿', 'sumBoxInfo': '17.15亿', 'viewInfo': '0.1', 'viewInfoV2': '1057'}\n",
      "{'avgSeatView': '35.9%', 'avgShowView': '102', 'avgViewBox': '32.5', 'boxInfo': '3.61', 'boxRate': '<0.1%', 'movieId': 1223430, 'movieName': '浴血广昌', 'myRefundNumInfo': '--', 'myRefundRateInfo': '--', 'onlineBoxRate': '--', 'refundViewInfo': '--', 'refundViewRate': '--', 'releaseInfo': '2018-08', 'releaseInfoColor': '#666666 1.00', 'seatRate': '<0.1%', 'showInfo': '11', 'showRate': '<0.1%', 'splitAvgViewBox': '30.0', 'splitBoxInfo': '3.33', 'splitBoxRate': '<0.1%', 'splitSumBoxInfo': '9760.6万', 'sumBoxInfo': '9768.4万', 'viewInfo': '0.1', 'viewInfoV2': '1112'}\n",
      "{'avgSeatView': '4.3%', 'avgShowView': '3', 'avgViewBox': '34.7', 'boxInfo': '3.34', 'boxRate': '<0.1%', 'movieId': 1215383, 'movieName': '318号公路', 'myRefundNumInfo': '--', 'myRefundRateInfo': '--', 'onlineBoxRate': '--', 'refundViewInfo': '--', 'refundViewRate': '--', 'releaseInfo': '上映2天', 'releaseInfoColor': '#666666 1.00', 'seatRate': '<0.1%', 'showInfo': '418', 'showRate': '0.1%', 'splitAvgViewBox': '32.6', 'splitBoxInfo': '3.15', 'splitBoxRate': '<0.1%', 'splitSumBoxInfo': '14.9万', 'sumBoxInfo': '15.7万', 'viewInfo': '0.0', 'viewInfoV2': '965'}\n",
      "{'avgSeatView': '1.5%', 'avgShowView': '1', 'avgViewBox': '25.5', 'boxInfo': '2.79', 'boxRate': '<0.1%', 'movieId': 1251817, 'movieName': '少女宿舍', 'myRefundNumInfo': '--', 'myRefundRateInfo': '--', 'onlineBoxRate': '--', 'refundViewInfo': '--', 'refundViewRate': '--', 'releaseInfo': '上映5天', 'releaseInfoColor': '#666666 1.00', 'seatRate': '0.4%', 'showInfo': '1881', 'showRate': '0.5%', 'splitAvgViewBox': '22.6', 'splitBoxInfo': '2.47', 'splitBoxRate': '<0.1%', 'splitSumBoxInfo': '109.1万', 'sumBoxInfo': '122.2万', 'viewInfo': '0.1', 'viewInfoV2': '1092'}\n",
      "{'avgSeatView': '21.6%', 'avgShowView': '21', 'avgViewBox': '28.0', 'boxInfo': '2.53', 'boxRate': '<0.1%', 'movieId': 1262087, 'movieName': '醒来之爱的呼唤', 'myRefundNumInfo': '--', 'myRefundRateInfo': '--', 'onlineBoxRate': '--', 'refundViewInfo': '--', 'refundViewRate': '--', 'releaseInfo': '上映12天', 'releaseInfoColor': '#666666 1.00', 'seatRate': '<0.1%', 'showInfo': '44', 'showRate': '<0.1%', 'splitAvgViewBox': '27.9', 'splitBoxInfo': '2.52', 'splitBoxRate': '<0.1%', 'splitSumBoxInfo': '215.8万', 'sumBoxInfo': '217.8万', 'viewInfo': '0.0', 'viewInfoV2': '902'}\n",
      "{'avgSeatView': '10.6%', 'avgShowView': '9', 'avgViewBox': '26.9', 'boxInfo': '2.42', 'boxRate': '<0.1%', 'movieId': 1261537, 'movieName': '梦想之城', 'myRefundNumInfo': '--', 'myRefundRateInfo': '--', 'onlineBoxRate': '--', 'refundViewInfo': '--', 'refundViewRate': '--', 'releaseInfo': '上映12天', 'releaseInfoColor': '#666666 1.00', 'seatRate': '<0.1%', 'showInfo': '100', 'showRate': '<0.1%', 'splitAvgViewBox': '25.9', 'splitBoxInfo': '2.33', 'splitBoxRate': '<0.1%', 'splitSumBoxInfo': '36.8万', 'sumBoxInfo': '38.0万', 'viewInfo': '0.0', 'viewInfoV2': '900'}\n",
      "{'avgSeatView': '57.0%', 'avgShowView': '140', 'avgViewBox': '38.1', 'boxInfo': '2.13', 'boxRate': '<0.1%', 'movieId': 1249315, 'movieName': '大路朝天', 'myRefundNumInfo': '--', 'myRefundRateInfo': '--', 'onlineBoxRate': '--', 'refundViewInfo': '--', 'refundViewRate': '--', 'releaseInfo': '上映88天', 'releaseInfoColor': '#666666 1.00', 'seatRate': '<0.1%', 'showInfo': '4', 'showRate': '<0.1%', 'splitAvgViewBox': '38.1', 'splitBoxInfo': '2.13', 'splitBoxRate': '<0.1%', 'splitSumBoxInfo': '2493.7万', 'sumBoxInfo': '2494.8万', 'viewInfo': '0.0', 'viewInfoV2': '559'}\n",
      "{'avgSeatView': '4.1%', 'avgShowView': '20', 'avgViewBox': '32.5', 'boxInfo': '1.33', 'boxRate': '<0.1%', 'movieId': 1262397, 'movieName': '小石头下乡记', 'myRefundNumInfo': '--', 'myRefundRateInfo': '--', 'onlineBoxRate': '--', 'refundViewInfo': '--', 'refundViewRate': '--', 'releaseInfo': '上映8天', 'releaseInfoColor': '#666666 1.00', 'seatRate': '<0.1%', 'showInfo': '21', 'showRate': '<0.1%', 'splitAvgViewBox': '30.0', 'splitBoxInfo': '1.23', 'splitBoxRate': '<0.1%', 'splitSumBoxInfo': '2.5万', 'sumBoxInfo': '2.6万', 'viewInfo': '0.0', 'viewInfoV2': '412'}\n",
      "{'avgSeatView': '5.0%', 'avgShowView': '2', 'avgViewBox': '35.2', 'boxInfo': '1.19', 'boxRate': '<0.1%', 'movieId': 1209277, 'movieName': '老公去哪了', 'myRefundNumInfo': '--', 'myRefundRateInfo': '--', 'onlineBoxRate': '--', 'refundViewInfo': '--', 'refundViewRate': '--', 'releaseInfo': '上映5天', 'releaseInfoColor': '#666666 1.00', 'seatRate': '<0.1%', 'showInfo': '337', 'showRate': '0.1%', 'splitAvgViewBox': '32.5', 'splitBoxInfo': '1.10', 'splitBoxRate': '<0.1%', 'splitSumBoxInfo': '71.0万', 'sumBoxInfo': '72.3万', 'viewInfo': '0.0', 'viewInfoV2': '339'}\n"
     ]
    }
   ],
   "source": [
    "for movie in response.json()['data']['list']:\n",
    "    print(movie)"
   ]
  },
  {
   "cell_type": "code",
   "execution_count": 92,
   "metadata": {},
   "outputs": [],
   "source": [
    "# 见证pandas的强大之处\n",
    "import pandas as pd"
   ]
  },
  {
   "cell_type": "code",
   "execution_count": 93,
   "metadata": {},
   "outputs": [
    {
     "data": {
      "text/html": [
       "<div>\n",
       "<style scoped>\n",
       "    .dataframe tbody tr th:only-of-type {\n",
       "        vertical-align: middle;\n",
       "    }\n",
       "\n",
       "    .dataframe tbody tr th {\n",
       "        vertical-align: top;\n",
       "    }\n",
       "\n",
       "    .dataframe thead th {\n",
       "        text-align: right;\n",
       "    }\n",
       "</style>\n",
       "<table border=\"1\" class=\"dataframe\">\n",
       "  <thead>\n",
       "    <tr style=\"text-align: right;\">\n",
       "      <th></th>\n",
       "      <th>avgSeatView</th>\n",
       "      <th>avgShowView</th>\n",
       "      <th>avgViewBox</th>\n",
       "      <th>boxInfo</th>\n",
       "      <th>boxRate</th>\n",
       "      <th>movieId</th>\n",
       "      <th>movieName</th>\n",
       "      <th>myRefundNumInfo</th>\n",
       "      <th>myRefundRateInfo</th>\n",
       "      <th>onlineBoxRate</th>\n",
       "      <th>...</th>\n",
       "      <th>seatRate</th>\n",
       "      <th>showInfo</th>\n",
       "      <th>showRate</th>\n",
       "      <th>splitAvgViewBox</th>\n",
       "      <th>splitBoxInfo</th>\n",
       "      <th>splitBoxRate</th>\n",
       "      <th>splitSumBoxInfo</th>\n",
       "      <th>sumBoxInfo</th>\n",
       "      <th>viewInfo</th>\n",
       "      <th>viewInfoV2</th>\n",
       "    </tr>\n",
       "  </thead>\n",
       "  <tbody>\n",
       "    <tr>\n",
       "      <th>0</th>\n",
       "      <td>6.0%</td>\n",
       "      <td>8</td>\n",
       "      <td>30.9</td>\n",
       "      <td>3088.78</td>\n",
       "      <td>70.2%</td>\n",
       "      <td>1216383</td>\n",
       "      <td>比悲伤更悲伤的故事</td>\n",
       "      <td>--</td>\n",
       "      <td>--</td>\n",
       "      <td>--</td>\n",
       "      <td>...</td>\n",
       "      <td>45.6%</td>\n",
       "      <td>135007</td>\n",
       "      <td>42.8%</td>\n",
       "      <td>27.6</td>\n",
       "      <td>2756.55</td>\n",
       "      <td>69.8%</td>\n",
       "      <td>4.14亿</td>\n",
       "      <td>4.64亿</td>\n",
       "      <td>99.7</td>\n",
       "      <td>99.7万</td>\n",
       "    </tr>\n",
       "    <tr>\n",
       "      <th>1</th>\n",
       "      <td>2.7%</td>\n",
       "      <td>3</td>\n",
       "      <td>36.9</td>\n",
       "      <td>554.07</td>\n",
       "      <td>12.6%</td>\n",
       "      <td>341139</td>\n",
       "      <td>惊奇队长</td>\n",
       "      <td>--</td>\n",
       "      <td>--</td>\n",
       "      <td>--</td>\n",
       "      <td>...</td>\n",
       "      <td>26.5%</td>\n",
       "      <td>69831</td>\n",
       "      <td>22.1%</td>\n",
       "      <td>33.8</td>\n",
       "      <td>507.64</td>\n",
       "      <td>12.8%</td>\n",
       "      <td>8.34亿</td>\n",
       "      <td>9.05亿</td>\n",
       "      <td>14.9</td>\n",
       "      <td>14.9万</td>\n",
       "    </tr>\n",
       "    <tr>\n",
       "      <th>2</th>\n",
       "      <td>3.5%</td>\n",
       "      <td>3</td>\n",
       "      <td>33.3</td>\n",
       "      <td>314.66</td>\n",
       "      <td>7.1%</td>\n",
       "      <td>1206605</td>\n",
       "      <td>绿皮书</td>\n",
       "      <td>--</td>\n",
       "      <td>--</td>\n",
       "      <td>--</td>\n",
       "      <td>...</td>\n",
       "      <td>8.9%</td>\n",
       "      <td>33119</td>\n",
       "      <td>10.5%</td>\n",
       "      <td>30.0</td>\n",
       "      <td>283.95</td>\n",
       "      <td>7.1%</td>\n",
       "      <td>3.78亿</td>\n",
       "      <td>4.19亿</td>\n",
       "      <td>9.4</td>\n",
       "      <td>9.4万</td>\n",
       "    </tr>\n",
       "    <tr>\n",
       "      <th>3</th>\n",
       "      <td>3.1%</td>\n",
       "      <td>2</td>\n",
       "      <td>31.5</td>\n",
       "      <td>75.11</td>\n",
       "      <td>1.7%</td>\n",
       "      <td>1220571</td>\n",
       "      <td>我的英雄学院：两位英雄</td>\n",
       "      <td>--</td>\n",
       "      <td>--</td>\n",
       "      <td>--</td>\n",
       "      <td>...</td>\n",
       "      <td>4.3%</td>\n",
       "      <td>17271</td>\n",
       "      <td>5.4%</td>\n",
       "      <td>28.2</td>\n",
       "      <td>67.37</td>\n",
       "      <td>1.7%</td>\n",
       "      <td>3067.9万</td>\n",
       "      <td>3411.5万</td>\n",
       "      <td>2.3</td>\n",
       "      <td>2.3万</td>\n",
       "    </tr>\n",
       "    <tr>\n",
       "      <th>4</th>\n",
       "      <td>3.8%</td>\n",
       "      <td>3</td>\n",
       "      <td>33.4</td>\n",
       "      <td>75.01</td>\n",
       "      <td>1.7%</td>\n",
       "      <td>248906</td>\n",
       "      <td>流浪地球</td>\n",
       "      <td>--</td>\n",
       "      <td>--</td>\n",
       "      <td>--</td>\n",
       "      <td>...</td>\n",
       "      <td>2.7%</td>\n",
       "      <td>11112</td>\n",
       "      <td>3.5%</td>\n",
       "      <td>30.7</td>\n",
       "      <td>68.89</td>\n",
       "      <td>1.7%</td>\n",
       "      <td>43.10亿</td>\n",
       "      <td>46.34亿</td>\n",
       "      <td>2.2</td>\n",
       "      <td>2.2万</td>\n",
       "    </tr>\n",
       "    <tr>\n",
       "      <th>5</th>\n",
       "      <td>3.2%</td>\n",
       "      <td>2</td>\n",
       "      <td>35.6</td>\n",
       "      <td>60.94</td>\n",
       "      <td>1.3%</td>\n",
       "      <td>410629</td>\n",
       "      <td>阿丽塔：战斗天使</td>\n",
       "      <td>--</td>\n",
       "      <td>--</td>\n",
       "      <td>--</td>\n",
       "      <td>...</td>\n",
       "      <td>2.4%</td>\n",
       "      <td>9750</td>\n",
       "      <td>3.0%</td>\n",
       "      <td>32.4</td>\n",
       "      <td>55.49</td>\n",
       "      <td>1.4%</td>\n",
       "      <td>8.10亿</td>\n",
       "      <td>8.86亿</td>\n",
       "      <td>1.7</td>\n",
       "      <td>1.7万</td>\n",
       "    </tr>\n",
       "    <tr>\n",
       "      <th>6</th>\n",
       "      <td>3.4%</td>\n",
       "      <td>2</td>\n",
       "      <td>34.0</td>\n",
       "      <td>47.18</td>\n",
       "      <td>1.0%</td>\n",
       "      <td>247295</td>\n",
       "      <td>驯龙高手3</td>\n",
       "      <td>--</td>\n",
       "      <td>--</td>\n",
       "      <td>--</td>\n",
       "      <td>...</td>\n",
       "      <td>2.0%</td>\n",
       "      <td>8328</td>\n",
       "      <td>2.6%</td>\n",
       "      <td>31.2</td>\n",
       "      <td>43.26</td>\n",
       "      <td>1.0%</td>\n",
       "      <td>3.23亿</td>\n",
       "      <td>3.52亿</td>\n",
       "      <td>1.3</td>\n",
       "      <td>1.3万</td>\n",
       "    </tr>\n",
       "    <tr>\n",
       "      <th>7</th>\n",
       "      <td>3.5%</td>\n",
       "      <td>2</td>\n",
       "      <td>30.0</td>\n",
       "      <td>43.53</td>\n",
       "      <td>0.9%</td>\n",
       "      <td>1250341</td>\n",
       "      <td>夏目友人帐</td>\n",
       "      <td>--</td>\n",
       "      <td>--</td>\n",
       "      <td>--</td>\n",
       "      <td>...</td>\n",
       "      <td>1.8%</td>\n",
       "      <td>8182</td>\n",
       "      <td>2.5%</td>\n",
       "      <td>26.9</td>\n",
       "      <td>39.12</td>\n",
       "      <td>0.9%</td>\n",
       "      <td>9901.0万</td>\n",
       "      <td>1.10亿</td>\n",
       "      <td>1.4</td>\n",
       "      <td>1.4万</td>\n",
       "    </tr>\n",
       "    <tr>\n",
       "      <th>8</th>\n",
       "      <td>3.6%</td>\n",
       "      <td>2</td>\n",
       "      <td>34.7</td>\n",
       "      <td>36.44</td>\n",
       "      <td>0.8%</td>\n",
       "      <td>1229799</td>\n",
       "      <td>过春天</td>\n",
       "      <td>--</td>\n",
       "      <td>--</td>\n",
       "      <td>--</td>\n",
       "      <td>...</td>\n",
       "      <td>1.3%</td>\n",
       "      <td>5882</td>\n",
       "      <td>1.8%</td>\n",
       "      <td>31.7</td>\n",
       "      <td>33.27</td>\n",
       "      <td>0.8%</td>\n",
       "      <td>713.1万</td>\n",
       "      <td>774.6万</td>\n",
       "      <td>1.0</td>\n",
       "      <td>1.0万</td>\n",
       "    </tr>\n",
       "    <tr>\n",
       "      <th>9</th>\n",
       "      <td>3.5%</td>\n",
       "      <td>3</td>\n",
       "      <td>37.4</td>\n",
       "      <td>30.01</td>\n",
       "      <td>0.6%</td>\n",
       "      <td>1212492</td>\n",
       "      <td>老师·好</td>\n",
       "      <td>--</td>\n",
       "      <td>--</td>\n",
       "      <td>--</td>\n",
       "      <td>...</td>\n",
       "      <td>0.8%</td>\n",
       "      <td>2784</td>\n",
       "      <td>0.8%</td>\n",
       "      <td>33.9</td>\n",
       "      <td>27.19</td>\n",
       "      <td>0.6%</td>\n",
       "      <td>224.6万</td>\n",
       "      <td>234.7万</td>\n",
       "      <td>0.8</td>\n",
       "      <td>8012</td>\n",
       "    </tr>\n",
       "    <tr>\n",
       "      <th>10</th>\n",
       "      <td>8.6%</td>\n",
       "      <td>10</td>\n",
       "      <td>44.6</td>\n",
       "      <td>19.75</td>\n",
       "      <td>0.4%</td>\n",
       "      <td>507792</td>\n",
       "      <td>地久天长</td>\n",
       "      <td>--</td>\n",
       "      <td>--</td>\n",
       "      <td>--</td>\n",
       "      <td>...</td>\n",
       "      <td>0.1%</td>\n",
       "      <td>491</td>\n",
       "      <td>0.1%</td>\n",
       "      <td>41.2</td>\n",
       "      <td>18.22</td>\n",
       "      <td>0.4%</td>\n",
       "      <td>309.9万</td>\n",
       "      <td>329.6万</td>\n",
       "      <td>0.4</td>\n",
       "      <td>4424</td>\n",
       "    </tr>\n",
       "    <tr>\n",
       "      <th>11</th>\n",
       "      <td>4.1%</td>\n",
       "      <td>1</td>\n",
       "      <td>33.0</td>\n",
       "      <td>9.42</td>\n",
       "      <td>0.2%</td>\n",
       "      <td>1212353</td>\n",
       "      <td>阳台上</td>\n",
       "      <td>--</td>\n",
       "      <td>--</td>\n",
       "      <td>--</td>\n",
       "      <td>...</td>\n",
       "      <td>1.1%</td>\n",
       "      <td>4858</td>\n",
       "      <td>1.5%</td>\n",
       "      <td>30.4</td>\n",
       "      <td>8.69</td>\n",
       "      <td>0.2%</td>\n",
       "      <td>339.4万</td>\n",
       "      <td>368.6万</td>\n",
       "      <td>0.2</td>\n",
       "      <td>2855</td>\n",
       "    </tr>\n",
       "    <tr>\n",
       "      <th>12</th>\n",
       "      <td>35.0%</td>\n",
       "      <td>56</td>\n",
       "      <td>32.5</td>\n",
       "      <td>4.69</td>\n",
       "      <td>0.1%</td>\n",
       "      <td>1238775</td>\n",
       "      <td>特别追踪</td>\n",
       "      <td>--</td>\n",
       "      <td>--</td>\n",
       "      <td>--</td>\n",
       "      <td>...</td>\n",
       "      <td>&lt;0.1%</td>\n",
       "      <td>26</td>\n",
       "      <td>&lt;0.1%</td>\n",
       "      <td>30.0</td>\n",
       "      <td>4.33</td>\n",
       "      <td>0.1%</td>\n",
       "      <td>7.1万</td>\n",
       "      <td>7.7万</td>\n",
       "      <td>0.1</td>\n",
       "      <td>1444</td>\n",
       "    </tr>\n",
       "    <tr>\n",
       "      <th>13</th>\n",
       "      <td>20.3%</td>\n",
       "      <td>6</td>\n",
       "      <td>32.5</td>\n",
       "      <td>4.33</td>\n",
       "      <td>&lt;0.1%</td>\n",
       "      <td>1263280</td>\n",
       "      <td>爱无痕</td>\n",
       "      <td>--</td>\n",
       "      <td>--</td>\n",
       "      <td>--</td>\n",
       "      <td>...</td>\n",
       "      <td>&lt;0.1%</td>\n",
       "      <td>255</td>\n",
       "      <td>&lt;0.1%</td>\n",
       "      <td>30.0</td>\n",
       "      <td>4.00</td>\n",
       "      <td>0.1%</td>\n",
       "      <td>4.7万</td>\n",
       "      <td>5.0万</td>\n",
       "      <td>0.1</td>\n",
       "      <td>1335</td>\n",
       "    </tr>\n",
       "    <tr>\n",
       "      <th>14</th>\n",
       "      <td>3.6%</td>\n",
       "      <td>1</td>\n",
       "      <td>29.2</td>\n",
       "      <td>4.20</td>\n",
       "      <td>&lt;0.1%</td>\n",
       "      <td>1228761</td>\n",
       "      <td>把哥哥退货可以吗</td>\n",
       "      <td>--</td>\n",
       "      <td>--</td>\n",
       "      <td>--</td>\n",
       "      <td>...</td>\n",
       "      <td>0.5%</td>\n",
       "      <td>2234</td>\n",
       "      <td>0.7%</td>\n",
       "      <td>26.4</td>\n",
       "      <td>3.80</td>\n",
       "      <td>&lt;0.1%</td>\n",
       "      <td>138.2万</td>\n",
       "      <td>153.3万</td>\n",
       "      <td>0.1</td>\n",
       "      <td>1438</td>\n",
       "    </tr>\n",
       "    <tr>\n",
       "      <th>15</th>\n",
       "      <td>3.0%</td>\n",
       "      <td>1</td>\n",
       "      <td>35.3</td>\n",
       "      <td>3.73</td>\n",
       "      <td>&lt;0.1%</td>\n",
       "      <td>1218091</td>\n",
       "      <td>飞驰人生</td>\n",
       "      <td>--</td>\n",
       "      <td>--</td>\n",
       "      <td>--</td>\n",
       "      <td>...</td>\n",
       "      <td>0.2%</td>\n",
       "      <td>1226</td>\n",
       "      <td>0.3%</td>\n",
       "      <td>32.7</td>\n",
       "      <td>3.45</td>\n",
       "      <td>&lt;0.1%</td>\n",
       "      <td>15.93亿</td>\n",
       "      <td>17.15亿</td>\n",
       "      <td>0.1</td>\n",
       "      <td>1057</td>\n",
       "    </tr>\n",
       "    <tr>\n",
       "      <th>16</th>\n",
       "      <td>35.9%</td>\n",
       "      <td>102</td>\n",
       "      <td>32.5</td>\n",
       "      <td>3.61</td>\n",
       "      <td>&lt;0.1%</td>\n",
       "      <td>1223430</td>\n",
       "      <td>浴血广昌</td>\n",
       "      <td>--</td>\n",
       "      <td>--</td>\n",
       "      <td>--</td>\n",
       "      <td>...</td>\n",
       "      <td>&lt;0.1%</td>\n",
       "      <td>11</td>\n",
       "      <td>&lt;0.1%</td>\n",
       "      <td>30.0</td>\n",
       "      <td>3.33</td>\n",
       "      <td>&lt;0.1%</td>\n",
       "      <td>9760.6万</td>\n",
       "      <td>9768.4万</td>\n",
       "      <td>0.1</td>\n",
       "      <td>1112</td>\n",
       "    </tr>\n",
       "    <tr>\n",
       "      <th>17</th>\n",
       "      <td>4.3%</td>\n",
       "      <td>3</td>\n",
       "      <td>34.7</td>\n",
       "      <td>3.34</td>\n",
       "      <td>&lt;0.1%</td>\n",
       "      <td>1215383</td>\n",
       "      <td>318号公路</td>\n",
       "      <td>--</td>\n",
       "      <td>--</td>\n",
       "      <td>--</td>\n",
       "      <td>...</td>\n",
       "      <td>&lt;0.1%</td>\n",
       "      <td>418</td>\n",
       "      <td>0.1%</td>\n",
       "      <td>32.6</td>\n",
       "      <td>3.15</td>\n",
       "      <td>&lt;0.1%</td>\n",
       "      <td>14.9万</td>\n",
       "      <td>15.7万</td>\n",
       "      <td>0.0</td>\n",
       "      <td>965</td>\n",
       "    </tr>\n",
       "    <tr>\n",
       "      <th>18</th>\n",
       "      <td>1.5%</td>\n",
       "      <td>1</td>\n",
       "      <td>25.5</td>\n",
       "      <td>2.79</td>\n",
       "      <td>&lt;0.1%</td>\n",
       "      <td>1251817</td>\n",
       "      <td>少女宿舍</td>\n",
       "      <td>--</td>\n",
       "      <td>--</td>\n",
       "      <td>--</td>\n",
       "      <td>...</td>\n",
       "      <td>0.4%</td>\n",
       "      <td>1881</td>\n",
       "      <td>0.5%</td>\n",
       "      <td>22.6</td>\n",
       "      <td>2.47</td>\n",
       "      <td>&lt;0.1%</td>\n",
       "      <td>109.1万</td>\n",
       "      <td>122.2万</td>\n",
       "      <td>0.1</td>\n",
       "      <td>1092</td>\n",
       "    </tr>\n",
       "    <tr>\n",
       "      <th>19</th>\n",
       "      <td>21.6%</td>\n",
       "      <td>21</td>\n",
       "      <td>28.0</td>\n",
       "      <td>2.53</td>\n",
       "      <td>&lt;0.1%</td>\n",
       "      <td>1262087</td>\n",
       "      <td>醒来之爱的呼唤</td>\n",
       "      <td>--</td>\n",
       "      <td>--</td>\n",
       "      <td>--</td>\n",
       "      <td>...</td>\n",
       "      <td>&lt;0.1%</td>\n",
       "      <td>44</td>\n",
       "      <td>&lt;0.1%</td>\n",
       "      <td>27.9</td>\n",
       "      <td>2.52</td>\n",
       "      <td>&lt;0.1%</td>\n",
       "      <td>215.8万</td>\n",
       "      <td>217.8万</td>\n",
       "      <td>0.0</td>\n",
       "      <td>902</td>\n",
       "    </tr>\n",
       "    <tr>\n",
       "      <th>20</th>\n",
       "      <td>10.6%</td>\n",
       "      <td>9</td>\n",
       "      <td>26.9</td>\n",
       "      <td>2.42</td>\n",
       "      <td>&lt;0.1%</td>\n",
       "      <td>1261537</td>\n",
       "      <td>梦想之城</td>\n",
       "      <td>--</td>\n",
       "      <td>--</td>\n",
       "      <td>--</td>\n",
       "      <td>...</td>\n",
       "      <td>&lt;0.1%</td>\n",
       "      <td>100</td>\n",
       "      <td>&lt;0.1%</td>\n",
       "      <td>25.9</td>\n",
       "      <td>2.33</td>\n",
       "      <td>&lt;0.1%</td>\n",
       "      <td>36.8万</td>\n",
       "      <td>38.0万</td>\n",
       "      <td>0.0</td>\n",
       "      <td>900</td>\n",
       "    </tr>\n",
       "    <tr>\n",
       "      <th>21</th>\n",
       "      <td>57.0%</td>\n",
       "      <td>140</td>\n",
       "      <td>38.1</td>\n",
       "      <td>2.13</td>\n",
       "      <td>&lt;0.1%</td>\n",
       "      <td>1249315</td>\n",
       "      <td>大路朝天</td>\n",
       "      <td>--</td>\n",
       "      <td>--</td>\n",
       "      <td>--</td>\n",
       "      <td>...</td>\n",
       "      <td>&lt;0.1%</td>\n",
       "      <td>4</td>\n",
       "      <td>&lt;0.1%</td>\n",
       "      <td>38.1</td>\n",
       "      <td>2.13</td>\n",
       "      <td>&lt;0.1%</td>\n",
       "      <td>2493.7万</td>\n",
       "      <td>2494.8万</td>\n",
       "      <td>0.0</td>\n",
       "      <td>559</td>\n",
       "    </tr>\n",
       "    <tr>\n",
       "      <th>22</th>\n",
       "      <td>4.1%</td>\n",
       "      <td>20</td>\n",
       "      <td>32.5</td>\n",
       "      <td>1.33</td>\n",
       "      <td>&lt;0.1%</td>\n",
       "      <td>1262397</td>\n",
       "      <td>小石头下乡记</td>\n",
       "      <td>--</td>\n",
       "      <td>--</td>\n",
       "      <td>--</td>\n",
       "      <td>...</td>\n",
       "      <td>&lt;0.1%</td>\n",
       "      <td>21</td>\n",
       "      <td>&lt;0.1%</td>\n",
       "      <td>30.0</td>\n",
       "      <td>1.23</td>\n",
       "      <td>&lt;0.1%</td>\n",
       "      <td>2.5万</td>\n",
       "      <td>2.6万</td>\n",
       "      <td>0.0</td>\n",
       "      <td>412</td>\n",
       "    </tr>\n",
       "    <tr>\n",
       "      <th>23</th>\n",
       "      <td>5.0%</td>\n",
       "      <td>2</td>\n",
       "      <td>35.2</td>\n",
       "      <td>1.19</td>\n",
       "      <td>&lt;0.1%</td>\n",
       "      <td>1209277</td>\n",
       "      <td>老公去哪了</td>\n",
       "      <td>--</td>\n",
       "      <td>--</td>\n",
       "      <td>--</td>\n",
       "      <td>...</td>\n",
       "      <td>&lt;0.1%</td>\n",
       "      <td>337</td>\n",
       "      <td>0.1%</td>\n",
       "      <td>32.5</td>\n",
       "      <td>1.10</td>\n",
       "      <td>&lt;0.1%</td>\n",
       "      <td>71.0万</td>\n",
       "      <td>72.3万</td>\n",
       "      <td>0.0</td>\n",
       "      <td>339</td>\n",
       "    </tr>\n",
       "  </tbody>\n",
       "</table>\n",
       "<p>24 rows × 24 columns</p>\n",
       "</div>"
      ],
      "text/plain": [
       "   avgSeatView avgShowView avgViewBox  boxInfo boxRate  movieId    movieName  \\\n",
       "0         6.0%           8       30.9  3088.78   70.2%  1216383    比悲伤更悲伤的故事   \n",
       "1         2.7%           3       36.9   554.07   12.6%   341139         惊奇队长   \n",
       "2         3.5%           3       33.3   314.66    7.1%  1206605          绿皮书   \n",
       "3         3.1%           2       31.5    75.11    1.7%  1220571  我的英雄学院：两位英雄   \n",
       "4         3.8%           3       33.4    75.01    1.7%   248906         流浪地球   \n",
       "5         3.2%           2       35.6    60.94    1.3%   410629     阿丽塔：战斗天使   \n",
       "6         3.4%           2       34.0    47.18    1.0%   247295        驯龙高手3   \n",
       "7         3.5%           2       30.0    43.53    0.9%  1250341        夏目友人帐   \n",
       "8         3.6%           2       34.7    36.44    0.8%  1229799          过春天   \n",
       "9         3.5%           3       37.4    30.01    0.6%  1212492         老师·好   \n",
       "10        8.6%          10       44.6    19.75    0.4%   507792         地久天长   \n",
       "11        4.1%           1       33.0     9.42    0.2%  1212353          阳台上   \n",
       "12       35.0%          56       32.5     4.69    0.1%  1238775         特别追踪   \n",
       "13       20.3%           6       32.5     4.33   <0.1%  1263280          爱无痕   \n",
       "14        3.6%           1       29.2     4.20   <0.1%  1228761     把哥哥退货可以吗   \n",
       "15        3.0%           1       35.3     3.73   <0.1%  1218091         飞驰人生   \n",
       "16       35.9%         102       32.5     3.61   <0.1%  1223430         浴血广昌   \n",
       "17        4.3%           3       34.7     3.34   <0.1%  1215383       318号公路   \n",
       "18        1.5%           1       25.5     2.79   <0.1%  1251817         少女宿舍   \n",
       "19       21.6%          21       28.0     2.53   <0.1%  1262087      醒来之爱的呼唤   \n",
       "20       10.6%           9       26.9     2.42   <0.1%  1261537         梦想之城   \n",
       "21       57.0%         140       38.1     2.13   <0.1%  1249315         大路朝天   \n",
       "22        4.1%          20       32.5     1.33   <0.1%  1262397       小石头下乡记   \n",
       "23        5.0%           2       35.2     1.19   <0.1%  1209277        老公去哪了   \n",
       "\n",
       "   myRefundNumInfo myRefundRateInfo onlineBoxRate    ...     seatRate  \\\n",
       "0               --               --            --    ...        45.6%   \n",
       "1               --               --            --    ...        26.5%   \n",
       "2               --               --            --    ...         8.9%   \n",
       "3               --               --            --    ...         4.3%   \n",
       "4               --               --            --    ...         2.7%   \n",
       "5               --               --            --    ...         2.4%   \n",
       "6               --               --            --    ...         2.0%   \n",
       "7               --               --            --    ...         1.8%   \n",
       "8               --               --            --    ...         1.3%   \n",
       "9               --               --            --    ...         0.8%   \n",
       "10              --               --            --    ...         0.1%   \n",
       "11              --               --            --    ...         1.1%   \n",
       "12              --               --            --    ...        <0.1%   \n",
       "13              --               --            --    ...        <0.1%   \n",
       "14              --               --            --    ...         0.5%   \n",
       "15              --               --            --    ...         0.2%   \n",
       "16              --               --            --    ...        <0.1%   \n",
       "17              --               --            --    ...        <0.1%   \n",
       "18              --               --            --    ...         0.4%   \n",
       "19              --               --            --    ...        <0.1%   \n",
       "20              --               --            --    ...        <0.1%   \n",
       "21              --               --            --    ...        <0.1%   \n",
       "22              --               --            --    ...        <0.1%   \n",
       "23              --               --            --    ...        <0.1%   \n",
       "\n",
       "   showInfo showRate splitAvgViewBox splitBoxInfo splitBoxRate  \\\n",
       "0    135007    42.8%            27.6      2756.55        69.8%   \n",
       "1     69831    22.1%            33.8       507.64        12.8%   \n",
       "2     33119    10.5%            30.0       283.95         7.1%   \n",
       "3     17271     5.4%            28.2        67.37         1.7%   \n",
       "4     11112     3.5%            30.7        68.89         1.7%   \n",
       "5      9750     3.0%            32.4        55.49         1.4%   \n",
       "6      8328     2.6%            31.2        43.26         1.0%   \n",
       "7      8182     2.5%            26.9        39.12         0.9%   \n",
       "8      5882     1.8%            31.7        33.27         0.8%   \n",
       "9      2784     0.8%            33.9        27.19         0.6%   \n",
       "10      491     0.1%            41.2        18.22         0.4%   \n",
       "11     4858     1.5%            30.4         8.69         0.2%   \n",
       "12       26    <0.1%            30.0         4.33         0.1%   \n",
       "13      255    <0.1%            30.0         4.00         0.1%   \n",
       "14     2234     0.7%            26.4         3.80        <0.1%   \n",
       "15     1226     0.3%            32.7         3.45        <0.1%   \n",
       "16       11    <0.1%            30.0         3.33        <0.1%   \n",
       "17      418     0.1%            32.6         3.15        <0.1%   \n",
       "18     1881     0.5%            22.6         2.47        <0.1%   \n",
       "19       44    <0.1%            27.9         2.52        <0.1%   \n",
       "20      100    <0.1%            25.9         2.33        <0.1%   \n",
       "21        4    <0.1%            38.1         2.13        <0.1%   \n",
       "22       21    <0.1%            30.0         1.23        <0.1%   \n",
       "23      337     0.1%            32.5         1.10        <0.1%   \n",
       "\n",
       "   splitSumBoxInfo sumBoxInfo viewInfo viewInfoV2  \n",
       "0            4.14亿      4.64亿     99.7      99.7万  \n",
       "1            8.34亿      9.05亿     14.9      14.9万  \n",
       "2            3.78亿      4.19亿      9.4       9.4万  \n",
       "3          3067.9万    3411.5万      2.3       2.3万  \n",
       "4           43.10亿     46.34亿      2.2       2.2万  \n",
       "5            8.10亿      8.86亿      1.7       1.7万  \n",
       "6            3.23亿      3.52亿      1.3       1.3万  \n",
       "7          9901.0万      1.10亿      1.4       1.4万  \n",
       "8           713.1万     774.6万      1.0       1.0万  \n",
       "9           224.6万     234.7万      0.8       8012  \n",
       "10          309.9万     329.6万      0.4       4424  \n",
       "11          339.4万     368.6万      0.2       2855  \n",
       "12            7.1万       7.7万      0.1       1444  \n",
       "13            4.7万       5.0万      0.1       1335  \n",
       "14          138.2万     153.3万      0.1       1438  \n",
       "15          15.93亿     17.15亿      0.1       1057  \n",
       "16         9760.6万    9768.4万      0.1       1112  \n",
       "17           14.9万      15.7万      0.0        965  \n",
       "18          109.1万     122.2万      0.1       1092  \n",
       "19          215.8万     217.8万      0.0        902  \n",
       "20           36.8万      38.0万      0.0        900  \n",
       "21         2493.7万    2494.8万      0.0        559  \n",
       "22            2.5万       2.6万      0.0        412  \n",
       "23           71.0万      72.3万      0.0        339  \n",
       "\n",
       "[24 rows x 24 columns]"
      ]
     },
     "execution_count": 93,
     "metadata": {},
     "output_type": "execute_result"
    }
   ],
   "source": [
    "pd.DataFrame(response.json()['data']['list'])"
   ]
  },
  {
   "cell_type": "code",
   "execution_count": null,
   "metadata": {},
   "outputs": [],
   "source": []
  }
 ],
 "metadata": {
  "kernelspec": {
   "display_name": "Python 3",
   "language": "python",
   "name": "python3"
  },
  "language_info": {
   "codemirror_mode": {
    "name": "ipython",
    "version": 3
   },
   "file_extension": ".py",
   "mimetype": "text/x-python",
   "name": "python",
   "nbconvert_exporter": "python",
   "pygments_lexer": "ipython3",
   "version": "3.6.4"
  },
  "toc": {
   "base_numbering": 1,
   "nav_menu": {},
   "number_sections": true,
   "sideBar": true,
   "skip_h1_title": false,
   "title_cell": "Table of Contents",
   "title_sidebar": "Contents",
   "toc_cell": false,
   "toc_position": {
    "height": "calc(100% - 180px)",
    "left": "10px",
    "top": "150px",
    "width": "384px"
   },
   "toc_section_display": true,
   "toc_window_display": true
  }
 },
 "nbformat": 4,
 "nbformat_minor": 2
}
