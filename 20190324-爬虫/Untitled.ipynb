{
 "cells": [
  {
   "cell_type": "markdown",
   "metadata": {},
   "source": [
    "# python 基本功"
   ]
  },
  {
   "cell_type": "markdown",
   "metadata": {},
   "source": [
    "## 变量"
   ]
  },
  {
   "cell_type": "code",
   "execution_count": 1,
   "metadata": {},
   "outputs": [],
   "source": [
    "answer = 42"
   ]
  },
  {
   "cell_type": "code",
   "execution_count": 5,
   "metadata": {},
   "outputs": [
    {
     "name": "stdout",
     "output_type": "stream",
     "text": [
      "42\n"
     ]
    }
   ],
   "source": [
    "print(answer)"
   ]
  },
  {
   "cell_type": "markdown",
   "metadata": {},
   "source": [
    "## 数据类型-数字"
   ]
  },
  {
   "cell_type": "code",
   "execution_count": 6,
   "metadata": {},
   "outputs": [],
   "source": [
    "a = 3\n",
    "b = 4.2\n",
    "c = 5.0"
   ]
  },
  {
   "cell_type": "code",
   "execution_count": 7,
   "metadata": {},
   "outputs": [
    {
     "name": "stdout",
     "output_type": "stream",
     "text": [
      "<class 'int'> <class 'float'> <class 'float'>\n"
     ]
    }
   ],
   "source": [
    "print(type(a),type(b),type(c))"
   ]
  },
  {
   "cell_type": "markdown",
   "metadata": {},
   "source": [
    "## 数据类型-字符串"
   ]
  },
  {
   "cell_type": "code",
   "execution_count": 8,
   "metadata": {},
   "outputs": [],
   "source": [
    "s = \"Brady\""
   ]
  },
  {
   "cell_type": "code",
   "execution_count": 9,
   "metadata": {},
   "outputs": [
    {
     "data": {
      "text/plain": [
       "'ad'"
      ]
     },
     "execution_count": 9,
     "metadata": {},
     "output_type": "execute_result"
    }
   ],
   "source": [
    "s[2:4]"
   ]
  },
  {
   "cell_type": "code",
   "execution_count": 10,
   "metadata": {},
   "outputs": [],
   "source": [
    "s_2 = 'Hu'"
   ]
  },
  {
   "cell_type": "code",
   "execution_count": 11,
   "metadata": {},
   "outputs": [
    {
     "data": {
      "text/plain": [
       "'BradyHu'"
      ]
     },
     "execution_count": 11,
     "metadata": {},
     "output_type": "execute_result"
    }
   ],
   "source": [
    "s+s_2"
   ]
  },
  {
   "cell_type": "code",
   "execution_count": 12,
   "metadata": {},
   "outputs": [
    {
     "data": {
      "text/plain": [
       "'My name is brady'"
      ]
     },
     "execution_count": 12,
     "metadata": {},
     "output_type": "execute_result"
    }
   ],
   "source": [
    "\"My name is {}\".format(s.lower())"
   ]
  },
  {
   "cell_type": "markdown",
   "metadata": {},
   "source": [
    "## 数据类型-布尔值"
   ]
  },
  {
   "cell_type": "code",
   "execution_count": 13,
   "metadata": {},
   "outputs": [],
   "source": [
    "t = True\n",
    "f = False"
   ]
  },
  {
   "cell_type": "code",
   "execution_count": 14,
   "metadata": {
    "scrolled": true
   },
   "outputs": [
    {
     "data": {
      "text/plain": [
       "True"
      ]
     },
     "execution_count": 14,
     "metadata": {},
     "output_type": "execute_result"
    }
   ],
   "source": [
    "1==1"
   ]
  },
  {
   "cell_type": "code",
   "execution_count": 18,
   "metadata": {},
   "outputs": [
    {
     "data": {
      "text/plain": [
       "False"
      ]
     },
     "execution_count": 18,
     "metadata": {},
     "output_type": "execute_result"
    }
   ],
   "source": [
    "True and False"
   ]
  },
  {
   "cell_type": "code",
   "execution_count": 19,
   "metadata": {},
   "outputs": [
    {
     "data": {
      "text/plain": [
       "True"
      ]
     },
     "execution_count": 19,
     "metadata": {},
     "output_type": "execute_result"
    }
   ],
   "source": [
    "True or False"
   ]
  },
  {
   "cell_type": "code",
   "execution_count": 20,
   "metadata": {},
   "outputs": [
    {
     "data": {
      "text/plain": [
       "False"
      ]
     },
     "execution_count": 20,
     "metadata": {},
     "output_type": "execute_result"
    }
   ],
   "source": [
    "not True"
   ]
  },
  {
   "cell_type": "markdown",
   "metadata": {},
   "source": [
    "## 数据类型-空值"
   ]
  },
  {
   "cell_type": "code",
   "execution_count": 21,
   "metadata": {},
   "outputs": [],
   "source": [
    "None"
   ]
  },
  {
   "cell_type": "code",
   "execution_count": 23,
   "metadata": {},
   "outputs": [
    {
     "data": {
      "text/plain": [
       "NoneType"
      ]
     },
     "execution_count": 23,
     "metadata": {},
     "output_type": "execute_result"
    }
   ],
   "source": [
    "type(None)"
   ]
  },
  {
   "cell_type": "code",
   "execution_count": 24,
   "metadata": {},
   "outputs": [
    {
     "data": {
      "text/plain": [
       "False"
      ]
     },
     "execution_count": 24,
     "metadata": {},
     "output_type": "execute_result"
    }
   ],
   "source": [
    "None ==''"
   ]
  },
  {
   "cell_type": "markdown",
   "metadata": {},
   "source": [
    "## 数据结构-列表"
   ]
  },
  {
   "cell_type": "code",
   "execution_count": 25,
   "metadata": {},
   "outputs": [],
   "source": [
    "lst = [1,5,3,8]"
   ]
  },
  {
   "cell_type": "code",
   "execution_count": 26,
   "metadata": {},
   "outputs": [],
   "source": [
    "lst.append(4)"
   ]
  },
  {
   "cell_type": "code",
   "execution_count": 27,
   "metadata": {},
   "outputs": [
    {
     "data": {
      "text/plain": [
       "[1, 5, 3, 8, 4]"
      ]
     },
     "execution_count": 27,
     "metadata": {},
     "output_type": "execute_result"
    }
   ],
   "source": [
    "lst"
   ]
  },
  {
   "cell_type": "code",
   "execution_count": 28,
   "metadata": {},
   "outputs": [
    {
     "data": {
      "text/plain": [
       "[3, 8]"
      ]
     },
     "execution_count": 28,
     "metadata": {},
     "output_type": "execute_result"
    }
   ],
   "source": [
    "lst[2:4]"
   ]
  },
  {
   "cell_type": "code",
   "execution_count": 29,
   "metadata": {},
   "outputs": [],
   "source": [
    "lst.remove(5)"
   ]
  },
  {
   "cell_type": "code",
   "execution_count": 30,
   "metadata": {},
   "outputs": [
    {
     "data": {
      "text/plain": [
       "[1, 3, 8, 4]"
      ]
     },
     "execution_count": 30,
     "metadata": {},
     "output_type": "execute_result"
    }
   ],
   "source": [
    "lst"
   ]
  },
  {
   "cell_type": "code",
   "execution_count": 31,
   "metadata": {},
   "outputs": [],
   "source": [
    "lst.sort()"
   ]
  },
  {
   "cell_type": "code",
   "execution_count": 32,
   "metadata": {},
   "outputs": [
    {
     "data": {
      "text/plain": [
       "[1, 3, 4, 8]"
      ]
     },
     "execution_count": 32,
     "metadata": {},
     "output_type": "execute_result"
    }
   ],
   "source": [
    "lst"
   ]
  },
  {
   "cell_type": "code",
   "execution_count": 33,
   "metadata": {},
   "outputs": [
    {
     "data": {
      "text/plain": [
       "True"
      ]
     },
     "execution_count": 33,
     "metadata": {},
     "output_type": "execute_result"
    }
   ],
   "source": [
    "3 in lst"
   ]
  },
  {
   "cell_type": "code",
   "execution_count": 34,
   "metadata": {},
   "outputs": [
    {
     "data": {
      "text/plain": [
       "False"
      ]
     },
     "execution_count": 34,
     "metadata": {},
     "output_type": "execute_result"
    }
   ],
   "source": [
    "5 in lst"
   ]
  },
  {
   "cell_type": "code",
   "execution_count": 36,
   "metadata": {},
   "outputs": [
    {
     "data": {
      "text/plain": [
       "2"
      ]
     },
     "execution_count": 36,
     "metadata": {},
     "output_type": "execute_result"
    }
   ],
   "source": [
    "lst.index(4)"
   ]
  },
  {
   "cell_type": "markdown",
   "metadata": {},
   "source": [
    "## 数据结构-元组"
   ]
  },
  {
   "cell_type": "code",
   "execution_count": 39,
   "metadata": {},
   "outputs": [],
   "source": [
    "classmates = ('Michael', 'Bob', 'Tracy')"
   ]
  },
  {
   "cell_type": "code",
   "execution_count": 40,
   "metadata": {},
   "outputs": [
    {
     "data": {
      "text/plain": [
       "('Michael', 'Bob', 'Tracy')"
      ]
     },
     "execution_count": 40,
     "metadata": {},
     "output_type": "execute_result"
    }
   ],
   "source": [
    "classmates"
   ]
  },
  {
   "cell_type": "code",
   "execution_count": 41,
   "metadata": {},
   "outputs": [
    {
     "ename": "TypeError",
     "evalue": "'tuple' object does not support item assignment",
     "output_type": "error",
     "traceback": [
      "\u001b[1;31m---------------------------------------------------------------------------\u001b[0m",
      "\u001b[1;31mTypeError\u001b[0m                                 Traceback (most recent call last)",
      "\u001b[1;32m<ipython-input-41-ab2bcaffe7fc>\u001b[0m in \u001b[0;36m<module>\u001b[1;34m()\u001b[0m\n\u001b[1;32m----> 1\u001b[1;33m \u001b[0mclassmates\u001b[0m\u001b[1;33m[\u001b[0m\u001b[1;36m0\u001b[0m\u001b[1;33m]\u001b[0m\u001b[1;33m=\u001b[0m\u001b[1;34m'Brady'\u001b[0m\u001b[1;33m\u001b[0m\u001b[0m\n\u001b[0m",
      "\u001b[1;31mTypeError\u001b[0m: 'tuple' object does not support item assignment"
     ]
    }
   ],
   "source": [
    "classmates[0]='Brady'"
   ]
  },
  {
   "cell_type": "code",
   "execution_count": 42,
   "metadata": {},
   "outputs": [
    {
     "data": {
      "text/plain": [
       "('Michael', 'Bob', 'Tracy')"
      ]
     },
     "execution_count": 42,
     "metadata": {},
     "output_type": "execute_result"
    }
   ],
   "source": [
    "classmates"
   ]
  },
  {
   "cell_type": "markdown",
   "metadata": {},
   "source": [
    "## 数据结构-字典"
   ]
  },
  {
   "cell_type": "code",
   "execution_count": 44,
   "metadata": {},
   "outputs": [],
   "source": [
    "d = {'Michael': 95, 'Bob': 75, 'Tracy': 85}"
   ]
  },
  {
   "cell_type": "code",
   "execution_count": 45,
   "metadata": {},
   "outputs": [
    {
     "data": {
      "text/plain": [
       "{'Bob': 75, 'Michael': 95, 'Tracy': 85}"
      ]
     },
     "execution_count": 45,
     "metadata": {},
     "output_type": "execute_result"
    }
   ],
   "source": [
    "d"
   ]
  },
  {
   "cell_type": "code",
   "execution_count": 46,
   "metadata": {},
   "outputs": [
    {
     "data": {
      "text/plain": [
       "95"
      ]
     },
     "execution_count": 46,
     "metadata": {},
     "output_type": "execute_result"
    }
   ],
   "source": [
    "d['Michael']"
   ]
  },
  {
   "cell_type": "code",
   "execution_count": 47,
   "metadata": {},
   "outputs": [],
   "source": [
    "d['Adam']=67"
   ]
  },
  {
   "cell_type": "code",
   "execution_count": 48,
   "metadata": {},
   "outputs": [
    {
     "data": {
      "text/plain": [
       "{'Adam': 67, 'Bob': 75, 'Michael': 95, 'Tracy': 85}"
      ]
     },
     "execution_count": 48,
     "metadata": {},
     "output_type": "execute_result"
    }
   ],
   "source": [
    "d"
   ]
  },
  {
   "cell_type": "code",
   "execution_count": 49,
   "metadata": {},
   "outputs": [
    {
     "data": {
      "text/plain": [
       "75"
      ]
     },
     "execution_count": 49,
     "metadata": {},
     "output_type": "execute_result"
    }
   ],
   "source": [
    "d.pop(\"Bob\")"
   ]
  },
  {
   "cell_type": "code",
   "execution_count": 50,
   "metadata": {},
   "outputs": [
    {
     "data": {
      "text/plain": [
       "{'Adam': 67, 'Michael': 95, 'Tracy': 85}"
      ]
     },
     "execution_count": 50,
     "metadata": {},
     "output_type": "execute_result"
    }
   ],
   "source": [
    "d"
   ]
  },
  {
   "cell_type": "code",
   "execution_count": 77,
   "metadata": {},
   "outputs": [
    {
     "data": {
      "text/plain": [
       "dict_keys(['Michael', 'Tracy', 'Adam'])"
      ]
     },
     "execution_count": 77,
     "metadata": {},
     "output_type": "execute_result"
    }
   ],
   "source": [
    "d.keys()"
   ]
  },
  {
   "cell_type": "code",
   "execution_count": 78,
   "metadata": {},
   "outputs": [
    {
     "data": {
      "text/plain": [
       "dict_values([95, 85, 67])"
      ]
     },
     "execution_count": 78,
     "metadata": {},
     "output_type": "execute_result"
    }
   ],
   "source": [
    "d.values()"
   ]
  },
  {
   "attachments": {},
   "cell_type": "markdown",
   "metadata": {},
   "source": [
    "**Warning: dict内部存放的顺序和key放入的顺序是没有关系的。**"
   ]
  },
  {
   "cell_type": "markdown",
   "metadata": {},
   "source": [
    "## 数据结构-集合"
   ]
  },
  {
   "cell_type": "code",
   "execution_count": 51,
   "metadata": {},
   "outputs": [],
   "source": [
    "s = set([1,1,2,2,3,4,5])"
   ]
  },
  {
   "cell_type": "code",
   "execution_count": 52,
   "metadata": {},
   "outputs": [
    {
     "data": {
      "text/plain": [
       "{1, 2, 3, 4, 5}"
      ]
     },
     "execution_count": 52,
     "metadata": {},
     "output_type": "execute_result"
    }
   ],
   "source": [
    "s"
   ]
  },
  {
   "cell_type": "code",
   "execution_count": 53,
   "metadata": {},
   "outputs": [],
   "source": [
    "s.add(6)"
   ]
  },
  {
   "cell_type": "code",
   "execution_count": 54,
   "metadata": {},
   "outputs": [
    {
     "data": {
      "text/plain": [
       "{1, 2, 3, 4, 5, 6}"
      ]
     },
     "execution_count": 54,
     "metadata": {},
     "output_type": "execute_result"
    }
   ],
   "source": [
    "s"
   ]
  },
  {
   "cell_type": "code",
   "execution_count": 55,
   "metadata": {},
   "outputs": [],
   "source": [
    "s.add(5)"
   ]
  },
  {
   "cell_type": "code",
   "execution_count": 56,
   "metadata": {},
   "outputs": [
    {
     "data": {
      "text/plain": [
       "{1, 2, 3, 4, 5, 6}"
      ]
     },
     "execution_count": 56,
     "metadata": {},
     "output_type": "execute_result"
    }
   ],
   "source": [
    "s"
   ]
  },
  {
   "cell_type": "code",
   "execution_count": 57,
   "metadata": {},
   "outputs": [],
   "source": [
    "s.remove(5)"
   ]
  },
  {
   "cell_type": "code",
   "execution_count": 58,
   "metadata": {},
   "outputs": [
    {
     "data": {
      "text/plain": [
       "{1, 2, 3, 4, 6}"
      ]
     },
     "execution_count": 58,
     "metadata": {},
     "output_type": "execute_result"
    }
   ],
   "source": [
    "s"
   ]
  },
  {
   "cell_type": "code",
   "execution_count": 59,
   "metadata": {},
   "outputs": [],
   "source": [
    "s1 = set([1,2,3])\n",
    "s2 = set([2,3,4])"
   ]
  },
  {
   "cell_type": "code",
   "execution_count": 60,
   "metadata": {},
   "outputs": [
    {
     "data": {
      "text/plain": [
       "{2, 3}"
      ]
     },
     "execution_count": 60,
     "metadata": {},
     "output_type": "execute_result"
    }
   ],
   "source": [
    "s1 & s2"
   ]
  },
  {
   "cell_type": "code",
   "execution_count": 61,
   "metadata": {},
   "outputs": [
    {
     "data": {
      "text/plain": [
       "{1, 2, 3, 4}"
      ]
     },
     "execution_count": 61,
     "metadata": {},
     "output_type": "execute_result"
    }
   ],
   "source": [
    "s1 | s2"
   ]
  },
  {
   "cell_type": "code",
   "execution_count": 62,
   "metadata": {},
   "outputs": [
    {
     "data": {
      "text/plain": [
       "{1}"
      ]
     },
     "execution_count": 62,
     "metadata": {},
     "output_type": "execute_result"
    }
   ],
   "source": [
    "s1 - s2"
   ]
  },
  {
   "cell_type": "markdown",
   "metadata": {},
   "source": [
    "## 条件、循环"
   ]
  },
  {
   "cell_type": "code",
   "execution_count": 66,
   "metadata": {},
   "outputs": [
    {
     "name": "stdout",
     "output_type": "stream",
     "text": [
      "the number is 1\n"
     ]
    }
   ],
   "source": [
    "a =1\n",
    "if a==1:\n",
    "    print('the number is 1')\n",
    "elif a==2:\n",
    "    print('the number is 2')\n",
    "else:\n",
    "    print('the number is not 1 or 2, it is {}'.format(a))\n"
   ]
  },
  {
   "cell_type": "code",
   "execution_count": 67,
   "metadata": {},
   "outputs": [
    {
     "name": "stdout",
     "output_type": "stream",
     "text": [
      "21\n"
     ]
    }
   ],
   "source": [
    "a = [1,2,3,4,5,6]\n",
    "ans=0\n",
    "for item in a:\n",
    "    ans=ans+item\n",
    "print(ans)"
   ]
  },
  {
   "cell_type": "code",
   "execution_count": 69,
   "metadata": {},
   "outputs": [
    {
     "name": "stdout",
     "output_type": "stream",
     "text": [
      "16384\n"
     ]
    }
   ],
   "source": [
    "# 第一个比10000大的数\n",
    "ans = 1\n",
    "while ans<10000:\n",
    "    ans=ans*2\n",
    "print(ans)"
   ]
  },
  {
   "cell_type": "markdown",
   "metadata": {},
   "source": [
    "## 定义函数"
   ]
  },
  {
   "cell_type": "code",
   "execution_count": 70,
   "metadata": {},
   "outputs": [],
   "source": [
    "import math\n",
    "def quadratic(a, b, c):\n",
    "    delta = b**2-4*a*c\n",
    "    if delta<0:\n",
    "        return None,None\n",
    "    else:\n",
    "        x1 = (-b+math.sqrt(delta))/2\n",
    "        x2 = (-b-math.sqrt(delta))/2\n",
    "        return x1,x2"
   ]
  },
  {
   "cell_type": "code",
   "execution_count": 72,
   "metadata": {},
   "outputs": [
    {
     "data": {
      "text/plain": [
       "(4.830951894845301, -6.830951894845301)"
      ]
     },
     "execution_count": 72,
     "metadata": {},
     "output_type": "execute_result"
    }
   ],
   "source": [
    "quadratic(3,2,-11)"
   ]
  },
  {
   "cell_type": "markdown",
   "metadata": {},
   "source": [
    "# 简单爬虫"
   ]
  },
  {
   "cell_type": "markdown",
   "metadata": {},
   "source": [
    "## 猫眼电影API接口"
   ]
  },
  {
   "cell_type": "code",
   "execution_count": 81,
   "metadata": {},
   "outputs": [],
   "source": [
    "import requests\n",
    "\n",
    "headers = {\n",
    "    'User-Agent': 'Mozilla/5.0 (Windows NT 10.0; Win64; x64) AppleWebKit/537.36 (KHTML, like Gecko) Chrome/72.0.3626.121 Safari/537.36',\n",
    "    'Referer': 'http://piaofang.maoyan.com/dashboard',\n",
    "    'Origin': 'http://piaofang.maoyan.com',\n",
    "}\n",
    "\n",
    "response = requests.get('https://box.maoyan.com/promovie/api/box/second.json', headers=headers)"
   ]
  },
  {
   "cell_type": "code",
   "execution_count": 82,
   "metadata": {},
   "outputs": [
    {
     "data": {
      "text/plain": [
       "<Response [200]>"
      ]
     },
     "execution_count": 82,
     "metadata": {},
     "output_type": "execute_result"
    }
   ],
   "source": [
    "response"
   ]
  },
  {
   "cell_type": "code",
   "execution_count": 83,
   "metadata": {
    "scrolled": false
   },
   "outputs": [
    {
     "data": {
      "text/plain": [
       "'{\"success\":true,\"data\":{\"updateInfo\":\"北京时间 15:12:03\",\"totalBoxUnitInfo\":\"万\",\"splitTotalBox\":\"3947.9\",\"serverTimestamp\":1552979523000,\"crystal\":{\"maoyanViewInfo\":\"69.7\",\"status\":1,\"viewInfo\":\"137.2\",\"viewUnitInfo\":\"万张\"},\"totalBoxInfo\":\"4395.7\",\"list\":[{\"avgSeatView\":\"6.0%\",\"avgShowView\":\"8\",\"avgViewBox\":\"30.9\",\"boxInfo\":\"3088.78\",\"boxRate\":\"70.2%\",\"movieId\":1216383,\"movieName\":\"比悲伤更悲伤的故事\",\"myRefundNumInfo\":\"--\",\"myRefundRateInfo\":\"--\",\"onlineBoxRate\":\"--\",\"refundViewInfo\":\"--\",\"refundViewRate\":\"--\",\"releaseInfo\":\"上映6天\",\"releaseInfoColor\":\"#666666 1.00\",\"seatRate\":\"45.6%\",\"showInfo\":\"135007\",\"showRate\":\"42.8%\",\"splitAvgViewBox\":\"27.6\",\"splitBoxInfo\":\"2756.55\",\"splitBoxRate\":\"69.8%\",\"splitSumBoxInfo\":\"4.14亿\",\"sumBoxInfo\":\"4.64亿\",\"viewInfo\":\"99.7\",\"viewInfoV2\":\"99.7万\"},{\"avgSeatView\":\"2.7%\",\"avgShowView\":\"3\",\"avgViewBox\":\"36.9\",\"boxInfo\":\"554.07\",\"boxRate\":\"12.6%\",\"movieId\":341139,\"movieName\":\"惊奇队长\",\"myRefundNumInfo\":\"--\",\"myRefundRateInfo\":\"--\",\"onlineBoxRate\":\"--\",\"refundViewInfo\":\"--\",\"refundViewRate\":\"--\",\"releaseInfo\":\"上映12天\",\"releaseInfoColor\":\"#666666 1.00\",\"seatRate\":\"26.5%\",\"showInfo\":\"69831\",\"showRate\":\"22.1%\",\"splitAvgViewBox\":\"33.8\",\"splitBoxInfo\":\"507.64\",\"splitBoxRate\":\"12.8%\",\"splitSumBoxInfo\":\"8.34亿\",\"sumBoxInfo\":\"9.05亿\",\"viewInfo\":\"14.9\",\"viewInfoV2\":\"14.9万\"},{\"avgSeatView\":\"3.5%\",\"avgShowView\":\"3\",\"avgViewBox\":\"33.3\",\"boxInfo\":\"314.66\",\"boxRate\":\"7.1%\",\"movieId\":1206605,\"movieName\":\"绿皮书\",\"myRefundNumInfo\":\"--\",\"myRefundRateInfo\":\"--\",\"onlineBoxRate\":\"--\",\"refundViewInfo\":\"--\",\"refundViewRate\":\"--\",\"releaseInfo\":\"上映19天\",\"releaseInfoColor\":\"#666666 1.00\",\"seatRate\":\"8.9%\",\"showInfo\":\"33119\",\"showRate\":\"10.5%\",\"splitAvgViewBox\":\"30.0\",\"splitBoxInfo\":\"283.95\",\"splitBoxRate\":\"7.1%\",\"splitSumBoxInfo\":\"3.78亿\",\"sumBoxInfo\":\"4.19亿\",\"viewInfo\":\"9.4\",\"viewInfoV2\":\"9.4万\"},{\"avgSeatView\":\"3.1%\",\"avgShowView\":\"2\",\"avgViewBox\":\"31.5\",\"boxInfo\":\"75.11\",\"boxRate\":\"1.7%\",\"movieId\":1220571,\"movieName\":\"我的英雄学院：两位英雄\",\"myRefundNumInfo\":\"--\",\"myRefundRateInfo\":\"--\",\"onlineBoxRate\":\"--\",\"refundViewInfo\":\"--\",\"refundViewRate\":\"--\",\"releaseInfo\":\"上映5天\",\"releaseInfoColor\":\"#666666 1.00\",\"seatRate\":\"4.3%\",\"showInfo\":\"17271\",\"showRate\":\"5.4%\",\"splitAvgViewBox\":\"28.2\",\"splitBoxInfo\":\"67.37\",\"splitBoxRate\":\"1.7%\",\"splitSumBoxInfo\":\"3067.9万\",\"sumBoxInfo\":\"3411.5万\",\"viewInfo\":\"2.3\",\"viewInfoV2\":\"2.3万\"},{\"avgSeatView\":\"3.8%\",\"avgShowView\":\"3\",\"avgViewBox\":\"33.4\",\"boxInfo\":\"75.01\",\"boxRate\":\"1.7%\",\"movieId\":248906,\"movieName\":\"流浪地球\",\"myRefundNumInfo\":\"--\",\"myRefundRateInfo\":\"--\",\"onlineBoxRate\":\"--\",\"refundViewInfo\":\"--\",\"refundViewRate\":\"--\",\"releaseInfo\":\"上映43天\",\"releaseInfoColor\":\"#666666 1.00\",\"seatRate\":\"2.7%\",\"showInfo\":\"11112\",\"showRate\":\"3.5%\",\"splitAvgViewBox\":\"30.7\",\"splitBoxInfo\":\"68.89\",\"splitBoxRate\":\"1.7%\",\"splitSumBoxInfo\":\"43.10亿\",\"sumBoxInfo\":\"46.34亿\",\"viewInfo\":\"2.2\",\"viewInfoV2\":\"2.2万\"},{\"avgSeatView\":\"3.2%\",\"avgShowView\":\"2\",\"avgViewBox\":\"35.6\",\"boxInfo\":\"60.94\",\"boxRate\":\"1.3%\",\"movieId\":410629,\"movieName\":\"阿丽塔：战斗天使\",\"myRefundNumInfo\":\"--\",\"myRefundRateInfo\":\"--\",\"onlineBoxRate\":\"--\",\"refundViewInfo\":\"--\",\"refundViewRate\":\"--\",\"releaseInfo\":\"上映26天\",\"releaseInfoColor\":\"#666666 1.00\",\"seatRate\":\"2.4%\",\"showInfo\":\"9750\",\"showRate\":\"3.0%\",\"splitAvgViewBox\":\"32.4\",\"splitBoxInfo\":\"55.49\",\"splitBoxRate\":\"1.4%\",\"splitSumBoxInfo\":\"8.10亿\",\"sumBoxInfo\":\"8.86亿\",\"viewInfo\":\"1.7\",\"viewInfoV2\":\"1.7万\"},{\"avgSeatView\":\"3.4%\",\"avgShowView\":\"2\",\"avgViewBox\":\"34.0\",\"boxInfo\":\"47.18\",\"boxRate\":\"1.0%\",\"movieId\":247295,\"movieName\":\"驯龙高手3\",\"myRefundNumInfo\":\"--\",\"myRefundRateInfo\":\"--\",\"onlineBoxRate\":\"--\",\"refundViewInfo\":\"--\",\"refundViewRate\":\"--\",\"releaseInfo\":\"上映19天\",\"releaseInfoColor\":\"#666666 1.00\",\"seatRate\":\"2.0%\",\"showInfo\":\"8328\",\"showRate\":\"2.6%\",\"splitAvgViewBox\":\"31.2\",\"splitBoxInfo\":\"43.26\",\"splitBoxRate\":\"1.0%\",\"splitSumBoxInfo\":\"3.23亿\",\"sumBoxInfo\":\"3.52亿\",\"viewInfo\":\"1.3\",\"viewInfoV2\":\"1.3万\"},{\"avgSeatView\":\"3.5%\",\"avgShowView\":\"2\",\"avgViewBox\":\"30.0\",\"boxInfo\":\"43.53\",\"boxRate\":\"0.9%\",\"movieId\":1250341,\"movieName\":\"夏目友人帐\",\"myRefundNumInfo\":\"--\",\"myRefundRateInfo\":\"--\",\"onlineBoxRate\":\"--\",\"refundViewInfo\":\"--\",\"refundViewRate\":\"--\",\"releaseInfo\":\"上映13天\",\"releaseInfoColor\":\"#666666 1.00\",\"seatRate\":\"1.8%\",\"showInfo\":\"8182\",\"showRate\":\"2.5%\",\"splitAvgViewBox\":\"26.9\",\"splitBoxInfo\":\"39.12\",\"splitBoxRate\":\"0.9%\",\"splitSumBoxInfo\":\"9901.0万\",\"sumBoxInfo\":\"1.10亿\",\"viewInfo\":\"1.4\",\"viewInfoV2\":\"1.4万\"},{\"avgSeatView\":\"3.6%\",\"avgShowView\":\"2\",\"avgViewBox\":\"34.7\",\"boxInfo\":\"36.44\",\"boxRate\":\"0.8%\",\"movieId\":1229799,\"movieName\":\"过春天\",\"myRefundNumInfo\":\"--\",\"myRefundRateInfo\":\"--\",\"onlineBoxRate\":\"--\",\"refundViewInfo\":\"--\",\"refundViewRate\":\"--\",\"releaseInfo\":\"上映5天\",\"releaseInfoColor\":\"#666666 1.00\",\"seatRate\":\"1.3%\",\"showInfo\":\"5882\",\"showRate\":\"1.8%\",\"splitAvgViewBox\":\"31.7\",\"splitBoxInfo\":\"33.27\",\"splitBoxRate\":\"0.8%\",\"splitSumBoxInfo\":\"713.1万\",\"sumBoxInfo\":\"774.6万\",\"viewInfo\":\"1.0\",\"viewInfoV2\":\"1.0万\"},{\"avgSeatView\":\"3.5%\",\"avgShowView\":\"3\",\"avgViewBox\":\"37.4\",\"boxInfo\":\"30.01\",\"boxRate\":\"0.6%\",\"movieId\":1212492,\"movieName\":\"老师·好\",\"myRefundNumInfo\":\"--\",\"myRefundRateInfo\":\"--\",\"onlineBoxRate\":\"--\",\"refundViewInfo\":\"--\",\"refundViewRate\":\"--\",\"releaseInfo\":\"点映\",\"releaseInfoColor\":\"#FF9900 1.00\",\"seatRate\":\"0.8%\",\"showInfo\":\"2784\",\"showRate\":\"0.8%\",\"splitAvgViewBox\":\"33.9\",\"splitBoxInfo\":\"27.19\",\"splitBoxRate\":\"0.6%\",\"splitSumBoxInfo\":\"224.6万\",\"sumBoxInfo\":\"234.7万\",\"viewInfo\":\"0.8\",\"viewInfoV2\":\"8012\"},{\"avgSeatView\":\"8.6%\",\"avgShowView\":\"10\",\"avgViewBox\":\"44.6\",\"boxInfo\":\"19.75\",\"boxRate\":\"0.4%\",\"movieId\":507792,\"movieName\":\"地久天长\",\"myRefundNumInfo\":\"--\",\"myRefundRateInfo\":\"--\",\"onlineBoxRate\":\"--\",\"refundViewInfo\":\"--\",\"refundViewRate\":\"--\",\"releaseInfo\":\"点映\",\"releaseInfoColor\":\"#FF9900 1.00\",\"seatRate\":\"0.1%\",\"showInfo\":\"491\",\"showRate\":\"0.1%\",\"splitAvgViewBox\":\"41.2\",\"splitBoxInfo\":\"18.22\",\"splitBoxRate\":\"0.4%\",\"splitSumBoxInfo\":\"309.9万\",\"sumBoxInfo\":\"329.6万\",\"viewInfo\":\"0.4\",\"viewInfoV2\":\"4424\"},{\"avgSeatView\":\"4.1%\",\"avgShowView\":\"1\",\"avgViewBox\":\"33.0\",\"boxInfo\":\"9.42\",\"boxRate\":\"0.2%\",\"movieId\":1212353,\"movieName\":\"阳台上\",\"myRefundNumInfo\":\"--\",\"myRefundRateInfo\":\"--\",\"onlineBoxRate\":\"--\",\"refundViewInfo\":\"--\",\"refundViewRate\":\"--\",\"releaseInfo\":\"上映5天\",\"releaseInfoColor\":\"#666666 1.00\",\"seatRate\":\"1.1%\",\"showInfo\":\"4858\",\"showRate\":\"1.5%\",\"splitAvgViewBox\":\"30.4\",\"splitBoxInfo\":\"8.69\",\"splitBoxRate\":\"0.2%\",\"splitSumBoxInfo\":\"339.4万\",\"sumBoxInfo\":\"368.6万\",\"viewInfo\":\"0.2\",\"viewInfoV2\":\"2855\"},{\"avgSeatView\":\"35.0%\",\"avgShowView\":\"56\",\"avgViewBox\":\"32.5\",\"boxInfo\":\"4.69\",\"boxRate\":\"0.1%\",\"movieId\":1238775,\"movieName\":\"特别追踪\",\"myRefundNumInfo\":\"--\",\"myRefundRateInfo\":\"--\",\"onlineBoxRate\":\"--\",\"refundViewInfo\":\"--\",\"refundViewRate\":\"--\",\"releaseInfo\":\"2018-09\",\"releaseInfoColor\":\"#666666 1.00\",\"seatRate\":\"<0.1%\",\"showInfo\":\"26\",\"showRate\":\"<0.1%\",\"splitAvgViewBox\":\"30.0\",\"splitBoxInfo\":\"4.33\",\"splitBoxRate\":\"0.1%\",\"splitSumBoxInfo\":\"7.1万\",\"sumBoxInfo\":\"7.7万\",\"viewInfo\":\"0.1\",\"viewInfoV2\":\"1444\"},{\"avgSeatView\":\"20.3%\",\"avgShowView\":\"6\",\"avgViewBox\":\"32.5\",\"boxInfo\":\"4.33\",\"boxRate\":\"<0.1%\",\"movieId\":1263280,\"movieName\":\"爱无痕\",\"myRefundNumInfo\":\"--\",\"myRefundRateInfo\":\"--\",\"onlineBoxRate\":\"--\",\"refundViewInfo\":\"--\",\"refundViewRate\":\"--\",\"releaseInfo\":\"上映首日\",\"releaseInfoColor\":\"#FF9900 1.00\",\"seatRate\":\"<0.1%\",\"showInfo\":\"255\",\"showRate\":\"<0.1%\",\"splitAvgViewBox\":\"30.0\",\"splitBoxInfo\":\"4.00\",\"splitBoxRate\":\"0.1%\",\"splitSumBoxInfo\":\"4.7万\",\"sumBoxInfo\":\"5.0万\",\"viewInfo\":\"0.1\",\"viewInfoV2\":\"1335\"},{\"avgSeatView\":\"3.6%\",\"avgShowView\":\"1\",\"avgViewBox\":\"29.2\",\"boxInfo\":\"4.20\",\"boxRate\":\"<0.1%\",\"movieId\":1228761,\"movieName\":\"把哥哥退货可以吗\",\"myRefundNumInfo\":\"--\",\"myRefundRateInfo\":\"--\",\"onlineBoxRate\":\"--\",\"refundViewInfo\":\"--\",\"refundViewRate\":\"--\",\"releaseInfo\":\"上映5天\",\"releaseInfoColor\":\"#666666 1.00\",\"seatRate\":\"0.5%\",\"showInfo\":\"2234\",\"showRate\":\"0.7%\",\"splitAvgViewBox\":\"26.4\",\"splitBoxInfo\":\"3.80\",\"splitBoxRate\":\"<0.1%\",\"splitSumBoxInfo\":\"138.2万\",\"sumBoxInfo\":\"153.3万\",\"viewInfo\":\"0.1\",\"viewInfoV2\":\"1438\"},{\"avgSeatView\":\"3.0%\",\"avgShowView\":\"1\",\"avgViewBox\":\"35.3\",\"boxInfo\":\"3.73\",\"boxRate\":\"<0.1%\",\"movieId\":1218091,\"movieName\":\"飞驰人生\",\"myRefundNumInfo\":\"--\",\"myRefundRateInfo\":\"--\",\"onlineBoxRate\":\"--\",\"refundViewInfo\":\"--\",\"refundViewRate\":\"--\",\"releaseInfo\":\"上映43天\",\"releaseInfoColor\":\"#666666 1.00\",\"seatRate\":\"0.2%\",\"showInfo\":\"1226\",\"showRate\":\"0.3%\",\"splitAvgViewBox\":\"32.7\",\"splitBoxInfo\":\"3.45\",\"splitBoxRate\":\"<0.1%\",\"splitSumBoxInfo\":\"15.93亿\",\"sumBoxInfo\":\"17.15亿\",\"viewInfo\":\"0.1\",\"viewInfoV2\":\"1057\"},{\"avgSeatView\":\"35.9%\",\"avgShowView\":\"102\",\"avgViewBox\":\"32.5\",\"boxInfo\":\"3.61\",\"boxRate\":\"<0.1%\",\"movieId\":1223430,\"movieName\":\"浴血广昌\",\"myRefundNumInfo\":\"--\",\"myRefundRateInfo\":\"--\",\"onlineBoxRate\":\"--\",\"refundViewInfo\":\"--\",\"refundViewRate\":\"--\",\"releaseInfo\":\"2018-08\",\"releaseInfoColor\":\"#666666 1.00\",\"seatRate\":\"<0.1%\",\"showInfo\":\"11\",\"showRate\":\"<0.1%\",\"splitAvgViewBox\":\"30.0\",\"splitBoxInfo\":\"3.33\",\"splitBoxRate\":\"<0.1%\",\"splitSumBoxInfo\":\"9760.6万\",\"sumBoxInfo\":\"9768.4万\",\"viewInfo\":\"0.1\",\"viewInfoV2\":\"1112\"},{\"avgSeatView\":\"4.3%\",\"avgShowView\":\"3\",\"avgViewBox\":\"34.7\",\"boxInfo\":\"3.34\",\"boxRate\":\"<0.1%\",\"movieId\":1215383,\"movieName\":\"318号公路\",\"myRefundNumInfo\":\"--\",\"myRefundRateInfo\":\"--\",\"onlineBoxRate\":\"--\",\"refundViewInfo\":\"--\",\"refundViewRate\":\"--\",\"releaseInfo\":\"上映2天\",\"releaseInfoColor\":\"#666666 1.00\",\"seatRate\":\"<0.1%\",\"showInfo\":\"418\",\"showRate\":\"0.1%\",\"splitAvgViewBox\":\"32.6\",\"splitBoxInfo\":\"3.15\",\"splitBoxRate\":\"<0.1%\",\"splitSumBoxInfo\":\"14.9万\",\"sumBoxInfo\":\"15.7万\",\"viewInfo\":\"0.0\",\"viewInfoV2\":\"965\"},{\"avgSeatView\":\"1.5%\",\"avgShowView\":\"1\",\"avgViewBox\":\"25.5\",\"boxInfo\":\"2.79\",\"boxRate\":\"<0.1%\",\"movieId\":1251817,\"movieName\":\"少女宿舍\",\"myRefundNumInfo\":\"--\",\"myRefundRateInfo\":\"--\",\"onlineBoxRate\":\"--\",\"refundViewInfo\":\"--\",\"refundViewRate\":\"--\",\"releaseInfo\":\"上映5天\",\"releaseInfoColor\":\"#666666 1.00\",\"seatRate\":\"0.4%\",\"showInfo\":\"1881\",\"showRate\":\"0.5%\",\"splitAvgViewBox\":\"22.6\",\"splitBoxInfo\":\"2.47\",\"splitBoxRate\":\"<0.1%\",\"splitSumBoxInfo\":\"109.1万\",\"sumBoxInfo\":\"122.2万\",\"viewInfo\":\"0.1\",\"viewInfoV2\":\"1092\"},{\"avgSeatView\":\"21.6%\",\"avgShowView\":\"21\",\"avgViewBox\":\"28.0\",\"boxInfo\":\"2.53\",\"boxRate\":\"<0.1%\",\"movieId\":1262087,\"movieName\":\"醒来之爱的呼唤\",\"myRefundNumInfo\":\"--\",\"myRefundRateInfo\":\"--\",\"onlineBoxRate\":\"--\",\"refundViewInfo\":\"--\",\"refundViewRate\":\"--\",\"releaseInfo\":\"上映12天\",\"releaseInfoColor\":\"#666666 1.00\",\"seatRate\":\"<0.1%\",\"showInfo\":\"44\",\"showRate\":\"<0.1%\",\"splitAvgViewBox\":\"27.9\",\"splitBoxInfo\":\"2.52\",\"splitBoxRate\":\"<0.1%\",\"splitSumBoxInfo\":\"215.8万\",\"sumBoxInfo\":\"217.8万\",\"viewInfo\":\"0.0\",\"viewInfoV2\":\"902\"},{\"avgSeatView\":\"10.6%\",\"avgShowView\":\"9\",\"avgViewBox\":\"26.9\",\"boxInfo\":\"2.42\",\"boxRate\":\"<0.1%\",\"movieId\":1261537,\"movieName\":\"梦想之城\",\"myRefundNumInfo\":\"--\",\"myRefundRateInfo\":\"--\",\"onlineBoxRate\":\"--\",\"refundViewInfo\":\"--\",\"refundViewRate\":\"--\",\"releaseInfo\":\"上映12天\",\"releaseInfoColor\":\"#666666 1.00\",\"seatRate\":\"<0.1%\",\"showInfo\":\"100\",\"showRate\":\"<0.1%\",\"splitAvgViewBox\":\"25.9\",\"splitBoxInfo\":\"2.33\",\"splitBoxRate\":\"<0.1%\",\"splitSumBoxInfo\":\"36.8万\",\"sumBoxInfo\":\"38.0万\",\"viewInfo\":\"0.0\",\"viewInfoV2\":\"900\"},{\"avgSeatView\":\"57.0%\",\"avgShowView\":\"140\",\"avgViewBox\":\"38.1\",\"boxInfo\":\"2.13\",\"boxRate\":\"<0.1%\",\"movieId\":1249315,\"movieName\":\"大路朝天\",\"myRefundNumInfo\":\"--\",\"myRefundRateInfo\":\"--\",\"onlineBoxRate\":\"--\",\"refundViewInfo\":\"--\",\"refundViewRate\":\"--\",\"releaseInfo\":\"上映88天\",\"releaseInfoColor\":\"#666666 1.00\",\"seatRate\":\"<0.1%\",\"showInfo\":\"4\",\"showRate\":\"<0.1%\",\"splitAvgViewBox\":\"38.1\",\"splitBoxInfo\":\"2.13\",\"splitBoxRate\":\"<0.1%\",\"splitSumBoxInfo\":\"2493.7万\",\"sumBoxInfo\":\"2494.8万\",\"viewInfo\":\"0.0\",\"viewInfoV2\":\"559\"},{\"avgSeatView\":\"4.1%\",\"avgShowView\":\"20\",\"avgViewBox\":\"32.5\",\"boxInfo\":\"1.33\",\"boxRate\":\"<0.1%\",\"movieId\":1262397,\"movieName\":\"小石头下乡记\",\"myRefundNumInfo\":\"--\",\"myRefundRateInfo\":\"--\",\"onlineBoxRate\":\"--\",\"refundViewInfo\":\"--\",\"refundViewRate\":\"--\",\"releaseInfo\":\"上映8天\",\"releaseInfoColor\":\"#666666 1.00\",\"seatRate\":\"<0.1%\",\"showInfo\":\"21\",\"showRate\":\"<0.1%\",\"splitAvgViewBox\":\"30.0\",\"splitBoxInfo\":\"1.23\",\"splitBoxRate\":\"<0.1%\",\"splitSumBoxInfo\":\"2.5万\",\"sumBoxInfo\":\"2.6万\",\"viewInfo\":\"0.0\",\"viewInfoV2\":\"412\"},{\"avgSeatView\":\"5.0%\",\"avgShowView\":\"2\",\"avgViewBox\":\"35.2\",\"boxInfo\":\"1.19\",\"boxRate\":\"<0.1%\",\"movieId\":1209277,\"movieName\":\"老公去哪了\",\"myRefundNumInfo\":\"--\",\"myRefundRateInfo\":\"--\",\"onlineBoxRate\":\"--\",\"refundViewInfo\":\"--\",\"refundViewRate\":\"--\",\"releaseInfo\":\"上映5天\",\"releaseInfoColor\":\"#666666 1.00\",\"seatRate\":\"<0.1%\",\"showInfo\":\"337\",\"showRate\":\"0.1%\",\"splitAvgViewBox\":\"32.5\",\"splitBoxInfo\":\"1.10\",\"splitBoxRate\":\"<0.1%\",\"splitSumBoxInfo\":\"71.0万\",\"sumBoxInfo\":\"72.3万\",\"viewInfo\":\"0.0\",\"viewInfoV2\":\"339\"}],\"totalBoxUnit\":\"万\",\"totalBox\":\"4395.7\",\"splitTotalBoxUnit\":\"万\",\"queryDate\":\"2019-03-19\",\"serverTime\":\"2019-03-19 15:12:03\",\"splitTotalBoxUnitInfo\":\"万\",\"splitTotalBoxInfo\":\"3947.9\"}}'"
      ]
     },
     "execution_count": 83,
     "metadata": {},
     "output_type": "execute_result"
    }
   ],
   "source": [
    "response.text"
   ]
  },
  {
   "cell_type": "code",
   "execution_count": 89,
   "metadata": {
    "scrolled": false
   },
   "outputs": [
    {
     "name": "stdout",
     "output_type": "stream",
     "text": [
      "crystal : {'maoyanViewInfo': '69.7', 'status': 1, 'viewInfo': '137.2', 'viewUnitInfo': '万张'}\n",
      "queryDate : 2019-03-19\n",
      "serverTime : 2019-03-19 15:12:03\n",
      "serverTimestamp : 1552979523000\n",
      "splitTotalBox : 3947.9\n",
      "splitTotalBoxInfo : 3947.9\n",
      "splitTotalBoxUnit : 万\n",
      "splitTotalBoxUnitInfo : 万\n",
      "totalBox : 4395.7\n",
      "totalBoxInfo : 4395.7\n",
      "totalBoxUnit : 万\n",
      "totalBoxUnitInfo : 万\n",
      "updateInfo : 北京时间 15:12:03\n"
     ]
    }
   ],
   "source": [
    "for item in ['crystal',\n",
    "             'queryDate',\n",
    "             'serverTime',\n",
    "             'serverTimestamp',\n",
    "             'splitTotalBox',\n",
    "             'splitTotalBoxInfo',\n",
    "             'splitTotalBoxUnit',\n",
    "             'splitTotalBoxUnitInfo',\n",
    "             'totalBox',\n",
    "             'totalBoxInfo',\n",
    "             'totalBoxUnit',\n",
    "             'totalBoxUnitInfo',\n",
    "             'updateInfo']:\n",
    "    print(item,\":\",response.json()['data'][item])\n"
   ]
  },
  {
   "cell_type": "code",
   "execution_count": 91,
   "metadata": {
    "scrolled": false
   },
   "outputs": [
    {
     "name": "stdout",
     "output_type": "stream",
     "text": [
      "{'avgSeatView': '6.0%', 'avgShowView': '8', 'avgViewBox': '30.9', 'boxInfo': '3088.78', 'boxRate': '70.2%', 'movieId': 1216383, 'movieName': '比悲伤更悲伤的故事', 'myRefundNumInfo': '--', 'myRefundRateInfo': '--', 'onlineBoxRate': '--', 'refundViewInfo': '--', 'refundViewRate': '--', 'releaseInfo': '上映6天', 'releaseInfoColor': '#666666 1.00', 'seatRate': '45.6%', 'showInfo': '135007', 'showRate': '42.8%', 'splitAvgViewBox': '27.6', 'splitBoxInfo': '2756.55', 'splitBoxRate': '69.8%', 'splitSumBoxInfo': '4.14亿', 'sumBoxInfo': '4.64亿', 'viewInfo': '99.7', 'viewInfoV2': '99.7万'}\n",
      "{'avgSeatView': '2.7%', 'avgShowView': '3', 'avgViewBox': '36.9', 'boxInfo': '554.07', 'boxRate': '12.6%', 'movieId': 341139, 'movieName': '惊奇队长', 'myRefundNumInfo': '--', 'myRefundRateInfo': '--', 'onlineBoxRate': '--', 'refundViewInfo': '--', 'refundViewRate': '--', 'releaseInfo': '上映12天', 'releaseInfoColor': '#666666 1.00', 'seatRate': '26.5%', 'showInfo': '69831', 'showRate': '22.1%', 'splitAvgViewBox': '33.8', 'splitBoxInfo': '507.64', 'splitBoxRate': '12.8%', 'splitSumBoxInfo': '8.34亿', 'sumBoxInfo': '9.05亿', 'viewInfo': '14.9', 'viewInfoV2': '14.9万'}\n",
      "{'avgSeatView': '3.5%', 'avgShowView': '3', 'avgViewBox': '33.3', 'boxInfo': '314.66', 'boxRate': '7.1%', 'movieId': 1206605, 'movieName': '绿皮书', 'myRefundNumInfo': '--', 'myRefundRateInfo': '--', 'onlineBoxRate': '--', 'refundViewInfo': '--', 'refundViewRate': '--', 'releaseInfo': '上映19天', 'releaseInfoColor': '#666666 1.00', 'seatRate': '8.9%', 'showInfo': '33119', 'showRate': '10.5%', 'splitAvgViewBox': '30.0', 'splitBoxInfo': '283.95', 'splitBoxRate': '7.1%', 'splitSumBoxInfo': '3.78亿', 'sumBoxInfo': '4.19亿', 'viewInfo': '9.4', 'viewInfoV2': '9.4万'}\n",
      "{'avgSeatView': '3.1%', 'avgShowView': '2', 'avgViewBox': '31.5', 'boxInfo': '75.11', 'boxRate': '1.7%', 'movieId': 1220571, 'movieName': '我的英雄学院：两位英雄', 'myRefundNumInfo': '--', 'myRefundRateInfo': '--', 'onlineBoxRate': '--', 'refundViewInfo': '--', 'refundViewRate': '--', 'releaseInfo': '上映5天', 'releaseInfoColor': '#666666 1.00', 'seatRate': '4.3%', 'showInfo': '17271', 'showRate': '5.4%', 'splitAvgViewBox': '28.2', 'splitBoxInfo': '67.37', 'splitBoxRate': '1.7%', 'splitSumBoxInfo': '3067.9万', 'sumBoxInfo': '3411.5万', 'viewInfo': '2.3', 'viewInfoV2': '2.3万'}\n",
      "{'avgSeatView': '3.8%', 'avgShowView': '3', 'avgViewBox': '33.4', 'boxInfo': '75.01', 'boxRate': '1.7%', 'movieId': 248906, 'movieName': '流浪地球', 'myRefundNumInfo': '--', 'myRefundRateInfo': '--', 'onlineBoxRate': '--', 'refundViewInfo': '--', 'refundViewRate': '--', 'releaseInfo': '上映43天', 'releaseInfoColor': '#666666 1.00', 'seatRate': '2.7%', 'showInfo': '11112', 'showRate': '3.5%', 'splitAvgViewBox': '30.7', 'splitBoxInfo': '68.89', 'splitBoxRate': '1.7%', 'splitSumBoxInfo': '43.10亿', 'sumBoxInfo': '46.34亿', 'viewInfo': '2.2', 'viewInfoV2': '2.2万'}\n",
      "{'avgSeatView': '3.2%', 'avgShowView': '2', 'avgViewBox': '35.6', 'boxInfo': '60.94', 'boxRate': '1.3%', 'movieId': 410629, 'movieName': '阿丽塔：战斗天使', 'myRefundNumInfo': '--', 'myRefundRateInfo': '--', 'onlineBoxRate': '--', 'refundViewInfo': '--', 'refundViewRate': '--', 'releaseInfo': '上映26天', 'releaseInfoColor': '#666666 1.00', 'seatRate': '2.4%', 'showInfo': '9750', 'showRate': '3.0%', 'splitAvgViewBox': '32.4', 'splitBoxInfo': '55.49', 'splitBoxRate': '1.4%', 'splitSumBoxInfo': '8.10亿', 'sumBoxInfo': '8.86亿', 'viewInfo': '1.7', 'viewInfoV2': '1.7万'}\n",
      "{'avgSeatView': '3.4%', 'avgShowView': '2', 'avgViewBox': '34.0', 'boxInfo': '47.18', 'boxRate': '1.0%', 'movieId': 247295, 'movieName': '驯龙高手3', 'myRefundNumInfo': '--', 'myRefundRateInfo': '--', 'onlineBoxRate': '--', 'refundViewInfo': '--', 'refundViewRate': '--', 'releaseInfo': '上映19天', 'releaseInfoColor': '#666666 1.00', 'seatRate': '2.0%', 'showInfo': '8328', 'showRate': '2.6%', 'splitAvgViewBox': '31.2', 'splitBoxInfo': '43.26', 'splitBoxRate': '1.0%', 'splitSumBoxInfo': '3.23亿', 'sumBoxInfo': '3.52亿', 'viewInfo': '1.3', 'viewInfoV2': '1.3万'}\n",
      "{'avgSeatView': '3.5%', 'avgShowView': '2', 'avgViewBox': '30.0', 'boxInfo': '43.53', 'boxRate': '0.9%', 'movieId': 1250341, 'movieName': '夏目友人帐', 'myRefundNumInfo': '--', 'myRefundRateInfo': '--', 'onlineBoxRate': '--', 'refundViewInfo': '--', 'refundViewRate': '--', 'releaseInfo': '上映13天', 'releaseInfoColor': '#666666 1.00', 'seatRate': '1.8%', 'showInfo': '8182', 'showRate': '2.5%', 'splitAvgViewBox': '26.9', 'splitBoxInfo': '39.12', 'splitBoxRate': '0.9%', 'splitSumBoxInfo': '9901.0万', 'sumBoxInfo': '1.10亿', 'viewInfo': '1.4', 'viewInfoV2': '1.4万'}\n",
      "{'avgSeatView': '3.6%', 'avgShowView': '2', 'avgViewBox': '34.7', 'boxInfo': '36.44', 'boxRate': '0.8%', 'movieId': 1229799, 'movieName': '过春天', 'myRefundNumInfo': '--', 'myRefundRateInfo': '--', 'onlineBoxRate': '--', 'refundViewInfo': '--', 'refundViewRate': '--', 'releaseInfo': '上映5天', 'releaseInfoColor': '#666666 1.00', 'seatRate': '1.3%', 'showInfo': '5882', 'showRate': '1.8%', 'splitAvgViewBox': '31.7', 'splitBoxInfo': '33.27', 'splitBoxRate': '0.8%', 'splitSumBoxInfo': '713.1万', 'sumBoxInfo': '774.6万', 'viewInfo': '1.0', 'viewInfoV2': '1.0万'}\n",
      "{'avgSeatView': '3.5%', 'avgShowView': '3', 'avgViewBox': '37.4', 'boxInfo': '30.01', 'boxRate': '0.6%', 'movieId': 1212492, 'movieName': '老师·好', 'myRefundNumInfo': '--', 'myRefundRateInfo': '--', 'onlineBoxRate': '--', 'refundViewInfo': '--', 'refundViewRate': '--', 'releaseInfo': '点映', 'releaseInfoColor': '#FF9900 1.00', 'seatRate': '0.8%', 'showInfo': '2784', 'showRate': '0.8%', 'splitAvgViewBox': '33.9', 'splitBoxInfo': '27.19', 'splitBoxRate': '0.6%', 'splitSumBoxInfo': '224.6万', 'sumBoxInfo': '234.7万', 'viewInfo': '0.8', 'viewInfoV2': '8012'}\n",
      "{'avgSeatView': '8.6%', 'avgShowView': '10', 'avgViewBox': '44.6', 'boxInfo': '19.75', 'boxRate': '0.4%', 'movieId': 507792, 'movieName': '地久天长', 'myRefundNumInfo': '--', 'myRefundRateInfo': '--', 'onlineBoxRate': '--', 'refundViewInfo': '--', 'refundViewRate': '--', 'releaseInfo': '点映', 'releaseInfoColor': '#FF9900 1.00', 'seatRate': '0.1%', 'showInfo': '491', 'showRate': '0.1%', 'splitAvgViewBox': '41.2', 'splitBoxInfo': '18.22', 'splitBoxRate': '0.4%', 'splitSumBoxInfo': '309.9万', 'sumBoxInfo': '329.6万', 'viewInfo': '0.4', 'viewInfoV2': '4424'}\n",
      "{'avgSeatView': '4.1%', 'avgShowView': '1', 'avgViewBox': '33.0', 'boxInfo': '9.42', 'boxRate': '0.2%', 'movieId': 1212353, 'movieName': '阳台上', 'myRefundNumInfo': '--', 'myRefundRateInfo': '--', 'onlineBoxRate': '--', 'refundViewInfo': '--', 'refundViewRate': '--', 'releaseInfo': '上映5天', 'releaseInfoColor': '#666666 1.00', 'seatRate': '1.1%', 'showInfo': '4858', 'showRate': '1.5%', 'splitAvgViewBox': '30.4', 'splitBoxInfo': '8.69', 'splitBoxRate': '0.2%', 'splitSumBoxInfo': '339.4万', 'sumBoxInfo': '368.6万', 'viewInfo': '0.2', 'viewInfoV2': '2855'}\n",
      "{'avgSeatView': '35.0%', 'avgShowView': '56', 'avgViewBox': '32.5', 'boxInfo': '4.69', 'boxRate': '0.1%', 'movieId': 1238775, 'movieName': '特别追踪', 'myRefundNumInfo': '--', 'myRefundRateInfo': '--', 'onlineBoxRate': '--', 'refundViewInfo': '--', 'refundViewRate': '--', 'releaseInfo': '2018-09', 'releaseInfoColor': '#666666 1.00', 'seatRate': '<0.1%', 'showInfo': '26', 'showRate': '<0.1%', 'splitAvgViewBox': '30.0', 'splitBoxInfo': '4.33', 'splitBoxRate': '0.1%', 'splitSumBoxInfo': '7.1万', 'sumBoxInfo': '7.7万', 'viewInfo': '0.1', 'viewInfoV2': '1444'}\n",
      "{'avgSeatView': '20.3%', 'avgShowView': '6', 'avgViewBox': '32.5', 'boxInfo': '4.33', 'boxRate': '<0.1%', 'movieId': 1263280, 'movieName': '爱无痕', 'myRefundNumInfo': '--', 'myRefundRateInfo': '--', 'onlineBoxRate': '--', 'refundViewInfo': '--', 'refundViewRate': '--', 'releaseInfo': '上映首日', 'releaseInfoColor': '#FF9900 1.00', 'seatRate': '<0.1%', 'showInfo': '255', 'showRate': '<0.1%', 'splitAvgViewBox': '30.0', 'splitBoxInfo': '4.00', 'splitBoxRate': '0.1%', 'splitSumBoxInfo': '4.7万', 'sumBoxInfo': '5.0万', 'viewInfo': '0.1', 'viewInfoV2': '1335'}\n",
      "{'avgSeatView': '3.6%', 'avgShowView': '1', 'avgViewBox': '29.2', 'boxInfo': '4.20', 'boxRate': '<0.1%', 'movieId': 1228761, 'movieName': '把哥哥退货可以吗', 'myRefundNumInfo': '--', 'myRefundRateInfo': '--', 'onlineBoxRate': '--', 'refundViewInfo': '--', 'refundViewRate': '--', 'releaseInfo': '上映5天', 'releaseInfoColor': '#666666 1.00', 'seatRate': '0.5%', 'showInfo': '2234', 'showRate': '0.7%', 'splitAvgViewBox': '26.4', 'splitBoxInfo': '3.80', 'splitBoxRate': '<0.1%', 'splitSumBoxInfo': '138.2万', 'sumBoxInfo': '153.3万', 'viewInfo': '0.1', 'viewInfoV2': '1438'}\n",
      "{'avgSeatView': '3.0%', 'avgShowView': '1', 'avgViewBox': '35.3', 'boxInfo': '3.73', 'boxRate': '<0.1%', 'movieId': 1218091, 'movieName': '飞驰人生', 'myRefundNumInfo': '--', 'myRefundRateInfo': '--', 'onlineBoxRate': '--', 'refundViewInfo': '--', 'refundViewRate': '--', 'releaseInfo': '上映43天', 'releaseInfoColor': '#666666 1.00', 'seatRate': '0.2%', 'showInfo': '1226', 'showRate': '0.3%', 'splitAvgViewBox': '32.7', 'splitBoxInfo': '3.45', 'splitBoxRate': '<0.1%', 'splitSumBoxInfo': '15.93亿', 'sumBoxInfo': '17.15亿', 'viewInfo': '0.1', 'viewInfoV2': '1057'}\n",
      "{'avgSeatView': '35.9%', 'avgShowView': '102', 'avgViewBox': '32.5', 'boxInfo': '3.61', 'boxRate': '<0.1%', 'movieId': 1223430, 'movieName': '浴血广昌', 'myRefundNumInfo': '--', 'myRefundRateInfo': '--', 'onlineBoxRate': '--', 'refundViewInfo': '--', 'refundViewRate': '--', 'releaseInfo': '2018-08', 'releaseInfoColor': '#666666 1.00', 'seatRate': '<0.1%', 'showInfo': '11', 'showRate': '<0.1%', 'splitAvgViewBox': '30.0', 'splitBoxInfo': '3.33', 'splitBoxRate': '<0.1%', 'splitSumBoxInfo': '9760.6万', 'sumBoxInfo': '9768.4万', 'viewInfo': '0.1', 'viewInfoV2': '1112'}\n",
      "{'avgSeatView': '4.3%', 'avgShowView': '3', 'avgViewBox': '34.7', 'boxInfo': '3.34', 'boxRate': '<0.1%', 'movieId': 1215383, 'movieName': '318号公路', 'myRefundNumInfo': '--', 'myRefundRateInfo': '--', 'onlineBoxRate': '--', 'refundViewInfo': '--', 'refundViewRate': '--', 'releaseInfo': '上映2天', 'releaseInfoColor': '#666666 1.00', 'seatRate': '<0.1%', 'showInfo': '418', 'showRate': '0.1%', 'splitAvgViewBox': '32.6', 'splitBoxInfo': '3.15', 'splitBoxRate': '<0.1%', 'splitSumBoxInfo': '14.9万', 'sumBoxInfo': '15.7万', 'viewInfo': '0.0', 'viewInfoV2': '965'}\n",
      "{'avgSeatView': '1.5%', 'avgShowView': '1', 'avgViewBox': '25.5', 'boxInfo': '2.79', 'boxRate': '<0.1%', 'movieId': 1251817, 'movieName': '少女宿舍', 'myRefundNumInfo': '--', 'myRefundRateInfo': '--', 'onlineBoxRate': '--', 'refundViewInfo': '--', 'refundViewRate': '--', 'releaseInfo': '上映5天', 'releaseInfoColor': '#666666 1.00', 'seatRate': '0.4%', 'showInfo': '1881', 'showRate': '0.5%', 'splitAvgViewBox': '22.6', 'splitBoxInfo': '2.47', 'splitBoxRate': '<0.1%', 'splitSumBoxInfo': '109.1万', 'sumBoxInfo': '122.2万', 'viewInfo': '0.1', 'viewInfoV2': '1092'}\n",
      "{'avgSeatView': '21.6%', 'avgShowView': '21', 'avgViewBox': '28.0', 'boxInfo': '2.53', 'boxRate': '<0.1%', 'movieId': 1262087, 'movieName': '醒来之爱的呼唤', 'myRefundNumInfo': '--', 'myRefundRateInfo': '--', 'onlineBoxRate': '--', 'refundViewInfo': '--', 'refundViewRate': '--', 'releaseInfo': '上映12天', 'releaseInfoColor': '#666666 1.00', 'seatRate': '<0.1%', 'showInfo': '44', 'showRate': '<0.1%', 'splitAvgViewBox': '27.9', 'splitBoxInfo': '2.52', 'splitBoxRate': '<0.1%', 'splitSumBoxInfo': '215.8万', 'sumBoxInfo': '217.8万', 'viewInfo': '0.0', 'viewInfoV2': '902'}\n",
      "{'avgSeatView': '10.6%', 'avgShowView': '9', 'avgViewBox': '26.9', 'boxInfo': '2.42', 'boxRate': '<0.1%', 'movieId': 1261537, 'movieName': '梦想之城', 'myRefundNumInfo': '--', 'myRefundRateInfo': '--', 'onlineBoxRate': '--', 'refundViewInfo': '--', 'refundViewRate': '--', 'releaseInfo': '上映12天', 'releaseInfoColor': '#666666 1.00', 'seatRate': '<0.1%', 'showInfo': '100', 'showRate': '<0.1%', 'splitAvgViewBox': '25.9', 'splitBoxInfo': '2.33', 'splitBoxRate': '<0.1%', 'splitSumBoxInfo': '36.8万', 'sumBoxInfo': '38.0万', 'viewInfo': '0.0', 'viewInfoV2': '900'}\n",
      "{'avgSeatView': '57.0%', 'avgShowView': '140', 'avgViewBox': '38.1', 'boxInfo': '2.13', 'boxRate': '<0.1%', 'movieId': 1249315, 'movieName': '大路朝天', 'myRefundNumInfo': '--', 'myRefundRateInfo': '--', 'onlineBoxRate': '--', 'refundViewInfo': '--', 'refundViewRate': '--', 'releaseInfo': '上映88天', 'releaseInfoColor': '#666666 1.00', 'seatRate': '<0.1%', 'showInfo': '4', 'showRate': '<0.1%', 'splitAvgViewBox': '38.1', 'splitBoxInfo': '2.13', 'splitBoxRate': '<0.1%', 'splitSumBoxInfo': '2493.7万', 'sumBoxInfo': '2494.8万', 'viewInfo': '0.0', 'viewInfoV2': '559'}\n",
      "{'avgSeatView': '4.1%', 'avgShowView': '20', 'avgViewBox': '32.5', 'boxInfo': '1.33', 'boxRate': '<0.1%', 'movieId': 1262397, 'movieName': '小石头下乡记', 'myRefundNumInfo': '--', 'myRefundRateInfo': '--', 'onlineBoxRate': '--', 'refundViewInfo': '--', 'refundViewRate': '--', 'releaseInfo': '上映8天', 'releaseInfoColor': '#666666 1.00', 'seatRate': '<0.1%', 'showInfo': '21', 'showRate': '<0.1%', 'splitAvgViewBox': '30.0', 'splitBoxInfo': '1.23', 'splitBoxRate': '<0.1%', 'splitSumBoxInfo': '2.5万', 'sumBoxInfo': '2.6万', 'viewInfo': '0.0', 'viewInfoV2': '412'}\n",
      "{'avgSeatView': '5.0%', 'avgShowView': '2', 'avgViewBox': '35.2', 'boxInfo': '1.19', 'boxRate': '<0.1%', 'movieId': 1209277, 'movieName': '老公去哪了', 'myRefundNumInfo': '--', 'myRefundRateInfo': '--', 'onlineBoxRate': '--', 'refundViewInfo': '--', 'refundViewRate': '--', 'releaseInfo': '上映5天', 'releaseInfoColor': '#666666 1.00', 'seatRate': '<0.1%', 'showInfo': '337', 'showRate': '0.1%', 'splitAvgViewBox': '32.5', 'splitBoxInfo': '1.10', 'splitBoxRate': '<0.1%', 'splitSumBoxInfo': '71.0万', 'sumBoxInfo': '72.3万', 'viewInfo': '0.0', 'viewInfoV2': '339'}\n"
     ]
    }
   ],
   "source": [
    "for movie in response.json()['data']['list']:\n",
    "    print(movie)"
   ]
  },
  {
   "cell_type": "code",
   "execution_count": 92,
   "metadata": {},
   "outputs": [],
   "source": [
    "# 见证pandas的强大之处\n",
    "import pandas as pd"
   ]
  },
  {
   "cell_type": "code",
   "execution_count": 93,
   "metadata": {},
   "outputs": [
    {
     "data": {
      "text/html": [
       "<div>\n",
       "<style scoped>\n",
       "    .dataframe tbody tr th:only-of-type {\n",
       "        vertical-align: middle;\n",
       "    }\n",
       "\n",
       "    .dataframe tbody tr th {\n",
       "        vertical-align: top;\n",
       "    }\n",
       "\n",
       "    .dataframe thead th {\n",
       "        text-align: right;\n",
       "    }\n",
       "</style>\n",
       "<table border=\"1\" class=\"dataframe\">\n",
       "  <thead>\n",
       "    <tr style=\"text-align: right;\">\n",
       "      <th></th>\n",
       "      <th>avgSeatView</th>\n",
       "      <th>avgShowView</th>\n",
       "      <th>avgViewBox</th>\n",
       "      <th>boxInfo</th>\n",
       "      <th>boxRate</th>\n",
       "      <th>movieId</th>\n",
       "      <th>movieName</th>\n",
       "      <th>myRefundNumInfo</th>\n",
       "      <th>myRefundRateInfo</th>\n",
       "      <th>onlineBoxRate</th>\n",
       "      <th>...</th>\n",
       "      <th>seatRate</th>\n",
       "      <th>showInfo</th>\n",
       "      <th>showRate</th>\n",
       "      <th>splitAvgViewBox</th>\n",
       "      <th>splitBoxInfo</th>\n",
       "      <th>splitBoxRate</th>\n",
       "      <th>splitSumBoxInfo</th>\n",
       "      <th>sumBoxInfo</th>\n",
       "      <th>viewInfo</th>\n",
       "      <th>viewInfoV2</th>\n",
       "    </tr>\n",
       "  </thead>\n",
       "  <tbody>\n",
       "    <tr>\n",
       "      <th>0</th>\n",
       "      <td>6.0%</td>\n",
       "      <td>8</td>\n",
       "      <td>30.9</td>\n",
       "      <td>3088.78</td>\n",
       "      <td>70.2%</td>\n",
       "      <td>1216383</td>\n",
       "      <td>比悲伤更悲伤的故事</td>\n",
       "      <td>--</td>\n",
       "      <td>--</td>\n",
       "      <td>--</td>\n",
       "      <td>...</td>\n",
       "      <td>45.6%</td>\n",
       "      <td>135007</td>\n",
       "      <td>42.8%</td>\n",
       "      <td>27.6</td>\n",
       "      <td>2756.55</td>\n",
       "      <td>69.8%</td>\n",
       "      <td>4.14亿</td>\n",
       "      <td>4.64亿</td>\n",
       "      <td>99.7</td>\n",
       "      <td>99.7万</td>\n",
       "    </tr>\n",
       "    <tr>\n",
       "      <th>1</th>\n",
       "      <td>2.7%</td>\n",
       "      <td>3</td>\n",
       "      <td>36.9</td>\n",
       "      <td>554.07</td>\n",
       "      <td>12.6%</td>\n",
       "      <td>341139</td>\n",
       "      <td>惊奇队长</td>\n",
       "      <td>--</td>\n",
       "      <td>--</td>\n",
       "      <td>--</td>\n",
       "      <td>...</td>\n",
       "      <td>26.5%</td>\n",
       "      <td>69831</td>\n",
       "      <td>22.1%</td>\n",
       "      <td>33.8</td>\n",
       "      <td>507.64</td>\n",
       "      <td>12.8%</td>\n",
       "      <td>8.34亿</td>\n",
       "      <td>9.05亿</td>\n",
       "      <td>14.9</td>\n",
       "      <td>14.9万</td>\n",
       "    </tr>\n",
       "    <tr>\n",
       "      <th>2</th>\n",
       "      <td>3.5%</td>\n",
       "      <td>3</td>\n",
       "      <td>33.3</td>\n",
       "      <td>314.66</td>\n",
       "      <td>7.1%</td>\n",
       "      <td>1206605</td>\n",
       "      <td>绿皮书</td>\n",
       "      <td>--</td>\n",
       "      <td>--</td>\n",
       "      <td>--</td>\n",
       "      <td>...</td>\n",
       "      <td>8.9%</td>\n",
       "      <td>33119</td>\n",
       "      <td>10.5%</td>\n",
       "      <td>30.0</td>\n",
       "      <td>283.95</td>\n",
       "      <td>7.1%</td>\n",
       "      <td>3.78亿</td>\n",
       "      <td>4.19亿</td>\n",
       "      <td>9.4</td>\n",
       "      <td>9.4万</td>\n",
       "    </tr>\n",
       "    <tr>\n",
       "      <th>3</th>\n",
       "      <td>3.1%</td>\n",
       "      <td>2</td>\n",
       "      <td>31.5</td>\n",
       "      <td>75.11</td>\n",
       "      <td>1.7%</td>\n",
       "      <td>1220571</td>\n",
       "      <td>我的英雄学院：两位英雄</td>\n",
       "      <td>--</td>\n",
       "      <td>--</td>\n",
       "      <td>--</td>\n",
       "      <td>...</td>\n",
       "      <td>4.3%</td>\n",
       "      <td>17271</td>\n",
       "      <td>5.4%</td>\n",
       "      <td>28.2</td>\n",
       "      <td>67.37</td>\n",
       "      <td>1.7%</td>\n",
       "      <td>3067.9万</td>\n",
       "      <td>3411.5万</td>\n",
       "      <td>2.3</td>\n",
       "      <td>2.3万</td>\n",
       "    </tr>\n",
       "    <tr>\n",
       "      <th>4</th>\n",
       "      <td>3.8%</td>\n",
       "      <td>3</td>\n",
       "      <td>33.4</td>\n",
       "      <td>75.01</td>\n",
       "      <td>1.7%</td>\n",
       "      <td>248906</td>\n",
       "      <td>流浪地球</td>\n",
       "      <td>--</td>\n",
       "      <td>--</td>\n",
       "      <td>--</td>\n",
       "      <td>...</td>\n",
       "      <td>2.7%</td>\n",
       "      <td>11112</td>\n",
       "      <td>3.5%</td>\n",
       "      <td>30.7</td>\n",
       "      <td>68.89</td>\n",
       "      <td>1.7%</td>\n",
       "      <td>43.10亿</td>\n",
       "      <td>46.34亿</td>\n",
       "      <td>2.2</td>\n",
       "      <td>2.2万</td>\n",
       "    </tr>\n",
       "    <tr>\n",
       "      <th>5</th>\n",
       "      <td>3.2%</td>\n",
       "      <td>2</td>\n",
       "      <td>35.6</td>\n",
       "      <td>60.94</td>\n",
       "      <td>1.3%</td>\n",
       "      <td>410629</td>\n",
       "      <td>阿丽塔：战斗天使</td>\n",
       "      <td>--</td>\n",
       "      <td>--</td>\n",
       "      <td>--</td>\n",
       "      <td>...</td>\n",
       "      <td>2.4%</td>\n",
       "      <td>9750</td>\n",
       "      <td>3.0%</td>\n",
       "      <td>32.4</td>\n",
       "      <td>55.49</td>\n",
       "      <td>1.4%</td>\n",
       "      <td>8.10亿</td>\n",
       "      <td>8.86亿</td>\n",
       "      <td>1.7</td>\n",
       "      <td>1.7万</td>\n",
       "    </tr>\n",
       "    <tr>\n",
       "      <th>6</th>\n",
       "      <td>3.4%</td>\n",
       "      <td>2</td>\n",
       "      <td>34.0</td>\n",
       "      <td>47.18</td>\n",
       "      <td>1.0%</td>\n",
       "      <td>247295</td>\n",
       "      <td>驯龙高手3</td>\n",
       "      <td>--</td>\n",
       "      <td>--</td>\n",
       "      <td>--</td>\n",
       "      <td>...</td>\n",
       "      <td>2.0%</td>\n",
       "      <td>8328</td>\n",
       "      <td>2.6%</td>\n",
       "      <td>31.2</td>\n",
       "      <td>43.26</td>\n",
       "      <td>1.0%</td>\n",
       "      <td>3.23亿</td>\n",
       "      <td>3.52亿</td>\n",
       "      <td>1.3</td>\n",
       "      <td>1.3万</td>\n",
       "    </tr>\n",
       "    <tr>\n",
       "      <th>7</th>\n",
       "      <td>3.5%</td>\n",
       "      <td>2</td>\n",
       "      <td>30.0</td>\n",
       "      <td>43.53</td>\n",
       "      <td>0.9%</td>\n",
       "      <td>1250341</td>\n",
       "      <td>夏目友人帐</td>\n",
       "      <td>--</td>\n",
       "      <td>--</td>\n",
       "      <td>--</td>\n",
       "      <td>...</td>\n",
       "      <td>1.8%</td>\n",
       "      <td>8182</td>\n",
       "      <td>2.5%</td>\n",
       "      <td>26.9</td>\n",
       "      <td>39.12</td>\n",
       "      <td>0.9%</td>\n",
       "      <td>9901.0万</td>\n",
       "      <td>1.10亿</td>\n",
       "      <td>1.4</td>\n",
       "      <td>1.4万</td>\n",
       "    </tr>\n",
       "    <tr>\n",
       "      <th>8</th>\n",
       "      <td>3.6%</td>\n",
       "      <td>2</td>\n",
       "      <td>34.7</td>\n",
       "      <td>36.44</td>\n",
       "      <td>0.8%</td>\n",
       "      <td>1229799</td>\n",
       "      <td>过春天</td>\n",
       "      <td>--</td>\n",
       "      <td>--</td>\n",
       "      <td>--</td>\n",
       "      <td>...</td>\n",
       "      <td>1.3%</td>\n",
       "      <td>5882</td>\n",
       "      <td>1.8%</td>\n",
       "      <td>31.7</td>\n",
       "      <td>33.27</td>\n",
       "      <td>0.8%</td>\n",
       "      <td>713.1万</td>\n",
       "      <td>774.6万</td>\n",
       "      <td>1.0</td>\n",
       "      <td>1.0万</td>\n",
       "    </tr>\n",
       "    <tr>\n",
       "      <th>9</th>\n",
       "      <td>3.5%</td>\n",
       "      <td>3</td>\n",
       "      <td>37.4</td>\n",
       "      <td>30.01</td>\n",
       "      <td>0.6%</td>\n",
       "      <td>1212492</td>\n",
       "      <td>老师·好</td>\n",
       "      <td>--</td>\n",
       "      <td>--</td>\n",
       "      <td>--</td>\n",
       "      <td>...</td>\n",
       "      <td>0.8%</td>\n",
       "      <td>2784</td>\n",
       "      <td>0.8%</td>\n",
       "      <td>33.9</td>\n",
       "      <td>27.19</td>\n",
       "      <td>0.6%</td>\n",
       "      <td>224.6万</td>\n",
       "      <td>234.7万</td>\n",
       "      <td>0.8</td>\n",
       "      <td>8012</td>\n",
       "    </tr>\n",
       "    <tr>\n",
       "      <th>10</th>\n",
       "      <td>8.6%</td>\n",
       "      <td>10</td>\n",
       "      <td>44.6</td>\n",
       "      <td>19.75</td>\n",
       "      <td>0.4%</td>\n",
       "      <td>507792</td>\n",
       "      <td>地久天长</td>\n",
       "      <td>--</td>\n",
       "      <td>--</td>\n",
       "      <td>--</td>\n",
       "      <td>...</td>\n",
       "      <td>0.1%</td>\n",
       "      <td>491</td>\n",
       "      <td>0.1%</td>\n",
       "      <td>41.2</td>\n",
       "      <td>18.22</td>\n",
       "      <td>0.4%</td>\n",
       "      <td>309.9万</td>\n",
       "      <td>329.6万</td>\n",
       "      <td>0.4</td>\n",
       "      <td>4424</td>\n",
       "    </tr>\n",
       "    <tr>\n",
       "      <th>11</th>\n",
       "      <td>4.1%</td>\n",
       "      <td>1</td>\n",
       "      <td>33.0</td>\n",
       "      <td>9.42</td>\n",
       "      <td>0.2%</td>\n",
       "      <td>1212353</td>\n",
       "      <td>阳台上</td>\n",
       "      <td>--</td>\n",
       "      <td>--</td>\n",
       "      <td>--</td>\n",
       "      <td>...</td>\n",
       "      <td>1.1%</td>\n",
       "      <td>4858</td>\n",
       "      <td>1.5%</td>\n",
       "      <td>30.4</td>\n",
       "      <td>8.69</td>\n",
       "      <td>0.2%</td>\n",
       "      <td>339.4万</td>\n",
       "      <td>368.6万</td>\n",
       "      <td>0.2</td>\n",
       "      <td>2855</td>\n",
       "    </tr>\n",
       "    <tr>\n",
       "      <th>12</th>\n",
       "      <td>35.0%</td>\n",
       "      <td>56</td>\n",
       "      <td>32.5</td>\n",
       "      <td>4.69</td>\n",
       "      <td>0.1%</td>\n",
       "      <td>1238775</td>\n",
       "      <td>特别追踪</td>\n",
       "      <td>--</td>\n",
       "      <td>--</td>\n",
       "      <td>--</td>\n",
       "      <td>...</td>\n",
       "      <td>&lt;0.1%</td>\n",
       "      <td>26</td>\n",
       "      <td>&lt;0.1%</td>\n",
       "      <td>30.0</td>\n",
       "      <td>4.33</td>\n",
       "      <td>0.1%</td>\n",
       "      <td>7.1万</td>\n",
       "      <td>7.7万</td>\n",
       "      <td>0.1</td>\n",
       "      <td>1444</td>\n",
       "    </tr>\n",
       "    <tr>\n",
       "      <th>13</th>\n",
       "      <td>20.3%</td>\n",
       "      <td>6</td>\n",
       "      <td>32.5</td>\n",
       "      <td>4.33</td>\n",
       "      <td>&lt;0.1%</td>\n",
       "      <td>1263280</td>\n",
       "      <td>爱无痕</td>\n",
       "      <td>--</td>\n",
       "      <td>--</td>\n",
       "      <td>--</td>\n",
       "      <td>...</td>\n",
       "      <td>&lt;0.1%</td>\n",
       "      <td>255</td>\n",
       "      <td>&lt;0.1%</td>\n",
       "      <td>30.0</td>\n",
       "      <td>4.00</td>\n",
       "      <td>0.1%</td>\n",
       "      <td>4.7万</td>\n",
       "      <td>5.0万</td>\n",
       "      <td>0.1</td>\n",
       "      <td>1335</td>\n",
       "    </tr>\n",
       "    <tr>\n",
       "      <th>14</th>\n",
       "      <td>3.6%</td>\n",
       "      <td>1</td>\n",
       "      <td>29.2</td>\n",
       "      <td>4.20</td>\n",
       "      <td>&lt;0.1%</td>\n",
       "      <td>1228761</td>\n",
       "      <td>把哥哥退货可以吗</td>\n",
       "      <td>--</td>\n",
       "      <td>--</td>\n",
       "      <td>--</td>\n",
       "      <td>...</td>\n",
       "      <td>0.5%</td>\n",
       "      <td>2234</td>\n",
       "      <td>0.7%</td>\n",
       "      <td>26.4</td>\n",
       "      <td>3.80</td>\n",
       "      <td>&lt;0.1%</td>\n",
       "      <td>138.2万</td>\n",
       "      <td>153.3万</td>\n",
       "      <td>0.1</td>\n",
       "      <td>1438</td>\n",
       "    </tr>\n",
       "    <tr>\n",
       "      <th>15</th>\n",
       "      <td>3.0%</td>\n",
       "      <td>1</td>\n",
       "      <td>35.3</td>\n",
       "      <td>3.73</td>\n",
       "      <td>&lt;0.1%</td>\n",
       "      <td>1218091</td>\n",
       "      <td>飞驰人生</td>\n",
       "      <td>--</td>\n",
       "      <td>--</td>\n",
       "      <td>--</td>\n",
       "      <td>...</td>\n",
       "      <td>0.2%</td>\n",
       "      <td>1226</td>\n",
       "      <td>0.3%</td>\n",
       "      <td>32.7</td>\n",
       "      <td>3.45</td>\n",
       "      <td>&lt;0.1%</td>\n",
       "      <td>15.93亿</td>\n",
       "      <td>17.15亿</td>\n",
       "      <td>0.1</td>\n",
       "      <td>1057</td>\n",
       "    </tr>\n",
       "    <tr>\n",
       "      <th>16</th>\n",
       "      <td>35.9%</td>\n",
       "      <td>102</td>\n",
       "      <td>32.5</td>\n",
       "      <td>3.61</td>\n",
       "      <td>&lt;0.1%</td>\n",
       "      <td>1223430</td>\n",
       "      <td>浴血广昌</td>\n",
       "      <td>--</td>\n",
       "      <td>--</td>\n",
       "      <td>--</td>\n",
       "      <td>...</td>\n",
       "      <td>&lt;0.1%</td>\n",
       "      <td>11</td>\n",
       "      <td>&lt;0.1%</td>\n",
       "      <td>30.0</td>\n",
       "      <td>3.33</td>\n",
       "      <td>&lt;0.1%</td>\n",
       "      <td>9760.6万</td>\n",
       "      <td>9768.4万</td>\n",
       "      <td>0.1</td>\n",
       "      <td>1112</td>\n",
       "    </tr>\n",
       "    <tr>\n",
       "      <th>17</th>\n",
       "      <td>4.3%</td>\n",
       "      <td>3</td>\n",
       "      <td>34.7</td>\n",
       "      <td>3.34</td>\n",
       "      <td>&lt;0.1%</td>\n",
       "      <td>1215383</td>\n",
       "      <td>318号公路</td>\n",
       "      <td>--</td>\n",
       "      <td>--</td>\n",
       "      <td>--</td>\n",
       "      <td>...</td>\n",
       "      <td>&lt;0.1%</td>\n",
       "      <td>418</td>\n",
       "      <td>0.1%</td>\n",
       "      <td>32.6</td>\n",
       "      <td>3.15</td>\n",
       "      <td>&lt;0.1%</td>\n",
       "      <td>14.9万</td>\n",
       "      <td>15.7万</td>\n",
       "      <td>0.0</td>\n",
       "      <td>965</td>\n",
       "    </tr>\n",
       "    <tr>\n",
       "      <th>18</th>\n",
       "      <td>1.5%</td>\n",
       "      <td>1</td>\n",
       "      <td>25.5</td>\n",
       "      <td>2.79</td>\n",
       "      <td>&lt;0.1%</td>\n",
       "      <td>1251817</td>\n",
       "      <td>少女宿舍</td>\n",
       "      <td>--</td>\n",
       "      <td>--</td>\n",
       "      <td>--</td>\n",
       "      <td>...</td>\n",
       "      <td>0.4%</td>\n",
       "      <td>1881</td>\n",
       "      <td>0.5%</td>\n",
       "      <td>22.6</td>\n",
       "      <td>2.47</td>\n",
       "      <td>&lt;0.1%</td>\n",
       "      <td>109.1万</td>\n",
       "      <td>122.2万</td>\n",
       "      <td>0.1</td>\n",
       "      <td>1092</td>\n",
       "    </tr>\n",
       "    <tr>\n",
       "      <th>19</th>\n",
       "      <td>21.6%</td>\n",
       "      <td>21</td>\n",
       "      <td>28.0</td>\n",
       "      <td>2.53</td>\n",
       "      <td>&lt;0.1%</td>\n",
       "      <td>1262087</td>\n",
       "      <td>醒来之爱的呼唤</td>\n",
       "      <td>--</td>\n",
       "      <td>--</td>\n",
       "      <td>--</td>\n",
       "      <td>...</td>\n",
       "      <td>&lt;0.1%</td>\n",
       "      <td>44</td>\n",
       "      <td>&lt;0.1%</td>\n",
       "      <td>27.9</td>\n",
       "      <td>2.52</td>\n",
       "      <td>&lt;0.1%</td>\n",
       "      <td>215.8万</td>\n",
       "      <td>217.8万</td>\n",
       "      <td>0.0</td>\n",
       "      <td>902</td>\n",
       "    </tr>\n",
       "    <tr>\n",
       "      <th>20</th>\n",
       "      <td>10.6%</td>\n",
       "      <td>9</td>\n",
       "      <td>26.9</td>\n",
       "      <td>2.42</td>\n",
       "      <td>&lt;0.1%</td>\n",
       "      <td>1261537</td>\n",
       "      <td>梦想之城</td>\n",
       "      <td>--</td>\n",
       "      <td>--</td>\n",
       "      <td>--</td>\n",
       "      <td>...</td>\n",
       "      <td>&lt;0.1%</td>\n",
       "      <td>100</td>\n",
       "      <td>&lt;0.1%</td>\n",
       "      <td>25.9</td>\n",
       "      <td>2.33</td>\n",
       "      <td>&lt;0.1%</td>\n",
       "      <td>36.8万</td>\n",
       "      <td>38.0万</td>\n",
       "      <td>0.0</td>\n",
       "      <td>900</td>\n",
       "    </tr>\n",
       "    <tr>\n",
       "      <th>21</th>\n",
       "      <td>57.0%</td>\n",
       "      <td>140</td>\n",
       "      <td>38.1</td>\n",
       "      <td>2.13</td>\n",
       "      <td>&lt;0.1%</td>\n",
       "      <td>1249315</td>\n",
       "      <td>大路朝天</td>\n",
       "      <td>--</td>\n",
       "      <td>--</td>\n",
       "      <td>--</td>\n",
       "      <td>...</td>\n",
       "      <td>&lt;0.1%</td>\n",
       "      <td>4</td>\n",
       "      <td>&lt;0.1%</td>\n",
       "      <td>38.1</td>\n",
       "      <td>2.13</td>\n",
       "      <td>&lt;0.1%</td>\n",
       "      <td>2493.7万</td>\n",
       "      <td>2494.8万</td>\n",
       "      <td>0.0</td>\n",
       "      <td>559</td>\n",
       "    </tr>\n",
       "    <tr>\n",
       "      <th>22</th>\n",
       "      <td>4.1%</td>\n",
       "      <td>20</td>\n",
       "      <td>32.5</td>\n",
       "      <td>1.33</td>\n",
       "      <td>&lt;0.1%</td>\n",
       "      <td>1262397</td>\n",
       "      <td>小石头下乡记</td>\n",
       "      <td>--</td>\n",
       "      <td>--</td>\n",
       "      <td>--</td>\n",
       "      <td>...</td>\n",
       "      <td>&lt;0.1%</td>\n",
       "      <td>21</td>\n",
       "      <td>&lt;0.1%</td>\n",
       "      <td>30.0</td>\n",
       "      <td>1.23</td>\n",
       "      <td>&lt;0.1%</td>\n",
       "      <td>2.5万</td>\n",
       "      <td>2.6万</td>\n",
       "      <td>0.0</td>\n",
       "      <td>412</td>\n",
       "    </tr>\n",
       "    <tr>\n",
       "      <th>23</th>\n",
       "      <td>5.0%</td>\n",
       "      <td>2</td>\n",
       "      <td>35.2</td>\n",
       "      <td>1.19</td>\n",
       "      <td>&lt;0.1%</td>\n",
       "      <td>1209277</td>\n",
       "      <td>老公去哪了</td>\n",
       "      <td>--</td>\n",
       "      <td>--</td>\n",
       "      <td>--</td>\n",
       "      <td>...</td>\n",
       "      <td>&lt;0.1%</td>\n",
       "      <td>337</td>\n",
       "      <td>0.1%</td>\n",
       "      <td>32.5</td>\n",
       "      <td>1.10</td>\n",
       "      <td>&lt;0.1%</td>\n",
       "      <td>71.0万</td>\n",
       "      <td>72.3万</td>\n",
       "      <td>0.0</td>\n",
       "      <td>339</td>\n",
       "    </tr>\n",
       "  </tbody>\n",
       "</table>\n",
       "<p>24 rows × 24 columns</p>\n",
       "</div>"
      ],
      "text/plain": [
       "   avgSeatView avgShowView avgViewBox  boxInfo boxRate  movieId    movieName  \\\n",
       "0         6.0%           8       30.9  3088.78   70.2%  1216383    比悲伤更悲伤的故事   \n",
       "1         2.7%           3       36.9   554.07   12.6%   341139         惊奇队长   \n",
       "2         3.5%           3       33.3   314.66    7.1%  1206605          绿皮书   \n",
       "3         3.1%           2       31.5    75.11    1.7%  1220571  我的英雄学院：两位英雄   \n",
       "4         3.8%           3       33.4    75.01    1.7%   248906         流浪地球   \n",
       "5         3.2%           2       35.6    60.94    1.3%   410629     阿丽塔：战斗天使   \n",
       "6         3.4%           2       34.0    47.18    1.0%   247295        驯龙高手3   \n",
       "7         3.5%           2       30.0    43.53    0.9%  1250341        夏目友人帐   \n",
       "8         3.6%           2       34.7    36.44    0.8%  1229799          过春天   \n",
       "9         3.5%           3       37.4    30.01    0.6%  1212492         老师·好   \n",
       "10        8.6%          10       44.6    19.75    0.4%   507792         地久天长   \n",
       "11        4.1%           1       33.0     9.42    0.2%  1212353          阳台上   \n",
       "12       35.0%          56       32.5     4.69    0.1%  1238775         特别追踪   \n",
       "13       20.3%           6       32.5     4.33   <0.1%  1263280          爱无痕   \n",
       "14        3.6%           1       29.2     4.20   <0.1%  1228761     把哥哥退货可以吗   \n",
       "15        3.0%           1       35.3     3.73   <0.1%  1218091         飞驰人生   \n",
       "16       35.9%         102       32.5     3.61   <0.1%  1223430         浴血广昌   \n",
       "17        4.3%           3       34.7     3.34   <0.1%  1215383       318号公路   \n",
       "18        1.5%           1       25.5     2.79   <0.1%  1251817         少女宿舍   \n",
       "19       21.6%          21       28.0     2.53   <0.1%  1262087      醒来之爱的呼唤   \n",
       "20       10.6%           9       26.9     2.42   <0.1%  1261537         梦想之城   \n",
       "21       57.0%         140       38.1     2.13   <0.1%  1249315         大路朝天   \n",
       "22        4.1%          20       32.5     1.33   <0.1%  1262397       小石头下乡记   \n",
       "23        5.0%           2       35.2     1.19   <0.1%  1209277        老公去哪了   \n",
       "\n",
       "   myRefundNumInfo myRefundRateInfo onlineBoxRate    ...     seatRate  \\\n",
       "0               --               --            --    ...        45.6%   \n",
       "1               --               --            --    ...        26.5%   \n",
       "2               --               --            --    ...         8.9%   \n",
       "3               --               --            --    ...         4.3%   \n",
       "4               --               --            --    ...         2.7%   \n",
       "5               --               --            --    ...         2.4%   \n",
       "6               --               --            --    ...         2.0%   \n",
       "7               --               --            --    ...         1.8%   \n",
       "8               --               --            --    ...         1.3%   \n",
       "9               --               --            --    ...         0.8%   \n",
       "10              --               --            --    ...         0.1%   \n",
       "11              --               --            --    ...         1.1%   \n",
       "12              --               --            --    ...        <0.1%   \n",
       "13              --               --            --    ...        <0.1%   \n",
       "14              --               --            --    ...         0.5%   \n",
       "15              --               --            --    ...         0.2%   \n",
       "16              --               --            --    ...        <0.1%   \n",
       "17              --               --            --    ...        <0.1%   \n",
       "18              --               --            --    ...         0.4%   \n",
       "19              --               --            --    ...        <0.1%   \n",
       "20              --               --            --    ...        <0.1%   \n",
       "21              --               --            --    ...        <0.1%   \n",
       "22              --               --            --    ...        <0.1%   \n",
       "23              --               --            --    ...        <0.1%   \n",
       "\n",
       "   showInfo showRate splitAvgViewBox splitBoxInfo splitBoxRate  \\\n",
       "0    135007    42.8%            27.6      2756.55        69.8%   \n",
       "1     69831    22.1%            33.8       507.64        12.8%   \n",
       "2     33119    10.5%            30.0       283.95         7.1%   \n",
       "3     17271     5.4%            28.2        67.37         1.7%   \n",
       "4     11112     3.5%            30.7        68.89         1.7%   \n",
       "5      9750     3.0%            32.4        55.49         1.4%   \n",
       "6      8328     2.6%            31.2        43.26         1.0%   \n",
       "7      8182     2.5%            26.9        39.12         0.9%   \n",
       "8      5882     1.8%            31.7        33.27         0.8%   \n",
       "9      2784     0.8%            33.9        27.19         0.6%   \n",
       "10      491     0.1%            41.2        18.22         0.4%   \n",
       "11     4858     1.5%            30.4         8.69         0.2%   \n",
       "12       26    <0.1%            30.0         4.33         0.1%   \n",
       "13      255    <0.1%            30.0         4.00         0.1%   \n",
       "14     2234     0.7%            26.4         3.80        <0.1%   \n",
       "15     1226     0.3%            32.7         3.45        <0.1%   \n",
       "16       11    <0.1%            30.0         3.33        <0.1%   \n",
       "17      418     0.1%            32.6         3.15        <0.1%   \n",
       "18     1881     0.5%            22.6         2.47        <0.1%   \n",
       "19       44    <0.1%            27.9         2.52        <0.1%   \n",
       "20      100    <0.1%            25.9         2.33        <0.1%   \n",
       "21        4    <0.1%            38.1         2.13        <0.1%   \n",
       "22       21    <0.1%            30.0         1.23        <0.1%   \n",
       "23      337     0.1%            32.5         1.10        <0.1%   \n",
       "\n",
       "   splitSumBoxInfo sumBoxInfo viewInfo viewInfoV2  \n",
       "0            4.14亿      4.64亿     99.7      99.7万  \n",
       "1            8.34亿      9.05亿     14.9      14.9万  \n",
       "2            3.78亿      4.19亿      9.4       9.4万  \n",
       "3          3067.9万    3411.5万      2.3       2.3万  \n",
       "4           43.10亿     46.34亿      2.2       2.2万  \n",
       "5            8.10亿      8.86亿      1.7       1.7万  \n",
       "6            3.23亿      3.52亿      1.3       1.3万  \n",
       "7          9901.0万      1.10亿      1.4       1.4万  \n",
       "8           713.1万     774.6万      1.0       1.0万  \n",
       "9           224.6万     234.7万      0.8       8012  \n",
       "10          309.9万     329.6万      0.4       4424  \n",
       "11          339.4万     368.6万      0.2       2855  \n",
       "12            7.1万       7.7万      0.1       1444  \n",
       "13            4.7万       5.0万      0.1       1335  \n",
       "14          138.2万     153.3万      0.1       1438  \n",
       "15          15.93亿     17.15亿      0.1       1057  \n",
       "16         9760.6万    9768.4万      0.1       1112  \n",
       "17           14.9万      15.7万      0.0        965  \n",
       "18          109.1万     122.2万      0.1       1092  \n",
       "19          215.8万     217.8万      0.0        902  \n",
       "20           36.8万      38.0万      0.0        900  \n",
       "21         2493.7万    2494.8万      0.0        559  \n",
       "22            2.5万       2.6万      0.0        412  \n",
       "23           71.0万      72.3万      0.0        339  \n",
       "\n",
       "[24 rows x 24 columns]"
      ]
     },
     "execution_count": 93,
     "metadata": {},
     "output_type": "execute_result"
    }
   ],
   "source": [
    "pd.DataFrame(response.json()['data']['list'])"
   ]
  },
  {
   "cell_type": "markdown",
   "metadata": {},
   "source": [
    "## 排污许可"
   ]
  },
  {
   "cell_type": "code",
   "execution_count": 158,
   "metadata": {},
   "outputs": [],
   "source": [
    "import requests\n",
    "\n",
    "cookies = {\n",
    "    'JSESSIONID': 'F0F1C7657CD549E7602E872C149A9950',\n",
    "    'JSESSIONID9002C': 'CDDDEEB25180581FFDBC32071E89002C',\n",
    "    'insert_cookie': '98184645',\n",
    "    'Hm_lvt_654a7e329ca7186c066a426d9407879d': '1552981318',\n",
    "    'Hm_lpvt_654a7e329ca7186c066a426d9407879d': '1552983501',\n",
    "}\n",
    "\n",
    "headers = {\n",
    "    'Connection': 'keep-alive',\n",
    "    'Pragma': 'no-cache',\n",
    "    'Cache-Control': 'no-cache',\n",
    "    'Origin': 'http://permit.mep.gov.cn',\n",
    "    'Upgrade-Insecure-Requests': '1',\n",
    "    'Content-Type': 'application/x-www-form-urlencoded',\n",
    "    'User-Agent': 'Mozilla/5.0 (Windows NT 10.0; Win64; x64) AppleWebKit/537.36 (KHTML, like Gecko) Chrome/72.0.3626.121 Safari/537.36',\n",
    "    'Accept': 'text/html,application/xhtml+xml,application/xml;q=0.9,image/webp,image/apng,*/*;q=0.8',\n",
    "    'Referer': 'http://permit.mep.gov.cn/permitExt/syssb/xxgk/xxgk!sqqlist.action',\n",
    "    'Accept-Encoding': 'gzip, deflate',\n",
    "    'Accept-Language': 'zh-CN,zh;q=0.9,en;q=0.8,zh-TW;q=0.7',\n",
    "}\n",
    "\n",
    "data = {\n",
    "  'page.pageNo': '2',\n",
    "  'page.orderBy': '',\n",
    "  'page.order': '',\n",
    "  'province': '',\n",
    "  'city': '',\n",
    "  'registerentername': '',\n",
    "  'searchFbTime': '',\n",
    "  'inPageNo': '2',\n",
    "  'pageNo_': '\\u8DF3\\u8F6C'\n",
    "}\n",
    "\n",
    "response = requests.post('http://permit.mep.gov.cn/permitExt/syssb/xxgk/xxgk!sqqlist.action', headers=headers, cookies=cookies, data=data)\n"
   ]
  },
  {
   "cell_type": "code",
   "execution_count": 160,
   "metadata": {},
   "outputs": [],
   "source": [
    "from bs4 import BeautifulSoup"
   ]
  },
  {
   "cell_type": "code",
   "execution_count": 161,
   "metadata": {},
   "outputs": [],
   "source": [
    "soup = BeautifulSoup(response.text,'html5lib')"
   ]
  },
  {
   "cell_type": "code",
   "execution_count": 163,
   "metadata": {},
   "outputs": [],
   "source": [
    "title = soup.select('#mainForm > div.content-result.clear_float > div > table > tbody > tr.tbhead')[0]\n",
    "title = list(map(lambda x:x.get_text(),title.select('td')))"
   ]
  },
  {
   "cell_type": "code",
   "execution_count": 169,
   "metadata": {},
   "outputs": [],
   "source": [
    "def func(soup):\n",
    "    if soup.find('a'):\n",
    "        return 'http://permit.mep.gov.cn'+soup.find('a').get('href')\n",
    "    else:\n",
    "        return soup.get_text().strip()\n",
    "\n",
    "data = []\n",
    "for line in soup.select('#mainForm > div.content-result.clear_float > div > table > tbody > tr')[1:]:\n",
    "    tmp = map(func,line.select('td'))\n",
    "    data.append(list(tmp))\n"
   ]
  },
  {
   "cell_type": "code",
   "execution_count": 171,
   "metadata": {
    "scrolled": false
   },
   "outputs": [
    {
     "data": {
      "text/html": [
       "<div>\n",
       "<style scoped>\n",
       "    .dataframe tbody tr th:only-of-type {\n",
       "        vertical-align: middle;\n",
       "    }\n",
       "\n",
       "    .dataframe tbody tr th {\n",
       "        vertical-align: top;\n",
       "    }\n",
       "\n",
       "    .dataframe thead th {\n",
       "        text-align: right;\n",
       "    }\n",
       "</style>\n",
       "<table border=\"1\" class=\"dataframe\">\n",
       "  <thead>\n",
       "    <tr style=\"text-align: right;\">\n",
       "      <th></th>\n",
       "      <th>省/直辖市</th>\n",
       "      <th>地市</th>\n",
       "      <th>单位名称</th>\n",
       "      <th>行业类别</th>\n",
       "      <th>生产经营场所地址</th>\n",
       "      <th>信息公开起止日期</th>\n",
       "      <th>公开内容查看</th>\n",
       "      <th>填写反馈</th>\n",
       "    </tr>\n",
       "  </thead>\n",
       "  <tbody>\n",
       "    <tr>\n",
       "      <th>0</th>\n",
       "      <td>河南省</td>\n",
       "      <td>焦作市</td>\n",
       "      <td>河南晶能电源有限公司</td>\n",
       "      <td>铅蓄电池制造</td>\n",
       "      <td>河南省孟州市产业集聚区长江大道145号</td>\n",
       "      <td>2019-03-19 至 2019-03-25</td>\n",
       "      <td>http://permit.mep.gov.cn/permitExt/syssb/xxgk/...</td>\n",
       "      <td>http://permit.mep.gov.cn/permitExt/syssb/xxgk/...</td>\n",
       "    </tr>\n",
       "    <tr>\n",
       "      <th>1</th>\n",
       "      <td>江苏省</td>\n",
       "      <td>镇江市</td>\n",
       "      <td>江苏润阳伟业科技有限公司</td>\n",
       "      <td>专项化学用品制造</td>\n",
       "      <td>江苏丹阳市导墅镇白马村</td>\n",
       "      <td>2019-03-19 至 2019-03-25</td>\n",
       "      <td>http://permit.mep.gov.cn/permitExt/syssb/xxgk/...</td>\n",
       "      <td>http://permit.mep.gov.cn/permitExt/syssb/xxgk/...</td>\n",
       "    </tr>\n",
       "    <tr>\n",
       "      <th>2</th>\n",
       "      <td>北京市</td>\n",
       "      <td>市辖区</td>\n",
       "      <td>北京雅昌文化发展有限公司</td>\n",
       "      <td>其他文化艺术业</td>\n",
       "      <td>北京市顺义区高丽营镇金马园达盛路3号</td>\n",
       "      <td>2019-03-19 至 2019-03-25</td>\n",
       "      <td>http://permit.mep.gov.cn/permitExt/syssb/xxgk/...</td>\n",
       "      <td>http://permit.mep.gov.cn/permitExt/syssb/xxgk/...</td>\n",
       "    </tr>\n",
       "    <tr>\n",
       "      <th>3</th>\n",
       "      <td>北京市</td>\n",
       "      <td>市辖区</td>\n",
       "      <td>北京垂阳柳浴池</td>\n",
       "      <td>洗浴服务</td>\n",
       "      <td>北京市顺义区杨镇地区一街村站前路29号</td>\n",
       "      <td>2019-03-19 至 2019-03-25</td>\n",
       "      <td>http://permit.mep.gov.cn/permitExt/syssb/xxgk/...</td>\n",
       "      <td>http://permit.mep.gov.cn/permitExt/syssb/xxgk/...</td>\n",
       "    </tr>\n",
       "    <tr>\n",
       "      <th>4</th>\n",
       "      <td>江苏省</td>\n",
       "      <td>无锡市</td>\n",
       "      <td>无锡蓝博环境工程有限公司</td>\n",
       "      <td>污水处理及其再生利用</td>\n",
       "      <td>无锡市惠山区洛社镇石塘湾工业集中区</td>\n",
       "      <td>2019-03-19 至 2019-03-25</td>\n",
       "      <td>http://permit.mep.gov.cn/permitExt/syssb/xxgk/...</td>\n",
       "      <td>http://permit.mep.gov.cn/permitExt/syssb/xxgk/...</td>\n",
       "    </tr>\n",
       "    <tr>\n",
       "      <th>5</th>\n",
       "      <td>北京市</td>\n",
       "      <td>市辖区</td>\n",
       "      <td>北京天利动力供热有限公司天利一厂</td>\n",
       "      <td>热力生产和供应</td>\n",
       "      <td>北京市顺义区天竺空港工业区A区天柱东路7号</td>\n",
       "      <td>2019-03-19 至 2019-03-25</td>\n",
       "      <td>http://permit.mep.gov.cn/permitExt/syssb/xxgk/...</td>\n",
       "      <td>http://permit.mep.gov.cn/permitExt/syssb/xxgk/...</td>\n",
       "    </tr>\n",
       "    <tr>\n",
       "      <th>6</th>\n",
       "      <td>甘肃省</td>\n",
       "      <td>兰州市</td>\n",
       "      <td>兰州蓝星清洗有限公司</td>\n",
       "      <td>其他专用化学产品制造</td>\n",
       "      <td>兰州市西固区新冶路135号</td>\n",
       "      <td>2019-03-19 至 2019-03-25</td>\n",
       "      <td>http://permit.mep.gov.cn/permitExt/syssb/xxgk/...</td>\n",
       "      <td>http://permit.mep.gov.cn/permitExt/syssb/xxgk/...</td>\n",
       "    </tr>\n",
       "    <tr>\n",
       "      <th>7</th>\n",
       "      <td>辽宁省</td>\n",
       "      <td>沈阳市</td>\n",
       "      <td>沈阳新天地供热有限公司</td>\n",
       "      <td>热力生产和供应</td>\n",
       "      <td>沈阳市浑南区泗水街58号</td>\n",
       "      <td>2019-03-19 至 2019-03-25</td>\n",
       "      <td>http://permit.mep.gov.cn/permitExt/syssb/xxgk/...</td>\n",
       "      <td>http://permit.mep.gov.cn/permitExt/syssb/xxgk/...</td>\n",
       "    </tr>\n",
       "    <tr>\n",
       "      <th>8</th>\n",
       "      <td>广西壮族自治区</td>\n",
       "      <td>柳州市</td>\n",
       "      <td>广西柳州友宝汽车配件有限公司</td>\n",
       "      <td>汽车零部件及配件制造</td>\n",
       "      <td>柳州市柳东新区水湾路2号柳东标准厂房B区B-1号东1、2跨</td>\n",
       "      <td>2019-03-19 至 2019-03-25</td>\n",
       "      <td>http://permit.mep.gov.cn/permitExt/syssb/xxgk/...</td>\n",
       "      <td>http://permit.mep.gov.cn/permitExt/syssb/xxgk/...</td>\n",
       "    </tr>\n",
       "    <tr>\n",
       "      <th>9</th>\n",
       "      <td>山东省</td>\n",
       "      <td>滨州市</td>\n",
       "      <td>滨州市深港环保工程技术有限公司</td>\n",
       "      <td>污水处理及其再生利用</td>\n",
       "      <td>滨州市滨北街道办事处梧桐七路以北、凤凰八路以东</td>\n",
       "      <td>2019-03-19 至 2019-03-25</td>\n",
       "      <td>http://permit.mep.gov.cn/permitExt/syssb/xxgk/...</td>\n",
       "      <td>http://permit.mep.gov.cn/permitExt/syssb/xxgk/...</td>\n",
       "    </tr>\n",
       "  </tbody>\n",
       "</table>\n",
       "</div>"
      ],
      "text/plain": [
       "     省/直辖市   地市              单位名称        行业类别                       生产经营场所地址  \\\n",
       "0      河南省  焦作市        河南晶能电源有限公司      铅蓄电池制造            河南省孟州市产业集聚区长江大道145号   \n",
       "1      江苏省  镇江市      江苏润阳伟业科技有限公司    专项化学用品制造                    江苏丹阳市导墅镇白马村   \n",
       "2      北京市  市辖区      北京雅昌文化发展有限公司     其他文化艺术业             北京市顺义区高丽营镇金马园达盛路3号   \n",
       "3      北京市  市辖区           北京垂阳柳浴池        洗浴服务            北京市顺义区杨镇地区一街村站前路29号   \n",
       "4      江苏省  无锡市      无锡蓝博环境工程有限公司  污水处理及其再生利用              无锡市惠山区洛社镇石塘湾工业集中区   \n",
       "5      北京市  市辖区  北京天利动力供热有限公司天利一厂     热力生产和供应          北京市顺义区天竺空港工业区A区天柱东路7号   \n",
       "6      甘肃省  兰州市        兰州蓝星清洗有限公司  其他专用化学产品制造                  兰州市西固区新冶路135号   \n",
       "7      辽宁省  沈阳市       沈阳新天地供热有限公司     热力生产和供应                   沈阳市浑南区泗水街58号   \n",
       "8  广西壮族自治区  柳州市    广西柳州友宝汽车配件有限公司  汽车零部件及配件制造  柳州市柳东新区水湾路2号柳东标准厂房B区B-1号东1、2跨   \n",
       "9      山东省  滨州市   滨州市深港环保工程技术有限公司  污水处理及其再生利用        滨州市滨北街道办事处梧桐七路以北、凤凰八路以东   \n",
       "\n",
       "                  信息公开起止日期                                             公开内容查看  \\\n",
       "0  2019-03-19 至 2019-03-25  http://permit.mep.gov.cn/permitExt/syssb/xxgk/...   \n",
       "1  2019-03-19 至 2019-03-25  http://permit.mep.gov.cn/permitExt/syssb/xxgk/...   \n",
       "2  2019-03-19 至 2019-03-25  http://permit.mep.gov.cn/permitExt/syssb/xxgk/...   \n",
       "3  2019-03-19 至 2019-03-25  http://permit.mep.gov.cn/permitExt/syssb/xxgk/...   \n",
       "4  2019-03-19 至 2019-03-25  http://permit.mep.gov.cn/permitExt/syssb/xxgk/...   \n",
       "5  2019-03-19 至 2019-03-25  http://permit.mep.gov.cn/permitExt/syssb/xxgk/...   \n",
       "6  2019-03-19 至 2019-03-25  http://permit.mep.gov.cn/permitExt/syssb/xxgk/...   \n",
       "7  2019-03-19 至 2019-03-25  http://permit.mep.gov.cn/permitExt/syssb/xxgk/...   \n",
       "8  2019-03-19 至 2019-03-25  http://permit.mep.gov.cn/permitExt/syssb/xxgk/...   \n",
       "9  2019-03-19 至 2019-03-25  http://permit.mep.gov.cn/permitExt/syssb/xxgk/...   \n",
       "\n",
       "                                                填写反馈  \n",
       "0  http://permit.mep.gov.cn/permitExt/syssb/xxgk/...  \n",
       "1  http://permit.mep.gov.cn/permitExt/syssb/xxgk/...  \n",
       "2  http://permit.mep.gov.cn/permitExt/syssb/xxgk/...  \n",
       "3  http://permit.mep.gov.cn/permitExt/syssb/xxgk/...  \n",
       "4  http://permit.mep.gov.cn/permitExt/syssb/xxgk/...  \n",
       "5  http://permit.mep.gov.cn/permitExt/syssb/xxgk/...  \n",
       "6  http://permit.mep.gov.cn/permitExt/syssb/xxgk/...  \n",
       "7  http://permit.mep.gov.cn/permitExt/syssb/xxgk/...  \n",
       "8  http://permit.mep.gov.cn/permitExt/syssb/xxgk/...  \n",
       "9  http://permit.mep.gov.cn/permitExt/syssb/xxgk/...  "
      ]
     },
     "execution_count": 171,
     "metadata": {},
     "output_type": "execute_result"
    }
   ],
   "source": [
    "import pandas as pd\n",
    "pd.DataFrame(data,columns=title)"
   ]
  },
  {
   "cell_type": "markdown",
   "metadata": {},
   "source": [
    "# 实战：链家网房地产爬虫"
   ]
  },
  {
   "cell_type": "code",
   "execution_count": 178,
   "metadata": {},
   "outputs": [],
   "source": [
    "import requests\n",
    "from bs4 import BeautifulSoup\n",
    "import time"
   ]
  },
  {
   "cell_type": "code",
   "execution_count": 187,
   "metadata": {},
   "outputs": [],
   "source": [
    "def req(url,retry=3):\n",
    "    headers = {\n",
    "        'Connection': 'keep-alive',\n",
    "        'Pragma': 'no-cache',\n",
    "        'Cache-Control': 'no-cache',\n",
    "        'Upgrade-Insecure-Requests': '1',\n",
    "        'User-Agent': 'Mozilla/5.0 (Windows NT 10.0; Win64; x64) AppleWebKit/537.36 (KHTML, like Gecko) Chrome/72.0.3626.121 Safari/537.36',\n",
    "        'Accept': 'text/html,application/xhtml+xml,application/xml;q=0.9,image/webp,image/apng,*/*;q=0.8',\n",
    "        'Accept-Encoding': 'gzip, deflate, br',\n",
    "        'Accept-Language': 'zh-CN,zh;q=0.9,en;q=0.8,zh-TW;q=0.7',\n",
    "    }\n",
    "    while retry:\n",
    "        try:\n",
    "            response = requests.get(url, headers=headers, cookies=None)\n",
    "            time.sleep(1)\n",
    "            return response\n",
    "        except requests.RequestException as e:\n",
    "            print(e.args)\n",
    "        finally:\n",
    "            retry-=1\n"
   ]
  },
  {
   "cell_type": "code",
   "execution_count": 195,
   "metadata": {},
   "outputs": [],
   "source": [
    "def get_area():\n",
    "    \"\"\"\n",
    "    抓取区域列表\n",
    "    :return: list\n",
    "    \"\"\"\n",
    "    res=[]\n",
    "    url = 'https://sz.lianjia.com/xiaoqu/'\n",
    "    domain = 'https://sz.lianjia.com'\n",
    "    webdata = req(url)\n",
    "    soup = BeautifulSoup(webdata.text,'html5lib')\n",
    "    areas = soup.select('div.position dl dd div a')\n",
    "    for area,url_ in  [[i.get_text(),domain+i.get('href')] for i in areas]:\n",
    "        print(url_)\n",
    "        res.extend(get_area_1(url_))\n",
    "    return res\n",
    "\n",
    "def get_area_1(url):\n",
    "    #得到某个大区下面各个小区域\n",
    "    domain = 'https://sz.lianjia.com'\n",
    "    webdata = req(url)\n",
    "    soup = BeautifulSoup(webdata.text, 'html5lib')\n",
    "    areas = soup.select('div.position dl dd > div > div:nth-of-type(2) a')\n",
    "    res = [[i.get_text(), domain + i.get('href')] for i in areas]\n",
    "    print(res)\n",
    "    return res\n",
    "#抓取小区列表\n",
    "def get_xiaoqu(areas):\n",
    "    \"\"\"\n",
    "    抓取小区\n",
    "    :param areas:dict()\n",
    "    :return:dict()\n",
    "    \"\"\"\n",
    "    res = []\n",
    "    for area,url in areas:\n",
    "        #得到某个区域下面的所有小区\n",
    "        webdata = req(url)\n",
    "        soup = BeautifulSoup(webdata.text,'html5lib')\n",
    "        total = soup.select('h2.total span')[0].get_text()\n",
    "        pages = round((int(total)-1)/30)+1\n",
    "        for pageno in range(1,pages+1):\n",
    "            tmp=[]\n",
    "            url_=url+'pg{}/'.format(pageno)\n",
    "            webdata_ = req(url_)\n",
    "            soup_ = BeautifulSoup(webdata_.text,'html5lib')\n",
    "            xiaoqus = soup_.select('div.content ul.listContent li')\n",
    "            for xiaoqu in xiaoqus:\n",
    "                title = xiaoqu.select('div.info div.title')[0].get_text().strip()\n",
    "                xiaoquurl = xiaoqu.select('div.info div.title a')[0].get('href')\n",
    "                houseInfo = xiaoqu.select('div.info div.houseInfo')[0].get_text().strip()\n",
    "                positionInfo = xiaoqu.select('div.info div.positionInfo')[0].get_text()\n",
    "                positionInfo = \"\".join(positionInfo.split())\n",
    "                tagList = [i.get_text() for i in xiaoqu.select('div.info div.tagList span')]\n",
    "                price = xiaoqu.select('div.xiaoquListItemPrice span')[0].get_text()\n",
    "                sellCount = xiaoqu.select('div.xiaoquListItemSellCount a span')[0].get_text()\n",
    "                data = {'title':title,\n",
    "                        'url':xiaoquurl,\n",
    "                        'houseInfo':houseInfo,\n",
    "                        'positionInfo':positionInfo,\n",
    "                        'tagList':tagList,\n",
    "                        'price':price,\n",
    "                        'sellCount':sellCount}\n",
    "                print(data)\n",
    "                tmp.append(data)\n",
    "            res.extend(tmp)\n",
    "        print(area,'finished!')\n",
    "    return res"
   ]
  },
  {
   "cell_type": "code",
   "execution_count": 196,
   "metadata": {
    "scrolled": false
   },
   "outputs": [
    {
     "name": "stdout",
     "output_type": "stream",
     "text": [
      "https://sz.lianjia.com/xiaoqu/luohuqu/\n",
      "[['布心', 'https://sz.lianjia.com/xiaoqu/buxin/'], ['百仕达', 'https://sz.lianjia.com/xiaoqu/baishida/'], ['翠竹', 'https://sz.lianjia.com/xiaoqu/cuizhu/'], ['春风路', 'https://sz.lianjia.com/xiaoqu/chunfenglu/'], ['东门', 'https://sz.lianjia.com/xiaoqu/dongmen/'], ['地王', 'https://sz.lianjia.com/xiaoqu/diwang/'], ['洪湖', 'https://sz.lianjia.com/xiaoqu/honghu/'], ['黄贝岭', 'https://sz.lianjia.com/xiaoqu/huangbeiling/'], ['罗湖口岸', 'https://sz.lianjia.com/xiaoqu/luohukouan/'], ['莲塘', 'https://sz.lianjia.com/xiaoqu/liantang/'], ['螺岭', 'https://sz.lianjia.com/xiaoqu/luoling/'], ['清水河', 'https://sz.lianjia.com/xiaoqu/qingshuihe/'], ['笋岗', 'https://sz.lianjia.com/xiaoqu/sungang/'], ['万象城', 'https://sz.lianjia.com/xiaoqu/wanxiangcheng/'], ['新秀', 'https://sz.lianjia.com/xiaoqu/xinxiu/'], ['银湖', 'https://sz.lianjia.com/xiaoqu/yinhu/']]\n",
      "https://sz.lianjia.com/xiaoqu/futianqu/\n",
      "[['八卦岭', 'https://sz.lianjia.com/xiaoqu/bagualing/'], ['百花', 'https://sz.lianjia.com/xiaoqu/baihua/'], ['车公庙', 'https://sz.lianjia.com/xiaoqu/chegongmiao/'], ['赤尾', 'https://sz.lianjia.com/xiaoqu/chiwei/'], ['福田保税区', 'https://sz.lianjia.com/xiaoqu/futianbaoshuiqu/'], ['福田中心', 'https://sz.lianjia.com/xiaoqu/futianzhongxin/'], ['皇岗', 'https://sz.lianjia.com/xiaoqu/huanggang/'], ['黄木岗', 'https://sz.lianjia.com/xiaoqu/huangmugang/'], ['华强北', 'https://sz.lianjia.com/xiaoqu/huaqiangbei/'], ['华强南', 'https://sz.lianjia.com/xiaoqu/huaqiangnan/'], ['景田', 'https://sz.lianjia.com/xiaoqu/jingtian/'], ['莲花', 'https://sz.lianjia.com/xiaoqu/lianhua/'], ['梅林', 'https://sz.lianjia.com/xiaoqu/meilin/'], ['石厦', 'https://sz.lianjia.com/xiaoqu/shixia/'], ['上下沙', 'https://sz.lianjia.com/xiaoqu/shangxiasha/'], ['沙尾', 'https://sz.lianjia.com/xiaoqu/shawei/'], ['上步', 'https://sz.lianjia.com/xiaoqu/shangbu/'], ['香蜜湖', 'https://sz.lianjia.com/xiaoqu/xiangmihu/'], ['香梅北', 'https://sz.lianjia.com/xiaoqu/xiangmeibei/'], ['新洲', 'https://sz.lianjia.com/xiaoqu/xinzhou1/'], ['园岭', 'https://sz.lianjia.com/xiaoqu/yuanling/'], ['银湖', 'https://sz.lianjia.com/xiaoqu/yinhu/'], ['竹子林', 'https://sz.lianjia.com/xiaoqu/zhuzilin/']]\n",
      "https://sz.lianjia.com/xiaoqu/nanshanqu/\n",
      "[['白石洲', 'https://sz.lianjia.com/xiaoqu/baishizhou/'], ['大学城', 'https://sz.lianjia.com/xiaoqu/daxuecheng3/'], ['红树湾', 'https://sz.lianjia.com/xiaoqu/hongshuwan/'], ['后海', 'https://sz.lianjia.com/xiaoqu/houhai/'], ['华侨城', 'https://sz.lianjia.com/xiaoqu/huaqiaocheng1/'], ['科技园', 'https://sz.lianjia.com/xiaoqu/kejiyuan/'], ['南山中心', 'https://sz.lianjia.com/xiaoqu/nanshanzhongxin/'], ['南头', 'https://sz.lianjia.com/xiaoqu/nantou/'], ['前海', 'https://sz.lianjia.com/xiaoqu/qianhai/'], ['深圳北站', 'https://sz.lianjia.com/xiaoqu/shenzhenbeizhan/'], ['蛇口', 'https://sz.lianjia.com/xiaoqu/shekou/'], ['深圳湾', 'https://sz.lianjia.com/xiaoqu/shenzhenwan/'], ['西丽', 'https://sz.lianjia.com/xiaoqu/xili1/']]\n",
      "https://sz.lianjia.com/xiaoqu/yantianqu/\n",
      "[['梅沙', 'https://sz.lianjia.com/xiaoqu/meisha/'], ['沙头角', 'https://sz.lianjia.com/xiaoqu/shatoujiao/'], ['盐田港', 'https://sz.lianjia.com/xiaoqu/yantiangang/']]\n",
      "https://sz.lianjia.com/xiaoqu/baoanqu/\n",
      "[['宝安中心', 'https://sz.lianjia.com/xiaoqu/baoanzhongxin/'], ['碧海', 'https://sz.lianjia.com/xiaoqu/bihai1/'], ['翻身', 'https://sz.lianjia.com/xiaoqu/fanshen/'], ['福永', 'https://sz.lianjia.com/xiaoqu/fuyong/'], ['观澜', 'https://sz.lianjia.com/xiaoqu/guanlan/'], ['松岗', 'https://sz.lianjia.com/xiaoqu/songgang/'], ['沙井', 'https://sz.lianjia.com/xiaoqu/shajing/'], ['石岩', 'https://sz.lianjia.com/xiaoqu/shiyan/'], ['桃源居', 'https://sz.lianjia.com/xiaoqu/taoyuanju/'], ['新安', 'https://sz.lianjia.com/xiaoqu/xinan/'], ['西乡', 'https://sz.lianjia.com/xiaoqu/xixiang/'], ['曦城', 'https://sz.lianjia.com/xiaoqu/xicheng1/']]\n",
      "https://sz.lianjia.com/xiaoqu/longgangqu/\n",
      "[['布吉关', 'https://sz.lianjia.com/xiaoqu/bujiguan/'], ['布吉大芬', 'https://sz.lianjia.com/xiaoqu/bujidafen/'], ['布吉水径', 'https://sz.lianjia.com/xiaoqu/bujishuijing/'], ['坂田', 'https://sz.lianjia.com/xiaoqu/bantian/'], ['布吉街', 'https://sz.lianjia.com/xiaoqu/bujijie/'], ['布吉南岭', 'https://sz.lianjia.com/xiaoqu/bujinanling/'], ['丹竹头', 'https://sz.lianjia.com/xiaoqu/danzhutou/'], ['大运新城', 'https://sz.lianjia.com/xiaoqu/dayunxincheng/'], ['横岗', 'https://sz.lianjia.com/xiaoqu/henggang/'], ['龙岗双龙', 'https://sz.lianjia.com/xiaoqu/longgangshuanglong/'], ['龙岗中心城', 'https://sz.lianjia.com/xiaoqu/longgangzhongxincheng/'], ['龙岗宝荷', 'https://sz.lianjia.com/xiaoqu/longgangbaohe/'], ['坪地', 'https://sz.lianjia.com/xiaoqu/pingdi/'], ['平湖', 'https://sz.lianjia.com/xiaoqu/pinghu/'], ['石芽岭', 'https://sz.lianjia.com/xiaoqu/shiyaling/']]\n",
      "https://sz.lianjia.com/xiaoqu/longhuaqu/\n",
      "[['观澜', 'https://sz.lianjia.com/xiaoqu/guanlan/'], ['红山', 'https://sz.lianjia.com/xiaoqu/hongshan6/'], ['龙华中心', 'https://sz.lianjia.com/xiaoqu/longhuazhongxin/'], ['龙华新区', 'https://sz.lianjia.com/xiaoqu/longhuaxinqu/'], ['民治', 'https://sz.lianjia.com/xiaoqu/minzhi/'], ['梅林关', 'https://sz.lianjia.com/xiaoqu/meilinguan/'], ['上塘', 'https://sz.lianjia.com/xiaoqu/shangtang/']]\n",
      "https://sz.lianjia.com/xiaoqu/guangmingqu/\n",
      "[['公明', 'https://sz.lianjia.com/xiaoqu/gongming/'], ['观澜', 'https://sz.lianjia.com/xiaoqu/guanlan/']]\n",
      "https://sz.lianjia.com/xiaoqu/pingshanqu/\n",
      "[['坪山', 'https://sz.lianjia.com/xiaoqu/pingshan/']]\n",
      "https://sz.lianjia.com/xiaoqu/dapengxinqu/\n",
      "[['大鹏半岛', 'https://sz.lianjia.com/xiaoqu/dapengbandao/']]\n"
     ]
    }
   ],
   "source": [
    "area = get_area()"
   ]
  },
  {
   "cell_type": "code",
   "execution_count": 197,
   "metadata": {
    "scrolled": false
   },
   "outputs": [
    {
     "name": "stdout",
     "output_type": "stream",
     "text": [
      "{'title': '雍翠华府', 'url': 'https://sz.lianjia.com/xiaoqu/2411048903207/', 'houseInfo': '共209个户型\\n        |\\n            90天成交8套\\n      |2套正在出租', 'positionInfo': '罗湖区布心/2003年建成', 'tagList': ['近地铁3号线(龙岗线)水贝站'], 'price': '54936', 'sellCount': '45'}\n",
      "{'title': '山湖居', 'url': 'https://sz.lianjia.com/xiaoqu/2411048845240/', 'houseInfo': '90天成交1套\\n      |2套正在出租', 'positionInfo': '罗湖区布心/2003年建成', 'tagList': ['近地铁5号线(环中线)布心站'], 'price': '55129', 'sellCount': '27'}\n",
      "{'title': '今日家园', 'url': 'https://sz.lianjia.com/xiaoqu/2411048613862/', 'houseInfo': '90天成交2套\\n      |9套正在出租', 'positionInfo': '罗湖区布心/1999年建成', 'tagList': ['近地铁5号线(环中线)布心站'], 'price': '58862', 'sellCount': '28'}\n",
      "{'title': '君逸华府', 'url': 'https://sz.lianjia.com/xiaoqu/2411048738974/', 'houseInfo': '90天成交1套\\n      |6套正在出租', 'positionInfo': '罗湖区布心/2001年建成', 'tagList': ['近地铁5号线(环中线)太安站'], 'price': '62985', 'sellCount': '18'}\n",
      "{'title': '碧岭华庭', 'url': 'https://sz.lianjia.com/xiaoqu/2411048753635/', 'houseInfo': '共163个户型\\n        |\\n            90天成交2套\\n      |2套正在出租', 'positionInfo': '罗湖区布心/2002年建成', 'tagList': ['近地铁3号线(龙岗线)水贝站'], 'price': '52844', 'sellCount': '29'}\n",
      "{'title': '金洲花园', 'url': 'https://sz.lianjia.com/xiaoqu/2411099434454/', 'houseInfo': '90天成交1套\\n      |2套正在出租', 'positionInfo': '罗湖区布心/2001年建成', 'tagList': ['近地铁5号线(环中线)百鸽笼站'], 'price': '44018', 'sellCount': '9'}\n",
      "{'title': '花半里别馆', 'url': 'https://sz.lianjia.com/xiaoqu/2411048773401/', 'houseInfo': '共38个户型\\n        |\\n            90天成交1套\\n      |2套正在出租', 'positionInfo': '罗湖区布心/2008年建成', 'tagList': ['近地铁3号线(龙岗线)草埔站'], 'price': '50294', 'sellCount': '6'}\n",
      "{'title': '太阳新城', 'url': 'https://sz.lianjia.com/xiaoqu/2411048475550/', 'houseInfo': '共96个户型\\n        |\\n            90天成交1套\\n      |0套正在出租', 'positionInfo': '罗湖区布心/2002年建成', 'tagList': ['近地铁3号线(龙岗线)水贝站'], 'price': '51761', 'sellCount': '7'}\n",
      "{'title': '阳光明居', 'url': 'https://sz.lianjia.com/xiaoqu/2411048524867/', 'houseInfo': '90天成交1套\\n      |2套正在出租', 'positionInfo': '罗湖区布心/1999年建成', 'tagList': ['近地铁5号线(环中线)布心站'], 'price': '62555', 'sellCount': '9'}\n",
      "{'title': '颖隆大厦', 'url': 'https://sz.lianjia.com/xiaoqu/2411048763703/', 'houseInfo': '共81个户型\\n        |\\n            90天成交1套\\n      |1套正在出租', 'positionInfo': '罗湖区布心/2000年建成', 'tagList': ['近地铁3号线(龙岗线)草埔站'], 'price': '40607', 'sellCount': '16'}\n",
      "{'title': '翡翠园', 'url': 'https://sz.lianjia.com/xiaoqu/2411048514321/', 'houseInfo': '共38个户型\\n        |\\n            90天成交0套\\n      |0套正在出租', 'positionInfo': '罗湖区布心/2000年建成', 'tagList': ['近地铁5号线(环中线)布心站'], 'price': '47846', 'sellCount': '1'}\n",
      "{'title': '大地花园', 'url': 'https://sz.lianjia.com/xiaoqu/2411048473091/', 'houseInfo': '共109个户型\\n        |\\n            90天成交1套\\n      |4套正在出租', 'positionInfo': '罗湖区布心/1996年建成', 'tagList': ['近地铁3号线(龙岗线)水贝站'], 'price': '40506', 'sellCount': '23'}\n",
      "{'title': '鸿翠苑', 'url': 'https://sz.lianjia.com/xiaoqu/2411048775337/', 'houseInfo': '共66个户型\\n        |\\n            90天成交1套\\n      |0套正在出租', 'positionInfo': '罗湖区布心/2009年建成', 'tagList': ['近地铁3号线(龙岗线)草埔站'], 'price': '48819', 'sellCount': '9'}\n",
      "{'title': '金迪名苑', 'url': 'https://sz.lianjia.com/xiaoqu/2411048843214/', 'houseInfo': '共76个户型\\n        |\\n            90天成交2套\\n      |3套正在出租', 'positionInfo': '罗湖区布心/2002年建成', 'tagList': ['近地铁5号线(环中线)太安站'], 'price': '66273', 'sellCount': '9'}\n",
      "{'title': '青橙时代', 'url': 'https://sz.lianjia.com/xiaoqu/2411048517087/', 'houseInfo': '共38个户型\\n        |\\n            90天成交1套\\n      |2套正在出租', 'positionInfo': '罗湖区布心/2006年建成', 'tagList': ['近地铁5号线(环中线)布心站'], 'price': '58186', 'sellCount': '2'}\n",
      "{'title': '彩世界家园', 'url': 'https://sz.lianjia.com/xiaoqu/2411048732458/', 'houseInfo': '共105个户型\\n        |\\n            90天成交1套\\n      |2套正在出租', 'positionInfo': '罗湖区布心/2001年建成', 'tagList': ['近地铁5号线(环中线)布心站'], 'price': '52150', 'sellCount': '18'}\n",
      "{'title': '绿景山庄', 'url': 'https://sz.lianjia.com/xiaoqu/2411048890244/', 'houseInfo': '共53个户型\\n        |\\n            90天成交0套\\n      |2套正在出租', 'positionInfo': '罗湖区布心/1999年建成', 'tagList': ['近地铁3号线(龙岗线)草埔站'], 'price': '41402', 'sellCount': '6'}\n",
      "{'title': '松泉山庄', 'url': 'https://sz.lianjia.com/xiaoqu/2411048745644/', 'houseInfo': '90天成交1套\\n      |3套正在出租', 'positionInfo': '罗湖区布心/1996年建成', 'tagList': ['近地铁3号线(龙岗线)水贝站'], 'price': '44519', 'sellCount': '31'}\n",
      "{'title': '泰和花园', 'url': 'https://sz.lianjia.com/xiaoqu/2411048519026/', 'houseInfo': '90天成交2套\\n      |4套正在出租', 'positionInfo': '罗湖区布心/1997年建成', 'tagList': ['近地铁5号线(环中线)布心站'], 'price': '56444', 'sellCount': '7'}\n",
      "{'title': '紫荆花园', 'url': 'https://sz.lianjia.com/xiaoqu/2411048854019/', 'houseInfo': '90天成交0套\\n      |1套正在出租', 'positionInfo': '罗湖区布心/1999年建成', 'tagList': ['近地铁5号线(环中线)布心站'], 'price': '40241', 'sellCount': '9'}\n",
      "{'title': '英达花园', 'url': 'https://sz.lianjia.com/xiaoqu/2411048476216/', 'houseInfo': '共46个户型\\n        |\\n            90天成交0套\\n      |2套正在出租', 'positionInfo': '罗湖区布心/1995年建成', 'tagList': ['近地铁3号线(龙岗线)水贝站'], 'price': '39951', 'sellCount': '8'}\n",
      "{'title': '淘金山一期', 'url': 'https://sz.lianjia.com/xiaoqu/2411048521757/', 'houseInfo': '90天成交0套\\n      |1套正在出租', 'positionInfo': '罗湖区布心/2006年建成', 'tagList': ['近地铁5号线(环中线)布心站'], 'price': '72358', 'sellCount': '14'}\n",
      "{'title': '松泉公寓', 'url': 'https://sz.lianjia.com/xiaoqu/2411048892712/', 'houseInfo': '90天成交1套\\n      |2套正在出租', 'positionInfo': '罗湖区布心/1988年建成', 'tagList': ['近地铁3号线(龙岗线)水贝站'], 'price': '51408', 'sellCount': '8'}\n",
      "{'title': '鹿鸣园', 'url': 'https://sz.lianjia.com/xiaoqu/2411048887011/', 'houseInfo': '共44个户型\\n        |\\n            90天成交1套\\n      |0套正在出租', 'positionInfo': '罗湖区布心/1997年建成', 'tagList': ['近地铁3号线(龙岗线)水贝站'], 'price': '56862', 'sellCount': '6'}\n",
      "{'title': '鹏城花园', 'url': 'https://sz.lianjia.com/xiaoqu/2411048743772/', 'houseInfo': '共77个户型\\n        |\\n            90天成交1套\\n      |3套正在出租', 'positionInfo': '罗湖区布心/1994年建成', 'tagList': ['近地铁5号线(环中线)布心站'], 'price': '45546', 'sellCount': '9'}\n",
      "{'title': '绿映居', 'url': 'https://sz.lianjia.com/xiaoqu/2411048844352/', 'houseInfo': '90天成交1套\\n      |1套正在出租', 'positionInfo': '罗湖区布心/2003年建成', 'tagList': ['近地铁5号线(环中线)布心站'], 'price': '47046', 'sellCount': '0'}\n",
      "{'title': '东晓花园', 'url': 'https://sz.lianjia.com/xiaoqu/2411048735931/', 'houseInfo': '90天成交1套\\n      |0套正在出租', 'positionInfo': '罗湖区布心/1988年建成', 'tagList': ['近地铁5号线(环中线)太安站'], 'price': '49672', 'sellCount': '5'}\n",
      "{'title': '翠怡苑', 'url': 'https://sz.lianjia.com/xiaoqu/2411048853384/', 'houseInfo': '90天成交1套\\n      |1套正在出租', 'positionInfo': '罗湖区布心/2001年建成', 'tagList': ['近地铁3号线(龙岗线)草埔站'], 'price': '46439', 'sellCount': '1'}\n",
      "{'title': '太白居', 'url': 'https://sz.lianjia.com/xiaoqu/2411048748838/', 'houseInfo': '共47个户型\\n        |\\n            90天成交0套\\n      |1套正在出租', 'positionInfo': '罗湖区布心/1994年建成', 'tagList': ['近地铁5号线(环中线)布心站'], 'price': '51176', 'sellCount': '5'}\n",
      "{'title': '淘金山 · 湖景花园二期', 'url': 'https://sz.lianjia.com/xiaoqu/2411100710412/', 'houseInfo': '90天成交0套\\n      |0套正在出租', 'positionInfo': '罗湖区布心/2012年建成', 'tagList': [], 'price': '77481', 'sellCount': '8'}\n",
      "{'title': '海关草埔生活区', 'url': 'https://sz.lianjia.com/xiaoqu/246877270257037/', 'houseInfo': '共39个户型\\n        |\\n            90天成交1套\\n      |0套正在出租', 'positionInfo': '罗湖区布心/1995年建成', 'tagList': ['近地铁3号线(龙岗线)草埔站'], 'price': '44868', 'sellCount': '6'}\n",
      "{'title': '心怡花园', 'url': 'https://sz.lianjia.com/xiaoqu/2411048523256/', 'houseInfo': '共25个户型\\n        |\\n            90天成交1套\\n      |0套正在出租', 'positionInfo': '罗湖区布心/2002年建成', 'tagList': ['近地铁5号线(环中线)布心站'], 'price': '53117', 'sellCount': '3'}\n",
      "{'title': '翠景山庄', 'url': 'https://sz.lianjia.com/xiaoqu/2411048840931/', 'houseInfo': '90天成交0套\\n      |0套正在出租', 'positionInfo': '罗湖区布心/1997年建成', 'tagList': ['近地铁3号线(龙岗线)水贝站'], 'price': '51542', 'sellCount': '5'}\n",
      "{'title': '比华利山庄', 'url': 'https://sz.lianjia.com/xiaoqu/2411099432230/', 'houseInfo': '90天成交0套\\n      |2套正在出租', 'positionInfo': '罗湖区布心/1995年建成', 'tagList': ['近地铁3号线(龙岗线)草埔站'], 'price': '46651', 'sellCount': '7'}\n",
      "{'title': '宝丰苑', 'url': 'https://sz.lianjia.com/xiaoqu/2415257652989393/', 'houseInfo': '90天成交1套\\n      |0套正在出租', 'positionInfo': '罗湖区布心/2016年建成', 'tagList': ['近地铁5号线(环中线)布心站'], 'price': '62843', 'sellCount': '13'}\n",
      "{'title': '置富公寓', 'url': 'https://sz.lianjia.com/xiaoqu/2411048763030/', 'houseInfo': '90天成交0套\\n      |0套正在出租', 'positionInfo': '罗湖区布心/2001年建成', 'tagList': ['近地铁3号线(龙岗线)草埔站'], 'price': '41800', 'sellCount': '1'}\n",
      "{'title': '维富大厦', 'url': 'https://sz.lianjia.com/xiaoqu/2411048475983/', 'houseInfo': '共26个户型\\n        |\\n            90天成交1套\\n      |1套正在出租', 'positionInfo': '罗湖区布心/2001年建成', 'tagList': ['近地铁3号线(龙岗线)水贝站'], 'price': '38480', 'sellCount': '5'}\n",
      "{'title': '双御雅轩', 'url': 'https://sz.lianjia.com/xiaoqu/2411048473622/', 'houseInfo': '共22个户型\\n        |\\n            90天成交1套\\n      |3套正在出租', 'positionInfo': '罗湖区布心/2008年建成', 'tagList': ['近地铁3号线(龙岗线)水贝站'], 'price': '72222', 'sellCount': '6'}\n",
      "{'title': '长富花园', 'url': 'https://sz.lianjia.com/xiaoqu/2411048474785/', 'houseInfo': '90天成交0套\\n      |0套正在出租', 'positionInfo': '罗湖区布心/1995年建成', 'tagList': ['近地铁3号线(龙岗线)水贝站'], 'price': '58530', 'sellCount': '2'}\n",
      "{'title': '培峰苑', 'url': 'https://sz.lianjia.com/xiaoqu/2420029864981686/', 'houseInfo': '90天成交0套\\n      |11套正在出租', 'positionInfo': '罗湖区布心/2015年建成', 'tagList': [], 'price': '58658', 'sellCount': '0'}\n",
      "{'title': '宝翠苑', 'url': 'https://sz.lianjia.com/xiaoqu/2411062929180/', 'houseInfo': '90天成交0套\\n      |1套正在出租', 'positionInfo': '罗湖区布心/2014年建成', 'tagList': ['近地铁3号线(龙岗线)草埔站'], 'price': '52714', 'sellCount': '3'}\n",
      "{'title': '松泉阁', 'url': 'https://sz.lianjia.com/xiaoqu/2411063018540/', 'houseInfo': '90天成交1套\\n      |0套正在出租', 'positionInfo': '罗湖区布心/1998年建成', 'tagList': ['近地铁3号线(龙岗线)水贝站'], 'price': '48969', 'sellCount': '4'}\n",
      "{'title': '鸿基花园', 'url': 'https://sz.lianjia.com/xiaoqu/2411048776273/', 'houseInfo': '90天成交0套\\n      |0套正在出租', 'positionInfo': '罗湖区布心/1988年建成', 'tagList': ['近地铁3号线(龙岗线)草埔站'], 'price': '42457', 'sellCount': '2'}\n",
      "{'title': '谱心苑', 'url': 'https://sz.lianjia.com/xiaoqu/2411099436364/', 'houseInfo': '90天成交0套\\n      |0套正在出租', 'positionInfo': '罗湖区布心/2001年建成', 'tagList': ['近地铁5号线(环中线)布心站'], 'price': '48914', 'sellCount': '4'}\n",
      "{'title': '布心公寓', 'url': 'https://sz.lianjia.com/xiaoqu/247462331363766/', 'houseInfo': '90天成交1套\\n      |2套正在出租', 'positionInfo': '罗湖区布心/1985年建成', 'tagList': ['近地铁5号线(环中线)布心站'], 'price': '57995', 'sellCount': '3'}\n",
      "{'title': '中华花园', 'url': 'https://sz.lianjia.com/xiaoqu/2411048846876/', 'houseInfo': '90天成交0套\\n      |0套正在出租', 'positionInfo': '罗湖区布心/1995年建成', 'tagList': ['近地铁3号线(龙岗线)水贝站'], 'price': '43324', 'sellCount': '7'}\n",
      "{'title': '布心花园一区', 'url': 'https://sz.lianjia.com/xiaoqu/2411048727454/', 'houseInfo': '共35个户型\\n        |\\n            90天成交0套\\n      |0套正在出租', 'positionInfo': '罗湖区布心/1987年建成', 'tagList': ['近地铁5号线(环中线)太安站'], 'price': '55337', 'sellCount': '1'}\n",
      "{'title': '布心花园二区', 'url': 'https://sz.lianjia.com/xiaoqu/2411048911675/', 'houseInfo': '共28个户型\\n        |\\n            90天成交0套\\n      |1套正在出租', 'positionInfo': '罗湖区布心/1987年建成', 'tagList': ['近地铁3号线(龙岗线)水贝站'], 'price': '58426', 'sellCount': '5'}\n",
      "{'title': '绿茵庭苑', 'url': 'https://sz.lianjia.com/xiaoqu/2411048777729/', 'houseInfo': '90天成交0套\\n      |0套正在出租', 'positionInfo': '罗湖区布心/2002年建成', 'tagList': ['近地铁3号线(龙岗线)草埔站'], 'price': '44364', 'sellCount': '0'}\n",
      "{'title': '麟腾苑二期', 'url': 'https://sz.lianjia.com/xiaoqu/249076339126150/', 'houseInfo': '90天成交0套\\n      |1套正在出租', 'positionInfo': '罗湖区布心/2004年建成', 'tagList': ['近地铁5号线(环中线)布心站'], 'price': '53107', 'sellCount': '3'}\n",
      "{'title': '东湖豪庭', 'url': 'https://sz.lianjia.com/xiaoqu/2411048841630/', 'houseInfo': '90天成交0套\\n      |0套正在出租', 'positionInfo': '罗湖区布心/2000年建成', 'tagList': ['近地铁3号线(龙岗线)水贝站'], 'price': '62900', 'sellCount': '2'}\n",
      "{'title': '宝湖名园', 'url': 'https://sz.lianjia.com/xiaoqu/2411048724525/', 'houseInfo': '共16个户型\\n        |\\n            90天成交0套\\n      |0套正在出租', 'positionInfo': '罗湖区布心/2002年建成', 'tagList': ['近地铁5号线(环中线)布心站'], 'price': '53742', 'sellCount': '6'}\n",
      "{'title': '景亿山庄', 'url': 'https://sz.lianjia.com/xiaoqu/2411048615516/', 'houseInfo': '90天成交0套\\n      |0套正在出租', 'positionInfo': '罗湖区布心/2009年建成', 'tagList': ['近地铁5号线(环中线)布心站'], 'price': '暂无', 'sellCount': '0'}\n",
      "{'title': '港鹏新村', 'url': 'https://sz.lianjia.com/xiaoqu/247466202968452/', 'houseInfo': '90天成交0套\\n      |0套正在出租', 'positionInfo': '罗湖区布心/2003年建成', 'tagList': ['近地铁5号线(环中线)布心站'], 'price': '19730', 'sellCount': '0'}\n",
      "{'title': '一致春晓苑', 'url': 'https://sz.lianjia.com/xiaoqu/2411048526885/', 'houseInfo': '90天成交0套\\n      |2套正在出租', 'positionInfo': '罗湖区布心/1994年建成', 'tagList': ['近地铁5号线(环中线)布心站'], 'price': '54794', 'sellCount': '0'}\n",
      "{'title': '逸心苑', 'url': 'https://sz.lianjia.com/xiaoqu/2411048617551/', 'houseInfo': '90天成交0套\\n      |0套正在出租', 'positionInfo': '罗湖区布心/2000年建成', 'tagList': ['近地铁5号线(环中线)布心站'], 'price': '52405', 'sellCount': '1'}\n",
      "{'title': '东道苑', 'url': 'https://sz.lianjia.com/xiaoqu/246991244963003/', 'houseInfo': '90天成交0套\\n      |1套正在出租', 'positionInfo': '罗湖区布心/1998年建成', 'tagList': ['近地铁5号线(环中线)布心站'], 'price': '51864', 'sellCount': '0'}\n",
      "{'title': '海鹰大厦', 'url': 'https://sz.lianjia.com/xiaoqu/2410496810955149/', 'houseInfo': '90天成交0套\\n      |0套正在出租', 'positionInfo': '罗湖区布心/1992年建成', 'tagList': ['近地铁5号线(环中线)布心站'], 'price': '48052', 'sellCount': '1'}\n",
      "{'title': '金稻田公寓', 'url': 'https://sz.lianjia.com/xiaoqu/2411048914343/', 'houseInfo': '90天成交0套\\n      |0套正在出租', 'positionInfo': '罗湖区布心/2007年建成', 'tagList': ['近地铁3号线(龙岗线)草埔站'], 'price': '40702', 'sellCount': '1'}\n",
      "{'title': '华秀花园', 'url': 'https://sz.lianjia.com/xiaoqu/2411048899634/', 'houseInfo': '90天成交0套\\n      |0套正在出租', 'positionInfo': '罗湖区布心/未知年建成', 'tagList': ['近地铁5号线(环中线)布心站'], 'price': '41209', 'sellCount': '0'}\n"
     ]
    },
    {
     "name": "stdout",
     "output_type": "stream",
     "text": [
      "{'title': '麟腾苑', 'url': 'https://sz.lianjia.com/xiaoqu/2411048844204/', 'houseInfo': '90天成交0套\\n      |0套正在出租', 'positionInfo': '罗湖区布心/2001年建成', 'tagList': ['近地铁5号线(环中线)布心站'], 'price': '49933', 'sellCount': '0'}\n",
      "{'title': '深华花园', 'url': 'https://sz.lianjia.com/xiaoqu/2411048772840/', 'houseInfo': '90天成交0套\\n      |0套正在出租', 'positionInfo': '罗湖区布心/1993年建成', 'tagList': ['近地铁3号线(龙岗线)草埔站'], 'price': '83157', 'sellCount': '0'}\n",
      "{'title': '布心花园四区', 'url': 'https://sz.lianjia.com/xiaoqu/2411048911676/', 'houseInfo': '共13个户型\\n        |\\n            90天成交0套\\n      |0套正在出租', 'positionInfo': '罗湖区布心/1992年建成', 'tagList': ['近地铁5号线(环中线)布心站'], 'price': '54039', 'sellCount': '2'}\n",
      "{'title': '布心花园三区', 'url': 'https://sz.lianjia.com/xiaoqu/2411048606984/', 'houseInfo': '共15个户型\\n        |\\n            90天成交0套\\n      |0套正在出租', 'positionInfo': '罗湖区布心/1997年建成', 'tagList': ['近地铁5号线(环中线)布心站'], 'price': '59882', 'sellCount': '1'}\n",
      "{'title': '翠山工业区单身宿舍', 'url': 'https://sz.lianjia.com/xiaoqu/2417971093188155/', 'houseInfo': '90天成交0套\\n      |0套正在出租', 'positionInfo': '罗湖区布心/1991年建成', 'tagList': ['近地铁3号线(龙岗线)草埔站'], 'price': '38227', 'sellCount': '1'}\n",
      "{'title': '金穗居', 'url': 'https://sz.lianjia.com/xiaoqu/2411048914561/', 'houseInfo': '90天成交0套\\n      |0套正在出租', 'positionInfo': '罗湖区布心/未知年建成', 'tagList': ['近地铁3号线(龙岗线)草埔站'], 'price': '暂无', 'sellCount': '0'}\n",
      "{'title': '金威新苑', 'url': 'https://sz.lianjia.com/xiaoqu/2411048736413/', 'houseInfo': '90天成交0套\\n      |0套正在出租', 'positionInfo': '罗湖区布心/未知年建成', 'tagList': ['近地铁5号线(环中线)太安站'], 'price': '暂无', 'sellCount': '0'}\n",
      "{'title': '布心山庄东区', 'url': 'https://sz.lianjia.com/xiaoqu/2412587857882143/', 'houseInfo': '90天成交0套\\n      |0套正在出租', 'positionInfo': '罗湖区布心/未知年建成', 'tagList': ['近地铁5号线(环中线)布心站'], 'price': '35085', 'sellCount': '0'}\n",
      "{'title': '东昌路4号公交综合楼', 'url': 'https://sz.lianjia.com/xiaoqu/2411048841427/', 'houseInfo': '90天成交0套\\n      |0套正在出租', 'positionInfo': '罗湖区布心/未知年建成', 'tagList': ['近地铁5号线(环中线)太安站'], 'price': '38656', 'sellCount': '0'}\n",
      "{'title': '华港新村', 'url': 'https://sz.lianjia.com/xiaoqu/2411048914022/', 'houseInfo': '共3个户型\\n        |\\n            90天成交0套\\n      |0套正在出租', 'positionInfo': '罗湖区布心/1995年建成', 'tagList': ['近地铁3号线(龙岗线)草埔站'], 'price': '36268', 'sellCount': '1'}\n",
      "{'title': '东立花园', 'url': 'https://sz.lianjia.com/xiaoqu/2411048734642/', 'houseInfo': '90天成交0套\\n      |0套正在出租', 'positionInfo': '罗湖区布心/未知年建成', 'tagList': ['近地铁3号线(龙岗线)水贝站'], 'price': '暂无', 'sellCount': '0'}\n",
      "{'title': '翠岭苑', 'url': 'https://sz.lianjia.com/xiaoqu/2411048611710/', 'houseInfo': '90天成交0套\\n      |0套正在出租', 'positionInfo': '罗湖区布心/未知年建成', 'tagList': ['近地铁5号线(环中线)布心站'], 'price': '暂无', 'sellCount': '0'}\n",
      "{'title': '公路局宿舍', 'url': 'https://sz.lianjia.com/xiaoqu/2411048846170/', 'houseInfo': '90天成交0套\\n      |0套正在出租', 'positionInfo': '罗湖区布心/未知年建成', 'tagList': ['近地铁3号线(龙岗线)水贝站'], 'price': '45280', 'sellCount': '0'}\n",
      "{'title': '育才花园', 'url': 'https://sz.lianjia.com/xiaoqu/2411048906482/', 'houseInfo': '90天成交0套\\n      |0套正在出租', 'positionInfo': '罗湖区布心/未知年建成', 'tagList': ['近地铁3号线(龙岗线)草埔站'], 'price': '11563', 'sellCount': '0'}\n",
      "{'title': '湖光山色', 'url': 'https://sz.lianjia.com/xiaoqu/2412047205281549/', 'houseInfo': '90天成交0套\\n      |0套正在出租', 'positionInfo': '罗湖区布心/未知年建成', 'tagList': ['近地铁5号线(环中线)布心站'], 'price': '暂无', 'sellCount': '0'}\n",
      "{'title': '东兴大院', 'url': 'https://sz.lianjia.com/xiaoqu/2411048612867/', 'houseInfo': '90天成交0套\\n      |0套正在出租', 'positionInfo': '罗湖区布心/未知年建成', 'tagList': ['近地铁5号线(环中线)布心站'], 'price': '45024', 'sellCount': '0'}\n",
      "{'title': '草埔新村', 'url': 'https://sz.lianjia.com/xiaoqu/2411048913932/', 'houseInfo': '90天成交0套\\n      |0套正在出租', 'positionInfo': '罗湖区布心/未知年建成', 'tagList': ['近地铁3号线(龙岗线)草埔站'], 'price': '暂无', 'sellCount': '0'}\n",
      "{'title': '农牧小区', 'url': 'https://sz.lianjia.com/xiaoqu/2410638160573387/', 'houseInfo': '90天成交0套\\n      |0套正在出租', 'positionInfo': '罗湖区布心/1991年建成', 'tagList': ['近地铁5号线(环中线)布心站'], 'price': '52198', 'sellCount': '1'}\n",
      "{'title': '金威苑', 'url': 'https://sz.lianjia.com/xiaoqu/2411048515662/', 'houseInfo': '90天成交0套\\n      |0套正在出租', 'positionInfo': '罗湖区布心/未知年建成', 'tagList': ['近地铁5号线(环中线)布心站'], 'price': '暂无', 'sellCount': '0'}\n",
      "{'title': '布心水围村', 'url': 'https://sz.lianjia.com/xiaoqu/2412969381998408/', 'houseInfo': '90天成交0套\\n      |0套正在出租', 'positionInfo': '罗湖区布心/未知年建成', 'tagList': ['近地铁5号线(环中线)布心站'], 'price': '暂无', 'sellCount': '0'}\n",
      "{'title': '武警特检站水围生活区', 'url': 'https://sz.lianjia.com/xiaoqu/2411539188822725/', 'houseInfo': '90天成交0套\\n      |0套正在出租', 'positionInfo': '罗湖区布心/未知年建成', 'tagList': [], 'price': '暂无', 'sellCount': '0'}\n",
      "{'title': '深华小区', 'url': 'https://sz.lianjia.com/xiaoqu/249686858871646/', 'houseInfo': '90天成交0套\\n      |0套正在出租', 'positionInfo': '罗湖区布心/1999年建成', 'tagList': [], 'price': '暂无', 'sellCount': '0'}\n",
      "{'title': 'Mini公馆', 'url': 'https://sz.lianjia.com/xiaoqu/2420026519669283/', 'houseInfo': '90天成交0套\\n      |0套正在出租', 'positionInfo': '罗湖区布心/2002年建成', 'tagList': ['近地铁3号线(龙岗线)水贝站'], 'price': '暂无', 'sellCount': '0'}\n",
      "{'title': '东盛苑小区', 'url': 'https://sz.lianjia.com/xiaoqu/2411048842386/', 'houseInfo': '90天成交0套\\n      |0套正在出租', 'positionInfo': '罗湖区布心/未知年建成', 'tagList': ['近地铁3号线(龙岗线)水贝站'], 'price': '暂无', 'sellCount': '0'}\n",
      "{'title': '淳安居', 'url': 'https://sz.lianjia.com/xiaoqu/2411048609976/', 'houseInfo': '90天成交0套\\n      |0套正在出租', 'positionInfo': '罗湖区布心/未知年建成', 'tagList': ['近地铁5号线(环中线)太安站'], 'price': '暂无', 'sellCount': '0'}\n",
      "{'title': '布心特检生活小区', 'url': 'https://sz.lianjia.com/xiaoqu/2411048611444/', 'houseInfo': '90天成交0套\\n      |0套正在出租', 'positionInfo': '罗湖区布心/未知年建成', 'tagList': ['近地铁5号线(环中线)布心站'], 'price': '暂无', 'sellCount': '0'}\n",
      "{'title': '金山苑', 'url': 'https://sz.lianjia.com/xiaoqu/2411048774979/', 'houseInfo': '90天成交0套\\n      |0套正在出租', 'positionInfo': '罗湖区布心/未知年建成', 'tagList': ['近地铁3号线(龙岗线)草埔站'], 'price': '暂无', 'sellCount': '0'}\n",
      "{'title': '富基PARK', 'url': 'https://sz.lianjia.com/xiaoqu/2411063571506/', 'houseInfo': '90天成交0套\\n      |0套正在出租', 'positionInfo': '罗湖区布心/2014年建成', 'tagList': ['近地铁3号线(龙岗线)草埔站'], 'price': '40746', 'sellCount': '0'}\n",
      "{'title': '翠竹小区', 'url': 'https://sz.lianjia.com/xiaoqu/2411048913681/', 'houseInfo': '90天成交0套\\n      |0套正在出租', 'positionInfo': '罗湖区布心/未知年建成', 'tagList': ['近地铁3号线(龙岗线)草埔站'], 'price': '暂无', 'sellCount': '0'}\n",
      "{'title': '景安大厦', 'url': 'https://sz.lianjia.com/xiaoqu/2411048736966/', 'houseInfo': '90天成交0套\\n      |0套正在出租', 'positionInfo': '罗湖区布心/未知年建成', 'tagList': ['近地铁5号线(环中线)太安站'], 'price': '暂无', 'sellCount': '0'}\n",
      "{'title': '辐照中心', 'url': 'https://sz.lianjia.com/xiaoqu/2420021255777593/', 'houseInfo': '90天成交0套\\n      |0套正在出租', 'positionInfo': '罗湖区布心/1988年建成', 'tagList': ['近地铁3号线(龙岗线)水贝站'], 'price': '48604', 'sellCount': '2'}\n",
      "{'title': '布心市场', 'url': 'https://sz.lianjia.com/xiaoqu/2415732187868507/', 'houseInfo': '90天成交0套\\n      |0套正在出租', 'positionInfo': '罗湖区布心/未知年建成', 'tagList': ['近地铁5号线(环中线)太安站'], 'price': '暂无', 'sellCount': '0'}\n",
      "{'title': '凯利大厦', 'url': 'https://sz.lianjia.com/xiaoqu/2411048776918/', 'houseInfo': '90天成交0套\\n      |0套正在出租', 'positionInfo': '罗湖区布心/未知年建成', 'tagList': ['近地铁3号线(龙岗线)水贝站'], 'price': '暂无', 'sellCount': '0'}\n",
      "{'title': '布心村', 'url': 'https://sz.lianjia.com/xiaoqu/2414826199330378/', 'houseInfo': '90天成交0套\\n      |0套正在出租', 'positionInfo': '罗湖区布心/未知年建成', 'tagList': ['近地铁5号线(环中线)布心站'], 'price': '暂无', 'sellCount': '0'}\n",
      "{'title': '布心山庄西区', 'url': 'https://sz.lianjia.com/xiaoqu/2412650202279391/', 'houseInfo': '90天成交0套\\n      |0套正在出租', 'positionInfo': '罗湖区布心/未知年建成', 'tagList': ['近地铁5号线(环中线)布心站'], 'price': '暂无', 'sellCount': '0'}\n",
      "{'title': '翠山路77号大院', 'url': 'https://sz.lianjia.com/xiaoqu/2420020733553767/', 'houseInfo': '90天成交0套\\n      |0套正在出租', 'positionInfo': '罗湖区布心/未知年建成', 'tagList': [], 'price': '暂无', 'sellCount': '0'}\n",
      "{'title': '皇岗边检站布心生活区', 'url': 'https://sz.lianjia.com/xiaoqu/2413487113514970/', 'houseInfo': '90天成交0套\\n      |0套正在出租', 'positionInfo': '罗湖区布心/未知年建成', 'tagList': ['近地铁5号线(环中线)布心站'], 'price': '暂无', 'sellCount': '0'}\n",
      "{'title': '布心山庄中区', 'url': 'https://sz.lianjia.com/xiaoqu/2412042103434519/', 'houseInfo': '90天成交0套\\n      |0套正在出租', 'positionInfo': '罗湖区布心/未知年建成', 'tagList': ['近地铁5号线(环中线)布心站'], 'price': '暂无', 'sellCount': '0'}\n",
      "{'title': '罗湖环卫公寓', 'url': 'https://sz.lianjia.com/xiaoqu/2420030730412960/', 'houseInfo': '90天成交0套\\n      |0套正在出租', 'positionInfo': '罗湖区布心/未知年建成', 'tagList': [], 'price': '暂无', 'sellCount': '0'}\n",
      "{'title': '西湖工业大厦', 'url': 'https://sz.lianjia.com/xiaoqu/2420030731462281/', 'houseInfo': '90天成交0套\\n      |0套正在出租', 'positionInfo': '罗湖区布心/未知年建成', 'tagList': [], 'price': '暂无', 'sellCount': '0'}\n",
      "{'title': '东湖大望苑', 'url': 'https://sz.lianjia.com/xiaoqu/2411048511914/', 'houseInfo': '90天成交0套\\n      |0套正在出租', 'positionInfo': '罗湖区布心/未知年建成', 'tagList': ['近地铁5号线(环中线)布心站'], 'price': '暂无', 'sellCount': '0'}\n",
      "{'title': '布心新苑', 'url': 'https://sz.lianjia.com/xiaoqu/2411048608081/', 'houseInfo': '90天成交0套\\n      |0套正在出租', 'positionInfo': '罗湖区布心/未知年建成', 'tagList': ['近地铁5号线(环中线)布心站'], 'price': '暂无', 'sellCount': '0'}\n",
      "{'title': '布心中学教工宿舍', 'url': 'https://sz.lianjia.com/xiaoqu/2411048608793/', 'houseInfo': '90天成交0套\\n      |0套正在出租', 'positionInfo': '罗湖区布心/未知年建成', 'tagList': ['近地铁5号线(环中线)布心站'], 'price': '暂无', 'sellCount': '0'}\n",
      "{'title': '宝星阁', 'url': 'https://sz.lianjia.com/xiaoqu/2411048751706/', 'houseInfo': '90天成交0套\\n      |0套正在出租', 'positionInfo': '罗湖区布心/未知年建成', 'tagList': ['近地铁5号线(环中线)布心站'], 'price': '暂无', 'sellCount': '0'}\n",
      "{'title': '心悦园', 'url': 'https://sz.lianjia.com/xiaoqu/2411048846414/', 'houseInfo': '90天成交0套\\n      |0套正在出租', 'positionInfo': '罗湖区布心/未知年建成', 'tagList': ['近地铁5号线(环中线)太安站'], 'price': '暂无', 'sellCount': '0'}\n",
      "{'title': '金稻田路1189号', 'url': 'https://sz.lianjia.com/xiaoqu/2411048914470/', 'houseInfo': '90天成交0套\\n      |0套正在出租', 'positionInfo': '罗湖区布心/未知年建成', 'tagList': ['近地铁3号线(龙岗线)草埔站'], 'price': '暂无', 'sellCount': '0'}\n",
      "{'title': '布吉海关生活区', 'url': 'https://sz.lianjia.com/xiaoqu/2411048761460/', 'houseInfo': '90天成交0套\\n      |0套正在出租', 'positionInfo': '罗湖区布心/未知年建成', 'tagList': ['近地铁3号线(龙岗线)草埔站'], 'price': '暂无', 'sellCount': '0'}\n",
      "{'title': '边防布心住宅区', 'url': 'https://sz.lianjia.com/xiaoqu/2411048509776/', 'houseInfo': '90天成交0套\\n      |0套正在出租', 'positionInfo': '罗湖区布心/未知年建成', 'tagList': ['近地铁5号线(环中线)布心站'], 'price': '暂无', 'sellCount': '0'}\n",
      "{'title': '中深石化大厦', 'url': 'https://sz.lianjia.com/xiaoqu/2412967397830320/', 'houseInfo': '90天成交0套\\n      |0套正在出租', 'positionInfo': '罗湖区布心/未知年建成', 'tagList': ['近地铁3号线(龙岗线)水贝站'], 'price': '暂无', 'sellCount': '0'}\n",
      "{'title': '外贸住宅小区', 'url': 'https://sz.lianjia.com/xiaoqu/2414008384784905/', 'houseInfo': '90天成交0套\\n      |0套正在出租', 'positionInfo': '罗湖区布心/1993年建成', 'tagList': ['近地铁5号线(环中线)太安站'], 'price': '46384', 'sellCount': '0'}\n"
     ]
    },
    {
     "name": "stdout",
     "output_type": "stream",
     "text": [
      "布心 finished!\n",
      "{'title': '旭飞华达园', 'url': 'https://sz.lianjia.com/xiaoqu/2411048579962/', 'houseInfo': '共311个户型\\n        |\\n            90天成交9套\\n      |6套正在出租', 'positionInfo': '罗湖区百仕达/2001年建成', 'tagList': ['近地铁3号线(龙岗线)田贝站'], 'price': '48416', 'sellCount': '85'}\n",
      "{'title': '百仕达花园二期', 'url': 'https://sz.lianjia.com/xiaoqu/2411048628949/', 'houseInfo': '共161个户型\\n        |\\n            90天成交3套\\n      |7套正在出租', 'positionInfo': '罗湖区百仕达/1999年建成', 'tagList': ['近地铁3号线(龙岗线)田贝站'], 'price': '61053', 'sellCount': '27'}\n",
      "{'title': '翠竹苑', 'url': 'https://sz.lianjia.com/xiaoqu/2411048799871/', 'houseInfo': '共134个户型\\n        |\\n            90天成交1套\\n      |1套正在出租', 'positionInfo': '罗湖区百仕达/1982年建成', 'tagList': ['近地铁3号线(龙岗线)翠竹站'], 'price': '63268', 'sellCount': '10'}\n",
      "{'title': '华达园公寓', 'url': 'https://sz.lianjia.com/xiaoqu/2411048592802/', 'houseInfo': '共152个户型\\n        |\\n            90天成交1套\\n      |4套正在出租', 'positionInfo': '罗湖区百仕达/2002年建成', 'tagList': ['近地铁3号线(龙岗线)水贝站'], 'price': '41552', 'sellCount': '67'}\n",
      "{'title': '阳光绿地家园', 'url': 'https://sz.lianjia.com/xiaoqu/2411048928212/', 'houseInfo': '共129个户型\\n        |\\n            90天成交1套\\n      |6套正在出租', 'positionInfo': '罗湖区百仕达/2007年建成', 'tagList': ['近地铁5号线(环中线)怡景站'], 'price': '57839', 'sellCount': '33'}\n",
      "{'title': '鸿园居', 'url': 'https://sz.lianjia.com/xiaoqu/2411048630942/', 'houseInfo': '共74个户型\\n        |\\n            90天成交2套\\n      |4套正在出租', 'positionInfo': '罗湖区百仕达/2000年建成', 'tagList': ['近地铁5号线(环中线)太安站'], 'price': '49221', 'sellCount': '11'}\n",
      "{'title': '东乐花园', 'url': 'https://sz.lianjia.com/xiaoqu/2411048655937/', 'houseInfo': '共261个户型\\n        |\\n            90天成交2套\\n      |6套正在出租', 'positionInfo': '罗湖区百仕达/1988年建成', 'tagList': ['近地铁5号线(环中线)太安站'], 'price': '44383', 'sellCount': '43'}\n",
      "{'title': '百仕达花园一期', 'url': 'https://sz.lianjia.com/xiaoqu/2411048624217/', 'houseInfo': '90天成交1套\\n      |11套正在出租', 'positionInfo': '罗湖区百仕达/1995年建成', 'tagList': ['近地铁3号线(龙岗线)田贝站'], 'price': '67243', 'sellCount': '34'}\n",
      "{'title': '百仕达东郡', 'url': 'https://sz.lianjia.com/xiaoqu/2411048874348/', 'houseInfo': '90天成交1套\\n      |13套正在出租', 'positionInfo': '罗湖区百仕达/2005年建成', 'tagList': ['近地铁5号线(环中线)太安站'], 'price': '76888', 'sellCount': '41'}\n",
      "{'title': '百仕达乐湖', 'url': 'https://sz.lianjia.com/xiaoqu/2411048876097/', 'houseInfo': '共124个户型\\n        |\\n            90天成交2套\\n      |6套正在出租', 'positionInfo': '罗湖区百仕达/2008年建成', 'tagList': ['近地铁5号线(环中线)太安站'], 'price': '72377', 'sellCount': '26'}\n",
      "{'title': '新港鸿花园', 'url': 'https://sz.lianjia.com/xiaoqu/2411048575583/', 'houseInfo': '90天成交1套\\n      |7套正在出租', 'positionInfo': '罗湖区百仕达/1997年建成', 'tagList': ['近地铁3号线(龙岗线)田贝站'], 'price': '53915', 'sellCount': '43'}\n",
      "{'title': '万事达名苑', 'url': 'https://sz.lianjia.com/xiaoqu/2411048637797/', 'houseInfo': '共125个户型\\n        |\\n            90天成交2套\\n      |10套正在出租', 'positionInfo': '罗湖区百仕达/1999年建成', 'tagList': ['近地铁5号线(环中线)太安站'], 'price': '53622', 'sellCount': '42'}\n",
      "{'title': '翠拥华庭', 'url': 'https://sz.lianjia.com/xiaoqu/2411048798086/', 'houseInfo': '90天成交0套\\n      |1套正在出租', 'positionInfo': '罗湖区百仕达/2000年建成', 'tagList': ['近地铁3号线(龙岗线)田贝站'], 'price': '61740', 'sellCount': '9'}\n",
      "{'title': '泰宁花园', 'url': 'https://sz.lianjia.com/xiaoqu/2411064002494/', 'houseInfo': '共69个户型\\n        |\\n            90天成交1套\\n      |1套正在出租', 'positionInfo': '罗湖区百仕达/1995年建成', 'tagList': ['近地铁5号线(环中线)太安站'], 'price': '45294', 'sellCount': '9'}\n",
      "{'title': '东湖丽苑', 'url': 'https://sz.lianjia.com/xiaoqu/2411048922591/', 'houseInfo': '90天成交1套\\n      |2套正在出租', 'positionInfo': '罗湖区百仕达/1981年建成', 'tagList': ['近地铁5号线(环中线)怡景站'], 'price': '50895', 'sellCount': '8'}\n",
      "{'title': '东安花园', 'url': 'https://sz.lianjia.com/xiaoqu/2411048646648/', 'houseInfo': '90天成交0套\\n      |1套正在出租', 'positionInfo': '罗湖区百仕达/1988年建成', 'tagList': ['近地铁5号线(环中线)太安站'], 'price': '47700', 'sellCount': '5'}\n",
      "{'title': '逸翠园', 'url': 'https://sz.lianjia.com/xiaoqu/2411048796735/', 'houseInfo': '90天成交0套\\n      |2套正在出租', 'positionInfo': '罗湖区百仕达/1999年建成', 'tagList': ['近地铁3号线(龙岗线)田贝站'], 'price': '57910', 'sellCount': '12'}\n",
      "{'title': '叠翠居', 'url': 'https://sz.lianjia.com/xiaoqu/2411048917135/', 'houseInfo': '90天成交1套\\n      |0套正在出租', 'positionInfo': '罗湖区百仕达/2001年建成', 'tagList': [], 'price': '51284', 'sellCount': '4'}\n",
      "{'title': '宝龙苑', 'url': 'https://sz.lianjia.com/xiaoqu/2411048644704/', 'houseInfo': '90天成交1套\\n      |0套正在出租', 'positionInfo': '罗湖区百仕达/1991年建成', 'tagList': ['近地铁5号线(环中线)太安站'], 'price': '53402', 'sellCount': '3'}\n",
      "{'title': '粤海新村', 'url': 'https://sz.lianjia.com/xiaoqu/2411048641408/', 'houseInfo': '90天成交0套\\n      |0套正在出租', 'positionInfo': '罗湖区百仕达/1988年建成', 'tagList': ['近地铁5号线(环中线)太安站'], 'price': '50989', 'sellCount': '5'}\n",
      "{'title': '水贝供电局住宅小区', 'url': 'https://sz.lianjia.com/xiaoqu/2411048634913/', 'houseInfo': '90天成交0套\\n      |0套正在出租', 'positionInfo': '罗湖区百仕达/1987年建成', 'tagList': ['近地铁3号线(龙岗线)田贝站'], 'price': '55121', 'sellCount': '4'}\n",
      "{'title': '金泰名苑', 'url': 'https://sz.lianjia.com/xiaoqu/2411048880258/', 'houseInfo': '共18个户型\\n        |\\n            90天成交0套\\n      |0套正在出租', 'positionInfo': '罗湖区百仕达/2001年建成', 'tagList': ['近地铁5号线(环中线)太安站'], 'price': '50336', 'sellCount': '2'}\n",
      "{'title': '金福大厦', 'url': 'https://sz.lianjia.com/xiaoqu/2411048795541/', 'houseInfo': '90天成交1套\\n      |1套正在出租', 'positionInfo': '罗湖区百仕达/1994年建成', 'tagList': ['近地铁3号线(龙岗线)翠竹站'], 'price': '57354', 'sellCount': '8'}\n",
      "{'title': '翠苑住宅小区', 'url': 'https://sz.lianjia.com/xiaoqu/2411048879196/', 'houseInfo': '90天成交1套\\n      |1套正在出租', 'positionInfo': '罗湖区百仕达/1993年建成', 'tagList': ['近地铁5号线(环中线)太安站'], 'price': '48594', 'sellCount': '3'}\n",
      "{'title': '新丰大厦', 'url': 'https://sz.lianjia.com/xiaoqu/2411048926083/', 'houseInfo': '90天成交1套\\n      |0套正在出租', 'positionInfo': '罗湖区百仕达/1999年建成', 'tagList': ['近地铁5号线(环中线)怡景站'], 'price': '39658', 'sellCount': '8'}\n",
      "{'title': '美思苑大厦', 'url': 'https://sz.lianjia.com/xiaoqu/2411048796005/', 'houseInfo': '共29个户型\\n        |\\n            90天成交1套\\n      |0套正在出租', 'positionInfo': '罗湖区百仕达/1995年建成', 'tagList': ['近地铁3号线(龙岗线)田贝站'], 'price': '51411', 'sellCount': '5'}\n",
      "{'title': '慢性病防治中心罗湖', 'url': 'https://sz.lianjia.com/xiaoqu/2411099635745/', 'houseInfo': '90天成交1套\\n      |0套正在出租', 'positionInfo': '罗湖区百仕达/1992年建成', 'tagList': ['近地铁5号线(环中线)太安站'], 'price': '41667', 'sellCount': '1'}\n",
      "{'title': '东湖医院住宅楼', 'url': 'https://sz.lianjia.com/xiaoqu/248039286452956/', 'houseInfo': '90天成交1套\\n      |1套正在出租', 'positionInfo': '罗湖区百仕达/1988年建成', 'tagList': ['近地铁5号线(环中线)太安站'], 'price': '42140', 'sellCount': '2'}\n",
      "{'title': '翠苑大厦', 'url': 'https://sz.lianjia.com/xiaoqu/2411048879924/', 'houseInfo': '共26个户型\\n        |\\n            90天成交1套\\n      |1套正在出租', 'positionInfo': '罗湖区百仕达/1993年建成', 'tagList': ['近地铁5号线(环中线)太安站'], 'price': '48380', 'sellCount': '6'}\n",
      "{'title': '泰宁小区', 'url': 'https://sz.lianjia.com/xiaoqu/2411750411611230/', 'houseInfo': '90天成交0套\\n      |0套正在出租', 'positionInfo': '罗湖区百仕达/1993年建成', 'tagList': ['近地铁5号线(环中线)太安站'], 'price': '50035', 'sellCount': '3'}\n",
      "{'title': '文康楼', 'url': 'https://sz.lianjia.com/xiaoqu/2412497628180649/', 'houseInfo': '90天成交1套\\n      |1套正在出租', 'positionInfo': '罗湖区百仕达/1996年建成', 'tagList': ['近地铁5号线(环中线)怡景站'], 'price': '47973', 'sellCount': '2'}\n",
      "{'title': '水库市场综合楼', 'url': 'https://sz.lianjia.com/xiaoqu/2411704834732927/', 'houseInfo': '90天成交0套\\n      |0套正在出租', 'positionInfo': '罗湖区百仕达/1998年建成', 'tagList': ['近地铁5号线(环中线)太安站'], 'price': '44183', 'sellCount': '6'}\n",
      "{'title': '太宁路145号', 'url': 'https://sz.lianjia.com/xiaoqu/2411048882003/', 'houseInfo': '90天成交0套\\n      |0套正在出租', 'positionInfo': '罗湖区百仕达/1993年建成', 'tagList': ['近地铁5号线(环中线)太安站'], 'price': '43078', 'sellCount': '0'}\n",
      "{'title': '二十九号大院', 'url': 'https://sz.lianjia.com/xiaoqu/248050112737467/', 'houseInfo': '90天成交0套\\n      |0套正在出租', 'positionInfo': '罗湖区百仕达/1984年建成', 'tagList': ['近地铁3号线(龙岗线)翠竹站'], 'price': '55407', 'sellCount': '4'}\n",
      "{'title': '水库新村', 'url': 'https://sz.lianjia.com/xiaoqu/2411048880793/', 'houseInfo': '90天成交0套\\n      |0套正在出租', 'positionInfo': '罗湖区百仕达/未知年建成', 'tagList': ['近地铁5号线(环中线)太安站'], 'price': '暂无', 'sellCount': '0'}\n",
      "{'title': '传麒东湖名苑', 'url': 'https://sz.lianjia.com/xiaoqu/2414101773038140/', 'houseInfo': '90天成交0套\\n      |0套正在出租', 'positionInfo': '罗湖区百仕达/2016年建成', 'tagList': ['近地铁5号线(环中线)太安站'], 'price': '暂无', 'sellCount': '0'}\n",
      "{'title': '中威联实业有限公司工会宿舍', 'url': 'https://sz.lianjia.com/xiaoqu/2413602582179615/', 'houseInfo': '90天成交0套\\n      |0套正在出租', 'positionInfo': '罗湖区百仕达/1989年建成', 'tagList': ['近地铁5号线(环中线)太安站'], 'price': '48339', 'sellCount': '1'}\n",
      "{'title': '翠竹大厦', 'url': 'https://sz.lianjia.com/xiaoqu/248255292321994/', 'houseInfo': '90天成交0套\\n      |0套正在出租', 'positionInfo': '罗湖区百仕达/未知年建成', 'tagList': [], 'price': '52636', 'sellCount': '0'}\n",
      "{'title': '太明居', 'url': 'https://sz.lianjia.com/xiaoqu/248938563055178/', 'houseInfo': '90天成交0套\\n      |0套正在出租', 'positionInfo': '罗湖区百仕达/1994年建成', 'tagList': ['近地铁3号线(龙岗线)田贝站'], 'price': '42821', 'sellCount': '0'}\n",
      "{'title': '康宁医院宿舍楼', 'url': 'https://sz.lianjia.com/xiaoqu/2413152954625767/', 'houseInfo': '90天成交0套\\n      |0套正在出租', 'positionInfo': '罗湖区百仕达/1988年建成', 'tagList': ['近地铁3号线(龙岗线)田贝站'], 'price': '42400', 'sellCount': '0'}\n",
      "{'title': '太安路88号', 'url': 'https://sz.lianjia.com/xiaoqu/2411048635648/', 'houseInfo': '90天成交0套\\n      |0套正在出租', 'positionInfo': '罗湖区百仕达/1987年建成', 'tagList': ['近地铁5号线(环中线)太安站'], 'price': '46656', 'sellCount': '0'}\n",
      "{'title': '新岭山庄', 'url': 'https://sz.lianjia.com/xiaoqu/2411048926331/', 'houseInfo': '90天成交0套\\n      |0套正在出租', 'positionInfo': '罗湖区百仕达/未知年建成', 'tagList': [], 'price': '暂无', 'sellCount': '0'}\n",
      "{'title': '公交宿舍', 'url': 'https://sz.lianjia.com/xiaoqu/2411048589255/', 'houseInfo': '90天成交0套\\n      |0套正在出租', 'positionInfo': '罗湖区百仕达/未知年建成', 'tagList': ['近地铁3号线(龙岗线)田贝站'], 'price': '44738', 'sellCount': '0'}\n",
      "{'title': '中南大院', 'url': 'https://sz.lianjia.com/xiaoqu/249708172751801/', 'houseInfo': '90天成交0套\\n      |0套正在出租', 'positionInfo': '罗湖区百仕达/未知年建成', 'tagList': ['近地铁3号线(龙岗线)田贝站'], 'price': '暂无', 'sellCount': '0'}\n",
      "{'title': '罗湖区委宿舍', 'url': 'https://sz.lianjia.com/xiaoqu/248215185076644/', 'houseInfo': '90天成交0套\\n      |0套正在出租', 'positionInfo': '罗湖区百仕达/未知年建成', 'tagList': [], 'price': '50034', 'sellCount': '0'}\n",
      "{'title': '大头岭', 'url': 'https://sz.lianjia.com/xiaoqu/2411048791591/', 'houseInfo': '90天成交0套\\n      |0套正在出租', 'positionInfo': '罗湖区百仕达/1994年建成', 'tagList': ['近地铁3号线(龙岗线)田贝站'], 'price': '57840', 'sellCount': '2'}\n",
      "{'title': '联江大厦', 'url': 'https://sz.lianjia.com/xiaoqu/2412363042140214/', 'houseInfo': '90天成交0套\\n      |0套正在出租', 'positionInfo': '罗湖区百仕达/未知年建成', 'tagList': [], 'price': '暂无', 'sellCount': '0'}\n",
      "{'title': '东晓路1022号大院', 'url': 'https://sz.lianjia.com/xiaoqu/2412651498843415/', 'houseInfo': '90天成交0套\\n      |1套正在出租', 'positionInfo': '罗湖区百仕达/未知年建成', 'tagList': ['近地铁5号线(环中线)太安站'], 'price': '暂无', 'sellCount': '0'}\n",
      "{'title': '东晓综合大厦', 'url': 'https://sz.lianjia.com/xiaoqu/2411048630235/', 'houseInfo': '90天成交0套\\n      |0套正在出租', 'positionInfo': '罗湖区百仕达/未知年建成', 'tagList': ['近地铁5号线(环中线)太安站'], 'price': '暂无', 'sellCount': '0'}\n",
      "{'title': '翠竹路1084号', 'url': 'https://sz.lianjia.com/xiaoqu/2411048861875/', 'houseInfo': '90天成交0套\\n      |0套正在出租', 'positionInfo': '罗湖区百仕达/未知年建成', 'tagList': ['近地铁3号线(龙岗线)田贝站'], 'price': '暂无', 'sellCount': '0'}\n",
      "{'title': '东门北路2075号', 'url': 'https://sz.lianjia.com/xiaoqu/2411048866114/', 'houseInfo': '90天成交0套\\n      |0套正在出租', 'positionInfo': '罗湖区百仕达/未知年建成', 'tagList': ['近地铁3号线(龙岗线)翠竹站'], 'price': '暂无', 'sellCount': '0'}\n",
      "{'title': '饮服住宅楼', 'url': 'https://sz.lianjia.com/xiaoqu/2420030741957125/', 'houseInfo': '90天成交0套\\n      |0套正在出租', 'positionInfo': '罗湖区百仕达/未知年建成', 'tagList': [], 'price': '暂无', 'sellCount': '0'}\n",
      "{'title': '东乐南苑', 'url': 'https://sz.lianjia.com/xiaoqu/2420025915202120/', 'houseInfo': '90天成交0套\\n      |0套正在出租', 'positionInfo': '罗湖区百仕达/未知年建成', 'tagList': [], 'price': '暂无', 'sellCount': '0'}\n",
      "{'title': '太宁路147号', 'url': 'https://sz.lianjia.com/xiaoqu/2411048882951/', 'houseInfo': '90天成交0套\\n      |0套正在出租', 'positionInfo': '罗湖区百仕达/未知年建成', 'tagList': ['近地铁5号线(环中线)太安站'], 'price': '暂无', 'sellCount': '0'}\n",
      "{'title': '逸翠大厦', 'url': 'https://sz.lianjia.com/xiaoqu/2414078000770184/', 'houseInfo': '90天成交0套\\n      |0套正在出租', 'positionInfo': '罗湖区百仕达/未知年建成', 'tagList': ['近地铁3号线(龙岗线)田贝站'], 'price': '暂无', 'sellCount': '0'}\n",
      "{'title': '水库新村统建楼', 'url': 'https://sz.lianjia.com/xiaoqu/2411048933453/', 'houseInfo': '90天成交0套\\n      |0套正在出租', 'positionInfo': '罗湖区百仕达/未知年建成', 'tagList': ['近地铁5号线(环中线)太安站'], 'price': '暂无', 'sellCount': '0'}\n",
      "{'title': '高标住宅小区', 'url': 'https://sz.lianjia.com/xiaoqu/2411048794697/', 'houseInfo': '90天成交0套\\n      |0套正在出租', 'positionInfo': '罗湖区百仕达/未知年建成', 'tagList': ['近地铁3号线(龙岗线)翠竹站'], 'price': '暂无', 'sellCount': '0'}\n"
     ]
    },
    {
     "name": "stdout",
     "output_type": "stream",
     "text": [
      "百仕达 finished!\n"
     ]
    }
   ],
   "source": [
    "xiaoqu = get_xiaoqu(area[:2])"
   ]
  },
  {
   "cell_type": "code",
   "execution_count": null,
   "metadata": {},
   "outputs": [],
   "source": []
  }
 ],
 "metadata": {
  "kernelspec": {
   "display_name": "Python 3",
   "language": "python",
   "name": "python3"
  },
  "language_info": {
   "codemirror_mode": {
    "name": "ipython",
    "version": 3
   },
   "file_extension": ".py",
   "mimetype": "text/x-python",
   "name": "python",
   "nbconvert_exporter": "python",
   "pygments_lexer": "ipython3",
   "version": "3.6.4"
  },
  "toc": {
   "base_numbering": 1,
   "nav_menu": {},
   "number_sections": true,
   "sideBar": true,
   "skip_h1_title": false,
   "title_cell": "Table of Contents",
   "title_sidebar": "Contents",
   "toc_cell": false,
   "toc_position": {
    "height": "calc(100% - 180px)",
    "left": "10px",
    "top": "150px",
    "width": "384px"
   },
   "toc_section_display": true,
   "toc_window_display": true
  }
 },
 "nbformat": 4,
 "nbformat_minor": 2
}
