{
 "cells": [
  {
   "cell_type": "code",
   "execution_count": 17,
   "metadata": {},
   "outputs": [],
   "source": [
    "import tensorflow as tf\n",
    "import numpy as np\n",
    "import matplotlib.pyplot as plt\n",
    "import pandas as pd\n",
    "mnist = tf.keras.datasets.mnist\n",
    "\n",
    "%matplotlib inline"
   ]
  },
  {
   "cell_type": "code",
   "execution_count": 18,
   "metadata": {},
   "outputs": [],
   "source": [
    "(x_train, y_train),(x_test, y_test) = mnist.load_data()\n",
    "x_train, x_test = x_train / 255.0, x_test / 255.0"
   ]
  },
  {
   "cell_type": "code",
   "execution_count": 19,
   "metadata": {},
   "outputs": [
    {
     "data": {
      "text/plain": [
       "(60000, 28, 28)"
      ]
     },
     "execution_count": 19,
     "metadata": {},
     "output_type": "execute_result"
    }
   ],
   "source": [
    "x_train.shape"
   ]
  },
  {
   "cell_type": "code",
   "execution_count": 20,
   "metadata": {},
   "outputs": [],
   "source": [
    "x_train = x_train.reshape(x_train.shape[0], 28, 28, 1)\n",
    "x_test = x_test.reshape(x_test.shape[0], 28, 28, 1)"
   ]
  },
  {
   "cell_type": "code",
   "execution_count": 21,
   "metadata": {},
   "outputs": [
    {
     "data": {
      "text/plain": [
       "(60000, 28, 28, 1)"
      ]
     },
     "execution_count": 21,
     "metadata": {},
     "output_type": "execute_result"
    }
   ],
   "source": [
    "x_train.shape"
   ]
  },
  {
   "cell_type": "markdown",
   "metadata": {},
   "source": [
    "# 大名鼎鼎的LeNet"
   ]
  },
  {
   "cell_type": "code",
   "execution_count": 12,
   "metadata": {},
   "outputs": [],
   "source": [
    "model = tf.keras.models.Sequential([\n",
    "    tf.keras.layers.Conv2D(6,(5,5),padding='same',input_shape=(28,28,1),activation='relu'),\n",
    "    tf.keras.layers.MaxPool2D(pool_size=(2,2)),\n",
    "    tf.keras.layers.Conv2D(16,(5,5),padding='same',activation='relu'),\n",
    "    tf.keras.layers.MaxPool2D(pool_size=(2,2)),\n",
    "    tf.keras.layers.Conv2D(120,(5,5),padding='same',activation='relu'),\n",
    "    tf.keras.layers.MaxPool2D(pool_size=(2,2)),\n",
    "    tf.keras.layers.Dropout(0.2),\n",
    "    tf.keras.layers.Flatten(),\n",
    "    tf.keras.layers.Dense(84, activation='relu'),\n",
    "    tf.keras.layers.Dropout(0.2),\n",
    "    tf.keras.layers.Dense(10, activation='softmax')\n",
    "])"
   ]
  },
  {
   "cell_type": "code",
   "execution_count": 14,
   "metadata": {},
   "outputs": [
    {
     "name": "stdout",
     "output_type": "stream",
     "text": [
      "_________________________________________________________________\n",
      "Layer (type)                 Output Shape              Param #   \n",
      "=================================================================\n",
      "conv2d_3 (Conv2D)            (None, 28, 28, 6)         156       \n",
      "_________________________________________________________________\n",
      "max_pooling2d_3 (MaxPooling2 (None, 14, 14, 6)         0         \n",
      "_________________________________________________________________\n",
      "conv2d_4 (Conv2D)            (None, 14, 14, 16)        2416      \n",
      "_________________________________________________________________\n",
      "max_pooling2d_4 (MaxPooling2 (None, 7, 7, 16)          0         \n",
      "_________________________________________________________________\n",
      "conv2d_5 (Conv2D)            (None, 7, 7, 120)         48120     \n",
      "_________________________________________________________________\n",
      "max_pooling2d_5 (MaxPooling2 (None, 3, 3, 120)         0         \n",
      "_________________________________________________________________\n",
      "dropout_2 (Dropout)          (None, 3, 3, 120)         0         \n",
      "_________________________________________________________________\n",
      "flatten_1 (Flatten)          (None, 1080)              0         \n",
      "_________________________________________________________________\n",
      "dense_2 (Dense)              (None, 84)                90804     \n",
      "_________________________________________________________________\n",
      "dropout_3 (Dropout)          (None, 84)                0         \n",
      "_________________________________________________________________\n",
      "dense_3 (Dense)              (None, 10)                850       \n",
      "=================================================================\n",
      "Total params: 142,346\n",
      "Trainable params: 142,346\n",
      "Non-trainable params: 0\n",
      "_________________________________________________________________\n"
     ]
    }
   ],
   "source": [
    "model.summary()"
   ]
  },
  {
   "cell_type": "code",
   "execution_count": 15,
   "metadata": {},
   "outputs": [],
   "source": [
    "model.compile(optimizer='adam',\n",
    "              loss='sparse_categorical_crossentropy',\n",
    "              metrics=['accuracy'])"
   ]
  },
  {
   "cell_type": "code",
   "execution_count": 16,
   "metadata": {},
   "outputs": [
    {
     "name": "stdout",
     "output_type": "stream",
     "text": [
      "Train on 45000 samples, validate on 15000 samples\n",
      "Epoch 1/5\n",
      "45000/45000 [==============================] - 22s 499us/sample - loss: 0.3452 - acc: 0.8911 - val_loss: 0.0853 - val_acc: 0.9727\n",
      "Epoch 2/5\n",
      "45000/45000 [==============================] - 22s 490us/sample - loss: 0.0883 - acc: 0.9729 - val_loss: 0.0557 - val_acc: 0.9823\n",
      "Epoch 3/5\n",
      "45000/45000 [==============================] - 22s 489us/sample - loss: 0.0584 - acc: 0.9820 - val_loss: 0.0543 - val_acc: 0.9834\n",
      "Epoch 4/5\n",
      "45000/45000 [==============================] - 22s 489us/sample - loss: 0.0481 - acc: 0.9850 - val_loss: 0.0433 - val_acc: 0.9866\n",
      "Epoch 5/5\n",
      "45000/45000 [==============================] - 22s 491us/sample - loss: 0.0394 - acc: 0.9874 - val_loss: 0.0387 - val_acc: 0.9881\n",
      "10000/10000 [==============================] - 2s 226us/sample - loss: 0.0278 - acc: 0.9902\n"
     ]
    },
    {
     "data": {
      "text/plain": [
       "[0.02782724884937634, 0.9902]"
      ]
     },
     "execution_count": 16,
     "metadata": {},
     "output_type": "execute_result"
    }
   ],
   "source": [
    "history = model.fit(x_train, y_train, epochs=5, batch_size=128,validation_split=0.25)\n",
    "model.evaluate(x_test, y_test)"
   ]
  },
  {
   "cell_type": "code",
   "execution_count": 23,
   "metadata": {},
   "outputs": [
    {
     "data": {
      "text/plain": [
       "<matplotlib.axes._subplots.AxesSubplot at 0x1d9c2188e10>"
      ]
     },
     "execution_count": 23,
     "metadata": {},
     "output_type": "execute_result"
    },
    {
     "data": {
      "image/png": "[encoded data removed]",
      "text/plain": [
       "<Figure size 432x288 with 1 Axes>"
      ]
     },
     "metadata": {
      "needs_background": "light"
     },
     "output_type": "display_data"
    }
   ],
   "source": [
    "pd.DataFrame(history.history).plot()"
   ]
  },
  {
   "cell_type": "markdown",
   "metadata": {},
   "source": [
    "# AlexNet"
   ]
  },
  {
   "cell_type": "raw",
   "metadata": {},
   "source": [
    "AlexNet 比较经典的思想是\n",
    "(1)提出了LRN层，对局部神经元的活动创建竞争机制，使得其中响应比较大的值变得相对更大，并抑制其他反馈较小的神经元，增强了模型的泛化能力。\n",
    "(2)使用Dropout随机忽略一部分神经元，以避免模型过拟合。\n",
    "然而在keras中没有已经实现的LRN层，我们需要利用tensorflow和keras手动构建LRN层\n",
    "\n",
    "编写自己的Layers\n",
    "你只需要实现三个方法即可:\n",
    "\n",
    "build(input_shape): 这是你定义权重的地方。这个方法必须设 self.built = True，可以通过调用 super([Layer], self).build() 完成。\n",
    "call(x): 这里是编写层的功能逻辑的地方。你只需要关注传入 call 的第一个参数：输入张量，除非你希望你的层支持masking。\n",
    "compute_output_shape(input_shape): 如果你的层更改了输入张量的形状，你应该在这里定义形状变化的逻辑，这让Keras能够自动推断各层的形状。"
   ]
  },
  {
   "cell_type": "code",
   "execution_count": 30,
   "metadata": {},
   "outputs": [],
   "source": [
    "class LRN(tf.keras.layers.Layer):\n",
    "    def build(self,input_shape):\n",
    "        # lrn 没有需要定义的权重\n",
    "        self.built=True\n",
    "    def call(self,x):\n",
    "        # 调用tensorflow库中的lrn方法\n",
    "        return tf.nn.local_response_normalization(x,\n",
    "                                                  depth_radius=2,\n",
    "                                                  alpha=2e-05,\n",
    "                                                  beta=0.75,\n",
    "                                                  bias=1.0)\n",
    "    def compute_output_shape(self,input_shape):\n",
    "        # 返回修改后的形状（这里因为形状没有发生变化，直接返回即可）\n",
    "        return input_shape"
   ]
  },
  {
   "cell_type": "code",
   "execution_count": 33,
   "metadata": {},
   "outputs": [],
   "source": [
    "model = tf.keras.models.Sequential([\n",
    "    tf.keras.layers.Conv2D(64,(11,11),padding='same',input_shape=(28,28,1),activation='relu'),\n",
    "    tf.keras.layers.MaxPool2D(pool_size=(2,2)),\n",
    "    LRN(),\n",
    "    tf.keras.layers.Conv2D(192,(5,5),padding='same',activation='relu'),\n",
    "    tf.keras.layers.MaxPool2D(pool_size=(2,2)),\n",
    "    LRN(),\n",
    "    tf.keras.layers.Conv2D(384,(3,3),padding='same',activation='relu'),\n",
    "    tf.keras.layers.Conv2D(384,(3,3),padding='same',activation='relu'),\n",
    "    tf.keras.layers.Conv2D(256,(3,3),padding='same',activation='relu'),\n",
    "    tf.keras.layers.MaxPool2D(pool_size=(2,2)),\n",
    "    tf.keras.layers.Flatten(),\n",
    "    \n",
    "    tf.keras.layers.Dense(4096, activation='relu'),\n",
    "    tf.keras.layers.Dropout(0.2),\n",
    "    tf.keras.layers.Dense(4096, activation='relu'),\n",
    "    tf.keras.layers.Dropout(0.2),\n",
    "    tf.keras.layers.Dense(10,activation='softmax')\n",
    "])"
   ]
  },
  {
   "cell_type": "code",
   "execution_count": 34,
   "metadata": {},
   "outputs": [
    {
     "name": "stdout",
     "output_type": "stream",
     "text": [
      "_________________________________________________________________\n",
      "Layer (type)                 Output Shape              Param #   \n",
      "=================================================================\n",
      "conv2d_11 (Conv2D)           (None, 28, 28, 64)        7808      \n",
      "_________________________________________________________________\n",
      "max_pooling2d_9 (MaxPooling2 (None, 14, 14, 64)        0         \n",
      "_________________________________________________________________\n",
      "lrn_2 (LRN)                  (None, 14, 14, 64)        0         \n",
      "_________________________________________________________________\n",
      "conv2d_12 (Conv2D)           (None, 14, 14, 192)       307392    \n",
      "_________________________________________________________________\n",
      "max_pooling2d_10 (MaxPooling (None, 7, 7, 192)         0         \n",
      "_________________________________________________________________\n",
      "lrn_3 (LRN)                  (None, 7, 7, 192)         0         \n",
      "_________________________________________________________________\n",
      "conv2d_13 (Conv2D)           (None, 7, 7, 384)         663936    \n",
      "_________________________________________________________________\n",
      "conv2d_14 (Conv2D)           (None, 7, 7, 384)         1327488   \n",
      "_________________________________________________________________\n",
      "conv2d_15 (Conv2D)           (None, 7, 7, 256)         884992    \n",
      "_________________________________________________________________\n",
      "max_pooling2d_11 (MaxPooling (None, 3, 3, 256)         0         \n",
      "_________________________________________________________________\n",
      "flatten_3 (Flatten)          (None, 2304)              0         \n",
      "_________________________________________________________________\n",
      "dense_7 (Dense)              (None, 4096)              9441280   \n",
      "_________________________________________________________________\n",
      "dropout_6 (Dropout)          (None, 4096)              0         \n",
      "_________________________________________________________________\n",
      "dense_8 (Dense)              (None, 4096)              16781312  \n",
      "_________________________________________________________________\n",
      "dropout_7 (Dropout)          (None, 4096)              0         \n",
      "_________________________________________________________________\n",
      "dense_9 (Dense)              (None, 10)                40970     \n",
      "=================================================================\n",
      "Total params: 29,455,178\n",
      "Trainable params: 29,455,178\n",
      "Non-trainable params: 0\n",
      "_________________________________________________________________\n"
     ]
    }
   ],
   "source": [
    "model.summary()"
   ]
  },
  {
   "cell_type": "code",
   "execution_count": 35,
   "metadata": {},
   "outputs": [],
   "source": [
    "model.compile(optimizer='adam',\n",
    "              loss='sparse_categorical_crossentropy',\n",
    "              metrics=['accuracy'])"
   ]
  },
  {
   "cell_type": "code",
   "execution_count": 36,
   "metadata": {},
   "outputs": [
    {
     "name": "stdout",
     "output_type": "stream",
     "text": [
      "Train on 45000 samples, validate on 15000 samples\n",
      "Epoch 1/5\n",
      "45000/45000 [==============================] - 744s 17ms/sample - loss: 0.4148 - acc: 0.8556 - val_loss: 0.0976 - val_acc: 0.9683\n",
      "Epoch 2/5\n",
      "45000/45000 [==============================] - 750s 17ms/sample - loss: 0.0667 - acc: 0.9805 - val_loss: 0.0606 - val_acc: 0.9819\n",
      "Epoch 3/5\n",
      "45000/45000 [==============================] - 737s 16ms/sample - loss: 0.0503 - acc: 0.9851 - val_loss: 0.0767 - val_acc: 0.9775\n",
      "Epoch 4/5\n",
      "45000/45000 [==============================] - 740s 16ms/sample - loss: 0.0397 - acc: 0.9880 - val_loss: 0.0459 - val_acc: 0.9869\n",
      "Epoch 5/5\n",
      "45000/45000 [==============================] - 738s 16ms/sample - loss: 0.0331 - acc: 0.9898 - val_loss: 0.0513 - val_acc: 0.9857\n",
      "10000/10000 [==============================] - 35s 3ms/sample - loss: 0.0423 - acc: 0.9887\n"
     ]
    },
    {
     "data": {
      "text/plain": [
       "[0.04226039927528764, 0.9887]"
      ]
     },
     "execution_count": 36,
     "metadata": {},
     "output_type": "execute_result"
    }
   ],
   "source": [
    "history = model.fit(x_train, y_train, epochs=5, batch_size=128,validation_split=0.25)\n",
    "model.evaluate(x_test, y_test)"
   ]
  },
  {
   "cell_type": "code",
   "execution_count": null,
   "metadata": {},
   "outputs": [],
   "source": [
    "# 在mnist数据集上，alexnet的优势并不明显，但在部分其他任务上，alexnet将会有比较明显的优势"
   ]
  },
  {
   "cell_type": "markdown",
   "metadata": {},
   "source": [
    "# 其他的一些经典神经网络架构"
   ]
  },
  {
   "cell_type": "markdown",
   "metadata": {},
   "source": [
    "Resnet"
   ]
  },
  {
   "cell_type": "code",
   "execution_count": null,
   "metadata": {},
   "outputs": [],
   "source": [
    "https://www.jianshu.com/p/acf4c3586031"
   ]
  },
  {
   "cell_type": "code",
   "execution_count": 66,
   "metadata": {},
   "outputs": [],
   "source": [
    "import keras"
   ]
  },
  {
   "cell_type": "code",
   "execution_count": 121,
   "metadata": {},
   "outputs": [],
   "source": [
    "class identity_bolck(tf.keras.layers.Layer):\n",
    "    # 输入输出大小相同\n",
    "    def __init__(self,nb_filter,kernel_size=3,**kwargs):\n",
    "        super(identity_bolck,self).__init__(**kwargs)\n",
    "        self.nb_filter=nb_filter\n",
    "        self.kernel_size=kernel_size\n",
    "    def build(self,input_shape):\n",
    "        self.in_filter=input_shape[-1]\n",
    "        self.built=True\n",
    "    def call(self,input_tensor):\n",
    "        k1,k2,k3 = self.nb_filter\n",
    "        out = tf.keras.layers.Conv2D(k1,1,strides=(1,1))(input_tensor)\n",
    "        out = tf.keras.layers.BatchNormalization()(out)\n",
    "        out = tf.keras.layers.Activation('relu')(out)\n",
    "\n",
    "        out = tf.keras.layers.Conv2D(k2,self.kernel_size,strides=(1,1),padding='same')(out)\n",
    "        out = tf.keras.layers.BatchNormalization()(out)\n",
    "        out = tf.keras.layers.Activation('relu')(out)\n",
    "\n",
    "        out = tf.keras.layers.Conv2D(k3,1,strides=(1,1))(out)\n",
    "        out = tf.keras.layers.BatchNormalization()(out)\n",
    "        \n",
    "        out = tf.keras.layers.add([out,input_tensor])\n",
    "        out = tf.keras.layers.Activation('relu')(out)\n",
    "        return out\n",
    "    def compute_output_shape(self,input_shape):\n",
    "        t=input_shape[:]\n",
    "        t[3]=self.nb_filter[-1]\n",
    "        return t\n",
    "class conv_bolck(tf.keras.layers.Layer):\n",
    "    # 输入输出大小相同\n",
    "    def __init__(self,nb_filter,kernel_size=3,strides=1,**kwargs):\n",
    "        super(conv_bolck,self).__init__(**kwargs)\n",
    "        self.nb_filter=nb_filter\n",
    "        self.kernel_size=kernel_size\n",
    "        self.strides=strides\n",
    "    def build(self,input_shape):\n",
    "        self.in_filter=input_shape[-1]\n",
    "        self.built=True\n",
    "    def call(self,input_tensor):\n",
    "        k1,k2,k3 = self.nb_filter\n",
    "        out = tf.keras.layers.Conv2D(k1,1,strides=self.strides)(input_tensor)\n",
    "        out = tf.keras.layers.BatchNormalization()(out)\n",
    "        out = tf.keras.layers.Activation('relu')(out)\n",
    "\n",
    "        out = tf.keras.layers.Conv2D(k2,self.kernel_size,padding='same')(out)\n",
    "        out = tf.keras.layers.BatchNormalization()(out)\n",
    "        out = tf.keras.layers.Activation('relu')(out)\n",
    "\n",
    "        out = tf.keras.layers.Conv2D(k3,1,strides=(1,1))(out)\n",
    "        out = tf.keras.layers.BatchNormalization()(out)\n",
    "        \n",
    "        x = tf.keras.layers.Conv2D(k3,kernel_size=1,strides=self.strides)(input_tensor)\n",
    "        x = tf.keras.layers.BatchNormalization()(x)\n",
    "        out = tf.keras.layers.add([out,x])\n",
    "        out = tf.keras.layers.Activation('relu')(out)\n",
    "        return out\n",
    "    def compute_output_shape(self,input_shape):\n",
    "        t=input_shape[:]\n",
    "        t[1]=t[1]//self.strides\n",
    "        t[2]=t[2]//self.strides\n",
    "        t[3]=self.nb_filter[-1]\n",
    "        \n",
    "        return t"
   ]
  },
  {
   "cell_type": "code",
   "execution_count": 130,
   "metadata": {
    "scrolled": false
   },
   "outputs": [
    {
     "name": "stdout",
     "output_type": "stream",
     "text": [
      "_________________________________________________________________\n",
      "Layer (type)                 Output Shape              Param #   \n",
      "=================================================================\n",
      "conv2d_371 (Conv2D)          (None, 112, 112, 64)      9472      \n",
      "_________________________________________________________________\n",
      "batch_normalization_v1_354 ( (None, 112, 112, 64)      256       \n",
      "_________________________________________________________________\n",
      "activation_315 (Activation)  (None, 112, 112, 64)      0         \n",
      "_________________________________________________________________\n",
      "max_pooling2d_53 (MaxPooling (None, 56, 56, 64)        0         \n",
      "_________________________________________________________________\n",
      "conv_bolck_32 (conv_bolck)   (None, 56, 56, 256)       0         \n",
      "_________________________________________________________________\n",
      "identity_bolck_87 (identity_ (None, 56, 56, 256)       0         \n",
      "_________________________________________________________________\n",
      "identity_bolck_88 (identity_ (None, 56, 56, 256)       0         \n",
      "_________________________________________________________________\n",
      "conv_bolck_33 (conv_bolck)   (None, 28, 28, 512)       0         \n",
      "_________________________________________________________________\n",
      "identity_bolck_89 (identity_ (None, 28, 28, 512)       0         \n",
      "_________________________________________________________________\n",
      "identity_bolck_90 (identity_ (None, 28, 28, 512)       0         \n",
      "_________________________________________________________________\n",
      "identity_bolck_91 (identity_ (None, 28, 28, 512)       0         \n",
      "_________________________________________________________________\n",
      "conv_bolck_34 (conv_bolck)   (None, 14, 14, 1024)      0         \n",
      "_________________________________________________________________\n",
      "identity_bolck_92 (identity_ (None, 14, 14, 1024)      0         \n",
      "_________________________________________________________________\n",
      "identity_bolck_93 (identity_ (None, 14, 14, 1024)      0         \n",
      "_________________________________________________________________\n",
      "identity_bolck_94 (identity_ (None, 14, 14, 1024)      0         \n",
      "_________________________________________________________________\n",
      "identity_bolck_95 (identity_ (None, 14, 14, 1024)      0         \n",
      "_________________________________________________________________\n",
      "identity_bolck_96 (identity_ (None, 14, 14, 1024)      0         \n",
      "_________________________________________________________________\n",
      "conv_bolck_35 (conv_bolck)   (None, 7, 7, 2048)        0         \n",
      "_________________________________________________________________\n",
      "identity_bolck_97 (identity_ (None, 7, 7, 2048)        0         \n",
      "_________________________________________________________________\n",
      "identity_bolck_98 (identity_ (None, 7, 7, 2048)        0         \n",
      "_________________________________________________________________\n",
      "average_pooling2d_1 (Average (None, 1, 1, 2048)        0         \n",
      "_________________________________________________________________\n",
      "flatten_6 (Flatten)          (None, 2048)              0         \n",
      "_________________________________________________________________\n",
      "dense_8 (Dense)              (None, 1000)              2049000   \n",
      "=================================================================\n",
      "Total params: 2,058,728\n",
      "Trainable params: 2,058,600\n",
      "Non-trainable params: 128\n",
      "_________________________________________________________________\n"
     ]
    }
   ],
   "source": [
    "model = tf.keras.models.Sequential([\n",
    "    tf.keras.layers.Conv2D(64,(7,7),(2,2),padding='same',input_shape=(224,224,3),activation='relu'),\n",
    "    tf.keras.layers.BatchNormalization(),\n",
    "    tf.keras.layers.Activation('relu'),\n",
    "    tf.keras.layers.MaxPool2D((3,3),strides=(2,2),padding='same'),\n",
    "    conv_bolck([64,64,256],3),\n",
    "    identity_bolck([64,64,256],3),\n",
    "    identity_bolck([64,64,256],3),\n",
    "    conv_bolck([128,128,512],3,2),\n",
    "    identity_bolck([128,128,512],3),\n",
    "    identity_bolck([128,128,512],3),\n",
    "    identity_bolck([128,128,512],3),\n",
    "    conv_bolck([256,256,1024],3,2),\n",
    "    identity_bolck([256,256,1024],3),\n",
    "    identity_bolck([256,256,1024],3),\n",
    "    identity_bolck([256,256,1024],3),\n",
    "    identity_bolck([256,256,1024],3),\n",
    "    identity_bolck([256,256,1024],3),\n",
    "    conv_bolck([512,512,2048],3,2),\n",
    "    identity_bolck([512,512,2048],3),\n",
    "    identity_bolck([512,512,2048],3),\n",
    "    tf.keras.layers.AvgPool2D(pool_size=(7,7),strides=(1,1)),\n",
    "    tf.keras.layers.Flatten(),\n",
    "    tf.keras.layers.Dense(1000),\n",
    "])\n",
    "model.summary()"
   ]
  },
  {
   "cell_type": "code",
   "execution_count": null,
   "metadata": {},
   "outputs": [],
   "source": []
  }
 ],
 "metadata": {
  "kernelspec": {
   "display_name": "Python 3",
   "language": "python",
   "name": "python3"
  },
  "language_info": {
   "codemirror_mode": {
    "name": "ipython",
    "version": 3
   },
   "file_extension": ".py",
   "mimetype": "text/x-python",
   "name": "python",
   "nbconvert_exporter": "python",
   "pygments_lexer": "ipython3",
   "version": "3.6.4"
  },
  "toc": {
   "base_numbering": 1,
   "nav_menu": {},
   "number_sections": true,
   "sideBar": true,
   "skip_h1_title": false,
   "title_cell": "Table of Contents",
   "title_sidebar": "Contents",
   "toc_cell": false,
   "toc_position": {
    "height": "calc(100% - 180px)",
    "left": "10px",
    "top": "150px",
    "width": "165px"
   },
   "toc_section_display": true,
   "toc_window_display": true
  }
 },
 "nbformat": 4,
 "nbformat_minor": 2
}
