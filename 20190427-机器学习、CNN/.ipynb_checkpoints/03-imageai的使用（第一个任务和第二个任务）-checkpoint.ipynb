{
 "cells": [
  {
   "cell_type": "code",
   "execution_count": 2,
   "metadata": {},
   "outputs": [
    {
     "name": "stderr",
     "output_type": "stream",
     "text": [
      "C:\\Anaconda3\\lib\\site-packages\\h5py\\__init__.py:36: FutureWarning: Conversion of the second argument of issubdtype from `float` to `np.floating` is deprecated. In future, it will be treated as `np.float64 == np.dtype(float).type`.\n",
      "  from ._conv import register_converters as _register_converters\n",
      "Using TensorFlow backend.\n"
     ]
    }
   ],
   "source": [
    "from imageai.Detection import ObjectDetection"
   ]
  },
  {
   "cell_type": "code",
   "execution_count": 8,
   "metadata": {},
   "outputs": [
    {
     "name": "stdout",
     "output_type": "stream",
     "text": [
      "[{'name': 'car', 'percentage_probability': '33.15794765949249'}, {'name': 'car', 'percentage_probability': '59.384530782699585'}, {'name': 'car', 'percentage_probability': '38.035428524017334'}, {'name': 'car', 'percentage_probability': '37.95238137245178'}, {'name': 'car', 'percentage_probability': '35.90690195560455'}, {'name': 'car', 'percentage_probability': '70.81351280212402'}, {'name': 'car', 'percentage_probability': '80.04319667816162'}, {'name': 'car', 'percentage_probability': '87.28276491165161'}]\n"
     ]
    }
   ],
   "source": [
    "# 图像预测的文档链接\n",
    "# https://github.com/OlafenwaMoses/ImageAI/tree/master/imageai/Prediction\n",
    "\n",
    "image_path = 'imageai/example.jpg'\n",
    "\n",
    "detector = ObjectDetection()\n",
    "detector.setModelTypeAsRetinaNet()\n",
    "detector.setModelPath('imageai/yolo-tiny.h5')\n",
    "detector.loadModel()\n",
    "# 默认的物体检测（检测所有物体）\n",
    "# detections = detector.detectObjectsFromImage(input_image=image_path, #定义输入路径\n",
    "#                                              output_image_path='imageai/result.jpg',#定义结果输出图片\n",
    "#                                              minimum_percentage_probability=30 )# 定义概率阈值\n",
    "# 自定义需要检测的物体\n",
    "# person,   bicycle,   car,   motorcycle,   airplane,\n",
    "# bus,   train,   truck,   boat,   traffic light,   fire hydrant,   stop_sign,\n",
    "# parking meter,   bench,   bird,   cat,   dog,   horse,   sheep,   cow,   elephant,   bear,   zebra,\n",
    "# giraffe,   backpack,   umbrella,   handbag,   tie,   suitcase,   frisbee,   skis,   snowboard,\n",
    "# sports ball,   kite,   baseball bat,   baseball glove,   skateboard,   surfboard,   tennis racket,\n",
    "# bottle,   wine glass,   cup,   fork,   knife,   spoon,   bowl,   banana,   apple,   sandwich,   orange,\n",
    "# broccoli,   carrot,   hot dog,   pizza,   donot,   cake,   chair,   couch,   potted plant,   bed,\n",
    "# dining table,   toilet,   tv,   laptop,   mouse,   remote,   keyboard,   cell phone,   microwave,\n",
    "# oven,   toaster,   sink,   refrigerator,   book,   clock,   vase,   scissors,   teddy bear,   hair dryer,\n",
    "# toothbrush.\n",
    "####################################################################################\n",
    "custom_objects = detector.CustomObjects(car=True, motorcycle=True)\n",
    "detections = detector.detectCustomObjectsFromImage(custom_objects=custom_objects,\n",
    "                                             input_image=image_path, #定义输入路径\n",
    "                                             output_image_path='imageai/result.jpg',#定义结果输出图片\n",
    "                                             minimum_percentage_probability=30 )# 定义概率阈值\n",
    "####################################################################################\n",
    "print(detections)"
   ]
  },
  {
   "cell_type": "code",
   "execution_count": null,
   "metadata": {},
   "outputs": [],
   "source": []
  }
 ],
 "metadata": {
  "kernelspec": {
   "display_name": "Python 3",
   "language": "python",
   "name": "python3"
  },
  "language_info": {
   "codemirror_mode": {
    "name": "ipython",
    "version": 3
   },
   "file_extension": ".py",
   "mimetype": "text/x-python",
   "name": "python",
   "nbconvert_exporter": "python",
   "pygments_lexer": "ipython3",
   "version": "3.6.4"
  },
  "toc": {
   "base_numbering": 1,
   "nav_menu": {},
   "number_sections": true,
   "sideBar": true,
   "skip_h1_title": false,
   "title_cell": "Table of Contents",
   "title_sidebar": "Contents",
   "toc_cell": false,
   "toc_position": {},
   "toc_section_display": true,
   "toc_window_display": false
  }
 },
 "nbformat": 4,
 "nbformat_minor": 2
}
